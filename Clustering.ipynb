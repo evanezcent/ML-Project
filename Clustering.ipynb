{
 "cells": [
  {
   "cell_type": "code",
   "execution_count": 1,
   "metadata": {},
   "outputs": [],
   "source": [
    "import pandas as pd\n",
    "import numpy as np\n",
    "from sklearn.model_selection import train_test_split\n",
    "import seaborn as sns\n",
    "sns.set_style(\"whitegrid\")\n",
    "import matplotlib.pyplot as plt\n",
    "%matplotlib inline  \n",
    "import matplotlib as mpl"
   ]
  },
  {
   "cell_type": "code",
   "execution_count": 2,
   "metadata": {},
   "outputs": [],
   "source": [
    "data = pd.read_csv('clustering-datasets.csv')"
   ]
  },
  {
   "cell_type": "code",
   "execution_count": 3,
   "metadata": {},
   "outputs": [
    {
     "data": {
      "text/html": [
       "<div>\n",
       "<style scoped>\n",
       "    .dataframe tbody tr th:only-of-type {\n",
       "        vertical-align: middle;\n",
       "    }\n",
       "\n",
       "    .dataframe tbody tr th {\n",
       "        vertical-align: top;\n",
       "    }\n",
       "\n",
       "    .dataframe thead th {\n",
       "        text-align: right;\n",
       "    }\n",
       "</style>\n",
       "<table border=\"1\" class=\"dataframe\">\n",
       "  <thead>\n",
       "    <tr style=\"text-align: right;\">\n",
       "      <th></th>\n",
       "      <th>overall</th>\n",
       "      <th>potential</th>\n",
       "    </tr>\n",
       "  </thead>\n",
       "  <tbody>\n",
       "    <tr>\n",
       "      <th>0</th>\n",
       "      <td>94</td>\n",
       "      <td>94</td>\n",
       "    </tr>\n",
       "    <tr>\n",
       "      <th>1</th>\n",
       "      <td>93</td>\n",
       "      <td>93</td>\n",
       "    </tr>\n",
       "    <tr>\n",
       "      <th>2</th>\n",
       "      <td>92</td>\n",
       "      <td>92</td>\n",
       "    </tr>\n",
       "    <tr>\n",
       "      <th>3</th>\n",
       "      <td>91</td>\n",
       "      <td>93</td>\n",
       "    </tr>\n",
       "    <tr>\n",
       "      <th>4</th>\n",
       "      <td>91</td>\n",
       "      <td>91</td>\n",
       "    </tr>\n",
       "    <tr>\n",
       "      <th>...</th>\n",
       "      <td>...</td>\n",
       "      <td>...</td>\n",
       "    </tr>\n",
       "    <tr>\n",
       "      <th>18273</th>\n",
       "      <td>48</td>\n",
       "      <td>56</td>\n",
       "    </tr>\n",
       "    <tr>\n",
       "      <th>18274</th>\n",
       "      <td>48</td>\n",
       "      <td>56</td>\n",
       "    </tr>\n",
       "    <tr>\n",
       "      <th>18275</th>\n",
       "      <td>48</td>\n",
       "      <td>56</td>\n",
       "    </tr>\n",
       "    <tr>\n",
       "      <th>18276</th>\n",
       "      <td>48</td>\n",
       "      <td>54</td>\n",
       "    </tr>\n",
       "    <tr>\n",
       "      <th>18277</th>\n",
       "      <td>48</td>\n",
       "      <td>51</td>\n",
       "    </tr>\n",
       "  </tbody>\n",
       "</table>\n",
       "<p>18278 rows × 2 columns</p>\n",
       "</div>"
      ],
      "text/plain": [
       "       overall  potential\n",
       "0           94         94\n",
       "1           93         93\n",
       "2           92         92\n",
       "3           91         93\n",
       "4           91         91\n",
       "...        ...        ...\n",
       "18273       48         56\n",
       "18274       48         56\n",
       "18275       48         56\n",
       "18276       48         54\n",
       "18277       48         51\n",
       "\n",
       "[18278 rows x 2 columns]"
      ]
     },
     "execution_count": 3,
     "metadata": {},
     "output_type": "execute_result"
    }
   ],
   "source": [
    "data"
   ]
  },
  {
   "cell_type": "code",
   "execution_count": 4,
   "metadata": {},
   "outputs": [
    {
     "data": {
      "text/html": [
       "<div>\n",
       "<style scoped>\n",
       "    .dataframe tbody tr th:only-of-type {\n",
       "        vertical-align: middle;\n",
       "    }\n",
       "\n",
       "    .dataframe tbody tr th {\n",
       "        vertical-align: top;\n",
       "    }\n",
       "\n",
       "    .dataframe thead th {\n",
       "        text-align: right;\n",
       "    }\n",
       "</style>\n",
       "<table border=\"1\" class=\"dataframe\">\n",
       "  <thead>\n",
       "    <tr style=\"text-align: right;\">\n",
       "      <th></th>\n",
       "      <th>overall</th>\n",
       "      <th>potential</th>\n",
       "    </tr>\n",
       "  </thead>\n",
       "  <tbody>\n",
       "    <tr>\n",
       "      <th>count</th>\n",
       "      <td>18278.000000</td>\n",
       "      <td>18278.000000</td>\n",
       "    </tr>\n",
       "    <tr>\n",
       "      <th>mean</th>\n",
       "      <td>66.244994</td>\n",
       "      <td>71.546887</td>\n",
       "    </tr>\n",
       "    <tr>\n",
       "      <th>std</th>\n",
       "      <td>6.949953</td>\n",
       "      <td>6.139669</td>\n",
       "    </tr>\n",
       "    <tr>\n",
       "      <th>min</th>\n",
       "      <td>48.000000</td>\n",
       "      <td>49.000000</td>\n",
       "    </tr>\n",
       "    <tr>\n",
       "      <th>25%</th>\n",
       "      <td>62.000000</td>\n",
       "      <td>67.000000</td>\n",
       "    </tr>\n",
       "    <tr>\n",
       "      <th>50%</th>\n",
       "      <td>66.000000</td>\n",
       "      <td>71.000000</td>\n",
       "    </tr>\n",
       "    <tr>\n",
       "      <th>75%</th>\n",
       "      <td>71.000000</td>\n",
       "      <td>75.000000</td>\n",
       "    </tr>\n",
       "    <tr>\n",
       "      <th>max</th>\n",
       "      <td>94.000000</td>\n",
       "      <td>95.000000</td>\n",
       "    </tr>\n",
       "  </tbody>\n",
       "</table>\n",
       "</div>"
      ],
      "text/plain": [
       "            overall     potential\n",
       "count  18278.000000  18278.000000\n",
       "mean      66.244994     71.546887\n",
       "std        6.949953      6.139669\n",
       "min       48.000000     49.000000\n",
       "25%       62.000000     67.000000\n",
       "50%       66.000000     71.000000\n",
       "75%       71.000000     75.000000\n",
       "max       94.000000     95.000000"
      ]
     },
     "execution_count": 4,
     "metadata": {},
     "output_type": "execute_result"
    }
   ],
   "source": [
    "data.describe()"
   ]
  },
  {
   "cell_type": "code",
   "execution_count": 5,
   "metadata": {},
   "outputs": [
    {
     "data": {
      "text/plain": [
       "overall      0\n",
       "potential    0\n",
       "dtype: int64"
      ]
     },
     "execution_count": 5,
     "metadata": {},
     "output_type": "execute_result"
    }
   ],
   "source": [
    "missing_values = data.isnull().sum()\n",
    "missing_values"
   ]
  },
  {
   "cell_type": "code",
   "execution_count": 6,
   "metadata": {},
   "outputs": [
    {
     "data": {
      "text/plain": [
       "(array([0.5, 1.5]), <a list of 2 Text yticklabel objects>)"
      ]
     },
     "execution_count": 6,
     "metadata": {},
     "output_type": "execute_result"
    },
    {
     "data": {
      "image/png": "[encoded data removed]",
      "text/plain": [
       "<Figure size 720x720 with 2 Axes>"
      ]
     },
     "metadata": {
      "needs_background": "light"
     },
     "output_type": "display_data"
    }
   ],
   "source": [
    "corr = data.select_dtypes(include = ['float64', 'int64']).iloc[:, :].corr()\n",
    "plt.figure(figsize=(10, 10))\n",
    "ax = sns.heatmap(corr, vmax=1, square=True)\n",
    "plt.xticks(rotation=45)\n",
    "plt.yticks(rotation=45)"
   ]
  },
  {
   "cell_type": "code",
   "execution_count": 7,
   "metadata": {},
   "outputs": [],
   "source": [
    "def boxPlot(data1, data2):\n",
    "    mpl.rcParams['figure.dpi'] = 100\n",
    "    plt.figure(figsize=(60, 60))\n",
    "    f, axes = plt.subplots(1, 2)\n",
    "    sns.boxplot(y=data1, ax=axes[0])\n",
    "    sns.boxplot(y=data2, ax=axes[1])\n",
    "    plt.subplots_adjust(wspace=1)"
   ]
  },
  {
   "cell_type": "code",
   "execution_count": 8,
   "metadata": {},
   "outputs": [
    {
     "data": {
      "text/plain": [
       "<Figure size 6000x6000 with 0 Axes>"
      ]
     },
     "metadata": {},
     "output_type": "display_data"
    },
    {
     "data": {
      "image/png": "[encoded data removed]",
      "text/plain": [
       "<Figure size 600x400 with 2 Axes>"
      ]
     },
     "metadata": {
      "needs_background": "light"
     },
     "output_type": "display_data"
    }
   ],
   "source": [
    "boxPlot(data[\"overall\"], data[\"potential\"])"
   ]
  },
  {
   "cell_type": "code",
   "execution_count": 9,
   "metadata": {},
   "outputs": [],
   "source": [
    "def setbound(datacolumn):\n",
    "    sorted(datacolumn)\n",
    "    Q1,Q3 = np.percentile(datacolumn , [25,75])\n",
    "    IQR = Q3 - Q1\n",
    "    print(Q1, Q3)\n",
    "    lower_range = Q1 - (1.5 * IQR)\n",
    "    upper_range = Q3 + (1.5 * IQR)\n",
    "    return lower_range,upper_range"
   ]
  },
  {
   "cell_type": "code",
   "execution_count": 10,
   "metadata": {},
   "outputs": [],
   "source": [
    "def getOutlierData(data, mainData):\n",
    "    lowerbound,upperbound = setbound(data)\n",
    "    return mainData[(data < lowerbound) | (data > upperbound)]"
   ]
  },
  {
   "cell_type": "code",
   "execution_count": 11,
   "metadata": {},
   "outputs": [],
   "source": [
    "def outliering(data1, data2, mainData):\n",
    "    while True:\n",
    "        lowerbound,upperbound = setbound(data1)\n",
    "        res1 = getOutlierData(data1, mainData)\n",
    "#         print(getOutlierData(data1, mainData))\n",
    "\n",
    "        lowerbound,upperbound = setbound(data2)\n",
    "#         print(getOutlierData(data2, mainData))\n",
    "        res2 = getOutlierData(data2, mainData)\n",
    "        \n",
    "        res = pd.concat([res1,res2]).drop_duplicates()\n",
    "        res = res.index\n",
    "\n",
    "        print('Total Outliers = ',len(res))\n",
    "        print('=== The Outliers ===')\n",
    "        print(res)    \n",
    "        mainData.drop(res, inplace=True)\n",
    "\n",
    "        if(len(res)==0):\n",
    "            break\n",
    "    print(\"BLOXPOT AFTER OUTLIERING\")\n",
    "    boxPlot(mainData['overall'], mainData['potential'])\n",
    "    return mainData"
   ]
  },
  {
   "cell_type": "code",
   "execution_count": 12,
   "metadata": {},
   "outputs": [
    {
     "name": "stdout",
     "output_type": "stream",
     "text": [
      "62.0 71.0\n",
      "62.0 71.0\n",
      "67.0 75.0\n",
      "67.0 75.0\n",
      "Total Outliers =  94\n",
      "=== The Outliers ===\n",
      "Int64Index([    0,     1,     2,     3,     4,     6,     7,     8,    10,\n",
      "               11,    14,    16,    23,    24,    26,    27,    29,    40,\n",
      "               42,    43,    44,    55,    56,    58,    60,    62,    64,\n",
      "               73,    74,    75,    76,    80,    85,    86,    87,    96,\n",
      "            18235, 18237, 18238, 18240, 18241, 18242, 18247, 18249, 18256,\n",
      "            18258, 18260, 18262, 18264, 18271, 18272, 18273, 18276, 18277,\n",
      "              108,   110,   111,   116,   157,   158,   162,   237,   238,\n",
      "              329,   332,   411,   412,   568,   569,   571,   753,   754,\n",
      "              992,  1254,  1255,  1257,  1615,  2121,  2122,  3288,  4041,\n",
      "             4756, 17580, 17777, 17945, 17946, 18064, 18065, 18164, 18165,\n",
      "            18167, 18230, 18232, 18233],\n",
      "           dtype='int64')\n",
      "62.0 71.0\n",
      "62.0 71.0\n",
      "67.0 75.0\n",
      "67.0 75.0\n",
      "Total Outliers =  49\n",
      "=== The Outliers ===\n",
      "Int64Index([    5,     9,    12,    15,    17,    25,    28,    30,    41,\n",
      "               45,    57,    59,    61,    63,    65,    77,    81,    88,\n",
      "               97, 18236, 18239, 18243, 18248, 18250, 18257, 18259, 18261,\n",
      "            18263, 18265, 18274,   109,   112,   117,   159,   163,   239,\n",
      "              330,   413,   570,   572,  1256,  2123, 17581, 17778, 17947,\n",
      "            18166, 18168, 18231, 18234],\n",
      "           dtype='int64')\n",
      "62.0 71.0\n",
      "62.0 71.0\n",
      "67.0 75.0\n",
      "67.0 75.0\n",
      "Total Outliers =  22\n",
      "=== The Outliers ===\n",
      "Int64Index([   13,    18,    31,    46,    66,    78,    82,    89,    98,\n",
      "            18244, 18251, 18266, 18275,   113,   118,   160,   164,   331,\n",
      "              573, 17582, 17779, 17948],\n",
      "           dtype='int64')\n",
      "62.0 71.0\n",
      "62.0 71.0\n",
      "67.0 75.0\n",
      "67.0 75.0\n",
      "Total Outliers =  15\n",
      "=== The Outliers ===\n",
      "Int64Index([19, 32, 47, 67, 79, 83, 90, 99, 18245, 18252, 18267, 114, 119, 161,\n",
      "            165],\n",
      "           dtype='int64')\n",
      "62.0 71.0\n",
      "62.0 71.0\n",
      "67.0 75.0\n",
      "67.0 75.0\n",
      "Total Outliers =  12\n",
      "=== The Outliers ===\n",
      "Int64Index([20, 33, 48, 68, 84, 91, 100, 18246, 18253, 18268, 115, 166], dtype='int64')\n",
      "62.0 71.0\n",
      "62.0 71.0\n",
      "67.0 75.0\n",
      "67.0 75.0\n",
      "Total Outliers =  9\n",
      "=== The Outliers ===\n",
      "Int64Index([21, 34, 49, 69, 92, 101, 18254, 18269, 167], dtype='int64')\n",
      "62.0 71.0\n",
      "62.0 71.0\n",
      "67.0 75.0\n",
      "67.0 75.0\n",
      "Total Outliers =  9\n",
      "=== The Outliers ===\n",
      "Int64Index([22, 35, 50, 70, 93, 102, 18255, 18270, 168], dtype='int64')\n",
      "62.0 71.0\n",
      "62.0 71.0\n",
      "67.0 75.0\n",
      "67.0 75.0\n",
      "Total Outliers =  6\n",
      "=== The Outliers ===\n",
      "Int64Index([36, 51, 71, 94, 103, 169], dtype='int64')\n",
      "62.0 71.0\n",
      "62.0 71.0\n",
      "67.0 75.0\n",
      "67.0 75.0\n",
      "Total Outliers =  6\n",
      "=== The Outliers ===\n",
      "Int64Index([37, 52, 72, 95, 104, 170], dtype='int64')\n",
      "62.0 71.0\n",
      "62.0 71.0\n",
      "67.0 75.0\n",
      "67.0 75.0\n",
      "Total Outliers =  4\n",
      "=== The Outliers ===\n",
      "Int64Index([38, 53, 105, 171], dtype='int64')\n",
      "62.0 71.0\n",
      "62.0 71.0\n",
      "67.0 75.0\n",
      "67.0 75.0\n",
      "Total Outliers =  3\n",
      "=== The Outliers ===\n",
      "Int64Index([39, 54, 106], dtype='int64')\n",
      "62.0 71.0\n",
      "62.0 71.0\n",
      "67.0 75.0\n",
      "67.0 75.0\n",
      "Total Outliers =  1\n",
      "=== The Outliers ===\n",
      "Int64Index([107], dtype='int64')\n",
      "62.0 71.0\n",
      "62.0 71.0\n",
      "67.0 75.0\n",
      "67.0 75.0\n",
      "Total Outliers =  0\n",
      "=== The Outliers ===\n",
      "Int64Index([], dtype='int64')\n",
      "BLOXPOT AFTER OUTLIERING\n"
     ]
    },
    {
     "name": "stderr",
     "output_type": "stream",
     "text": [
      "C:\\Users\\ASUS\\Anaconda3\\lib\\site-packages\\ipykernel_launcher.py:3: UserWarning: Boolean Series key will be reindexed to match DataFrame index.\n",
      "  This is separate from the ipykernel package so we can avoid doing imports until\n"
     ]
    },
    {
     "data": {
      "text/plain": [
       "<Figure size 6000x6000 with 0 Axes>"
      ]
     },
     "metadata": {},
     "output_type": "display_data"
    },
    {
     "data": {
      "image/png": "[encoded data removed]",
      "text/plain": [
       "<Figure size 600x400 with 2 Axes>"
      ]
     },
     "metadata": {
      "needs_background": "light"
     },
     "output_type": "display_data"
    }
   ],
   "source": [
    "newData = outliering(data[\"overall\"], data[\"potential\"], data)"
   ]
  },
  {
   "cell_type": "code",
   "execution_count": 13,
   "metadata": {},
   "outputs": [
    {
     "data": {
      "text/html": [
       "<div>\n",
       "<style scoped>\n",
       "    .dataframe tbody tr th:only-of-type {\n",
       "        vertical-align: middle;\n",
       "    }\n",
       "\n",
       "    .dataframe tbody tr th {\n",
       "        vertical-align: top;\n",
       "    }\n",
       "\n",
       "    .dataframe thead th {\n",
       "        text-align: right;\n",
       "    }\n",
       "</style>\n",
       "<table border=\"1\" class=\"dataframe\">\n",
       "  <thead>\n",
       "    <tr style=\"text-align: right;\">\n",
       "      <th></th>\n",
       "      <th>overall</th>\n",
       "      <th>potential</th>\n",
       "    </tr>\n",
       "  </thead>\n",
       "  <tbody>\n",
       "    <tr>\n",
       "      <th>120</th>\n",
       "      <td>84</td>\n",
       "      <td>87</td>\n",
       "    </tr>\n",
       "    <tr>\n",
       "      <th>121</th>\n",
       "      <td>84</td>\n",
       "      <td>87</td>\n",
       "    </tr>\n",
       "    <tr>\n",
       "      <th>122</th>\n",
       "      <td>84</td>\n",
       "      <td>86</td>\n",
       "    </tr>\n",
       "    <tr>\n",
       "      <th>123</th>\n",
       "      <td>84</td>\n",
       "      <td>86</td>\n",
       "    </tr>\n",
       "    <tr>\n",
       "      <th>124</th>\n",
       "      <td>84</td>\n",
       "      <td>86</td>\n",
       "    </tr>\n",
       "    <tr>\n",
       "      <th>...</th>\n",
       "      <td>...</td>\n",
       "      <td>...</td>\n",
       "    </tr>\n",
       "    <tr>\n",
       "      <th>18225</th>\n",
       "      <td>49</td>\n",
       "      <td>56</td>\n",
       "    </tr>\n",
       "    <tr>\n",
       "      <th>18226</th>\n",
       "      <td>49</td>\n",
       "      <td>56</td>\n",
       "    </tr>\n",
       "    <tr>\n",
       "      <th>18227</th>\n",
       "      <td>49</td>\n",
       "      <td>56</td>\n",
       "    </tr>\n",
       "    <tr>\n",
       "      <th>18228</th>\n",
       "      <td>49</td>\n",
       "      <td>55</td>\n",
       "    </tr>\n",
       "    <tr>\n",
       "      <th>18229</th>\n",
       "      <td>49</td>\n",
       "      <td>55</td>\n",
       "    </tr>\n",
       "  </tbody>\n",
       "</table>\n",
       "<p>18048 rows × 2 columns</p>\n",
       "</div>"
      ],
      "text/plain": [
       "       overall  potential\n",
       "120         84         87\n",
       "121         84         87\n",
       "122         84         86\n",
       "123         84         86\n",
       "124         84         86\n",
       "...        ...        ...\n",
       "18225       49         56\n",
       "18226       49         56\n",
       "18227       49         56\n",
       "18228       49         55\n",
       "18229       49         55\n",
       "\n",
       "[18048 rows x 2 columns]"
      ]
     },
     "execution_count": 13,
     "metadata": {},
     "output_type": "execute_result"
    }
   ],
   "source": [
    "newData"
   ]
  },
  {
   "cell_type": "code",
   "execution_count": 14,
   "metadata": {},
   "outputs": [
    {
     "data": {
      "text/plain": [
       "Text(0, 0.5, 'potential')"
      ]
     },
     "execution_count": 14,
     "metadata": {},
     "output_type": "execute_result"
    },
    {
     "data": {
      "image/png": "[encoded data removed]",
      "text/plain": [
       "<Figure size 600x400 with 1 Axes>"
      ]
     },
     "metadata": {
      "needs_background": "light"
     },
     "output_type": "display_data"
    }
   ],
   "source": [
    "plt.scatter(newData['overall'], newData['potential'])\n",
    "plt.xlabel('overall')\n",
    "plt.ylabel('potential')"
   ]
  },
  {
   "cell_type": "code",
   "execution_count": 15,
   "metadata": {},
   "outputs": [
    {
     "name": "stdout",
     "output_type": "stream",
     "text": [
      "[[64.74823432 66.67739925]\n",
      " [70.5821236  72.90273745]\n",
      " [75.97859691 80.46848989]\n",
      " [56.11348563 64.89314665]\n",
      " [62.24503937 74.83401575]]\n"
     ]
    }
   ],
   "source": [
    "from sklearn.cluster import KMeans\n",
    "model = KMeans(5)\n",
    "model.fit(newData)\n",
    "print(model.cluster_centers_)"
   ]
  },
  {
   "cell_type": "code",
   "execution_count": 16,
   "metadata": {},
   "outputs": [
    {
     "name": "stdout",
     "output_type": "stream",
     "text": [
      "18048\n"
     ]
    }
   ],
   "source": [
    "labels = model.predict(newData)\n",
    "centroids = model.cluster_centers_\n",
    "print(len(labels))"
   ]
  },
  {
   "cell_type": "code",
   "execution_count": 17,
   "metadata": {},
   "outputs": [
    {
     "data": {
      "image/png": "[encoded data removed]",
      "text/plain": [
       "<Figure size 600x400 with 1 Axes>"
      ]
     },
     "metadata": {
      "needs_background": "light"
     },
     "output_type": "display_data"
    }
   ],
   "source": [
    "plt.scatter(newData['overall'],newData['potential'], c=model.labels_);\n",
    "plt.scatter(model.cluster_centers_[:,0], model.cluster_centers_[:,1], s=100, color=[\"red\", 'cyan', 'gray', 'blue', 'pink']);"
   ]
  },
  {
   "cell_type": "code",
   "execution_count": 18,
   "metadata": {},
   "outputs": [],
   "source": [
    "k=3"
   ]
  },
  {
   "cell_type": "code",
   "execution_count": 19,
   "metadata": {},
   "outputs": [],
   "source": [
    "def generateCentroids(k, data1, data2):\n",
    "    # Randomize value from 0 until max of data depend on size of k\n",
    "    xCentroids = np.random.randint(0, np.max(data1), size=k)\n",
    "    yCentroids = np.random.randint(0, np.max(data2), size=k) \n",
    "    \n",
    "    # Merge X and Y Centroids\n",
    "    centroids = np.array(list(zip(xCentroids, yCentroids)))\n",
    "    return centroids, xCentroids, yCentroids"
   ]
  },
  {
   "cell_type": "code",
   "execution_count": 20,
   "metadata": {},
   "outputs": [],
   "source": [
    "centroids, x, y = generateCentroids(k,newData['overall'],newData['potential'])"
   ]
  },
  {
   "cell_type": "code",
   "execution_count": 21,
   "metadata": {},
   "outputs": [
    {
     "data": {
      "text/plain": [
       "<matplotlib.collections.PathCollection at 0x28fcc8dbd30>"
      ]
     },
     "execution_count": 21,
     "metadata": {},
     "output_type": "execute_result"
    },
    {
     "data": {
      "image/png": "[encoded data removed]",
      "text/plain": [
       "<Figure size 600x400 with 1 Axes>"
      ]
     },
     "metadata": {
      "needs_background": "light"
     },
     "output_type": "display_data"
    }
   ],
   "source": [
    "plt.scatter(newData['overall'], newData['potential'], c='#050505', s=7)\n",
    "plt.scatter(x, y, marker='*', s=200, c='g')"
   ]
  },
  {
   "cell_type": "code",
   "execution_count": 22,
   "metadata": {},
   "outputs": [
    {
     "name": "stdout",
     "output_type": "stream",
     "text": [
      "[[0. 0.]\n",
      " [0. 0.]\n",
      " [0. 0.]]\n"
     ]
    }
   ],
   "source": [
    "# assign first centroid as 0\n",
    "oldCentroid = np.zeros(centroids.shape)\n",
    "print(oldCentroid)"
   ]
  },
  {
   "cell_type": "code",
   "execution_count": 23,
   "metadata": {},
   "outputs": [
    {
     "data": {
      "text/plain": [
       "array([0., 0., 0., ..., 0., 0., 0.])"
      ]
     },
     "execution_count": 23,
     "metadata": {},
     "output_type": "execute_result"
    }
   ],
   "source": [
    "# assign cluster label to zero\n",
    "clusters = np.zeros(len(newData))\n",
    "clusters"
   ]
  },
  {
   "cell_type": "code",
   "execution_count": 24,
   "metadata": {},
   "outputs": [],
   "source": [
    "# Euclidean Distance Caculator\n",
    "def euclideanDistance(a, b, ax=1):\n",
    "    return np.linalg.norm(a - b, axis=ax)"
   ]
  },
  {
   "cell_type": "code",
   "execution_count": 25,
   "metadata": {},
   "outputs": [
    {
     "data": {
      "text/plain": [
       "106.55045753069294"
      ]
     },
     "execution_count": 25,
     "metadata": {},
     "output_type": "execute_result"
    }
   ],
   "source": [
    "# Error func. - Distance between new centroids and old centroids\n",
    "error = euclideanDistance(centroids, oldCentroid, None)\n",
    "error"
   ]
  },
  {
   "cell_type": "code",
   "execution_count": 26,
   "metadata": {},
   "outputs": [],
   "source": [
    "npData = np.array(newData)"
   ]
  },
  {
   "cell_type": "code",
   "execution_count": 27,
   "metadata": {},
   "outputs": [
    {
     "data": {
      "text/plain": [
       "array([[84, 87],\n",
       "       [84, 87],\n",
       "       [84, 86],\n",
       "       ...,\n",
       "       [49, 56],\n",
       "       [49, 55],\n",
       "       [49, 55]], dtype=int64)"
      ]
     },
     "execution_count": 27,
     "metadata": {},
     "output_type": "execute_result"
    }
   ],
   "source": [
    "npData"
   ]
  },
  {
   "cell_type": "code",
   "execution_count": 28,
   "metadata": {},
   "outputs": [],
   "source": [
    "from copy import deepcopy"
   ]
  },
  {
   "cell_type": "code",
   "execution_count": 29,
   "metadata": {},
   "outputs": [],
   "source": [
    "def updateCentroids(idx, clusters, data):\n",
    "    points = np.array([data[j] for j in range(len(data)) if clusters[j] == idx])\n",
    "    return points"
   ]
  },
  {
   "cell_type": "code",
   "execution_count": 30,
   "metadata": {},
   "outputs": [],
   "source": [
    "def kMeans(data, centroids, error, k):\n",
    "    while error != 0:\n",
    "        # Assigning each value to its closest cluster\n",
    "        for i in range(len(data)):\n",
    "#             print(\"CENTROID : \",centroids)\n",
    "#             print(\"Data : \",data[i])\n",
    "            distances = euclideanDistance(data[i], centroids)\n",
    "#             print(\"DISTANCES \",distances)\n",
    "            cluster = np.argmin(distances)\n",
    "#             print(\"CLUSTER \",cluster)\n",
    "            clusters[i] = cluster\n",
    "            \n",
    "        # Storing the old centroid values\n",
    "        oldCentroid = deepcopy(centroids)\n",
    "        # Finding the new centroids by taking the average value\n",
    "        for i in range(k):\n",
    "            points = updateCentroids(i, clusters, data)\n",
    "            print(points)\n",
    "            centroids[i] = np.mean(points, axis=0)\n",
    "        error = euclideanDistance(centroids, oldCentroid, None)\n",
    "        print(error)\n",
    "    return centroids, clusters"
   ]
  },
  {
   "cell_type": "code",
   "execution_count": 36,
   "metadata": {},
   "outputs": [
    {
     "ename": "TypeError",
     "evalue": "unsupported operand type(s) for /: 'list' and 'int'",
     "output_type": "error",
     "traceback": [
      "\u001b[1;31m---------------------------------------------------------------------------\u001b[0m",
      "\u001b[1;31mTypeError\u001b[0m                                 Traceback (most recent call last)",
      "\u001b[1;32m<ipython-input-36-317335a8aaf8>\u001b[0m in \u001b[0;36m<module>\u001b[1;34m\u001b[0m\n\u001b[1;32m----> 1\u001b[1;33m \u001b[0mnp\u001b[0m\u001b[1;33m.\u001b[0m\u001b[0mmean\u001b[0m\u001b[1;33m(\u001b[0m\u001b[1;33m[\u001b[0m\u001b[1;33m[\u001b[0m\u001b[1;33m]\u001b[0m\u001b[1;33m,\u001b[0m\u001b[1;33m[\u001b[0m\u001b[1;36m2\u001b[0m\u001b[1;33m,\u001b[0m\u001b[1;36m2\u001b[0m\u001b[1;33m]\u001b[0m\u001b[1;33m]\u001b[0m\u001b[1;33m,\u001b[0m \u001b[0maxis\u001b[0m\u001b[1;33m=\u001b[0m\u001b[1;36m0\u001b[0m\u001b[1;33m)\u001b[0m\u001b[1;33m\u001b[0m\u001b[1;33m\u001b[0m\u001b[0m\n\u001b[0m",
      "\u001b[1;32m~\\AppData\\Roaming\\Python\\Python37\\site-packages\\numpy\\core\\fromnumeric.py\u001b[0m in \u001b[0;36mmean\u001b[1;34m(a, axis, dtype, out, keepdims)\u001b[0m\n\u001b[0;32m   3116\u001b[0m \u001b[1;33m\u001b[0m\u001b[0m\n\u001b[0;32m   3117\u001b[0m     return _methods._mean(a, axis=axis, dtype=dtype,\n\u001b[1;32m-> 3118\u001b[1;33m                           out=out, **kwargs)\n\u001b[0m\u001b[0;32m   3119\u001b[0m \u001b[1;33m\u001b[0m\u001b[0m\n\u001b[0;32m   3120\u001b[0m \u001b[1;33m\u001b[0m\u001b[0m\n",
      "\u001b[1;32m~\\AppData\\Roaming\\Python\\Python37\\site-packages\\numpy\\core\\_methods.py\u001b[0m in \u001b[0;36m_mean\u001b[1;34m(a, axis, dtype, out, keepdims)\u001b[0m\n\u001b[0;32m     85\u001b[0m             \u001b[0mret\u001b[0m \u001b[1;33m=\u001b[0m \u001b[0mret\u001b[0m\u001b[1;33m.\u001b[0m\u001b[0mdtype\u001b[0m\u001b[1;33m.\u001b[0m\u001b[0mtype\u001b[0m\u001b[1;33m(\u001b[0m\u001b[0mret\u001b[0m \u001b[1;33m/\u001b[0m \u001b[0mrcount\u001b[0m\u001b[1;33m)\u001b[0m\u001b[1;33m\u001b[0m\u001b[1;33m\u001b[0m\u001b[0m\n\u001b[0;32m     86\u001b[0m     \u001b[1;32melse\u001b[0m\u001b[1;33m:\u001b[0m\u001b[1;33m\u001b[0m\u001b[1;33m\u001b[0m\u001b[0m\n\u001b[1;32m---> 87\u001b[1;33m         \u001b[0mret\u001b[0m \u001b[1;33m=\u001b[0m \u001b[0mret\u001b[0m \u001b[1;33m/\u001b[0m \u001b[0mrcount\u001b[0m\u001b[1;33m\u001b[0m\u001b[1;33m\u001b[0m\u001b[0m\n\u001b[0m\u001b[0;32m     88\u001b[0m \u001b[1;33m\u001b[0m\u001b[0m\n\u001b[0;32m     89\u001b[0m     \u001b[1;32mreturn\u001b[0m \u001b[0mret\u001b[0m\u001b[1;33m\u001b[0m\u001b[1;33m\u001b[0m\u001b[0m\n",
      "\u001b[1;31mTypeError\u001b[0m: unsupported operand type(s) for /: 'list' and 'int'"
     ]
    }
   ],
   "source": [
    "np.mean([[],[2,2]], axis=0)"
   ]
  },
  {
   "cell_type": "code",
   "execution_count": 31,
   "metadata": {},
   "outputs": [
    {
     "name": "stdout",
     "output_type": "stream",
     "text": [
      "[]\n",
      "[]\n",
      "[[84 87]\n",
      " [84 87]\n",
      " [84 86]\n",
      " ...\n",
      " [49 56]\n",
      " [49 55]\n",
      " [49 55]]\n",
      "4294967238.000001\n"
     ]
    },
    {
     "name": "stderr",
     "output_type": "stream",
     "text": [
      "C:\\Users\\ASUS\\AppData\\Roaming\\Python\\Python37\\site-packages\\numpy\\core\\fromnumeric.py:3118: RuntimeWarning: Mean of empty slice.\n",
      "  out=out, **kwargs)\n",
      "C:\\Users\\ASUS\\AppData\\Roaming\\Python\\Python37\\site-packages\\numpy\\core\\_methods.py:85: RuntimeWarning: invalid value encountered in double_scalars\n",
      "  ret = ret.dtype.type(ret / rcount)\n"
     ]
    },
    {
     "name": "stdout",
     "output_type": "stream",
     "text": [
      "[]\n",
      "[]\n",
      "[[84 87]\n",
      " [84 87]\n",
      " [84 86]\n",
      " ...\n",
      " [49 56]\n",
      " [49 55]\n",
      " [49 55]]\n",
      "0.0\n"
     ]
    }
   ],
   "source": [
    "lastCentroids, clusters = kMeans(npData, centroids, error, k)"
   ]
  },
  {
   "cell_type": "code",
   "execution_count": 32,
   "metadata": {},
   "outputs": [
    {
     "data": {
      "text/plain": [
       "array([[-2147483648, -2147483648],\n",
       "       [-2147483648, -2147483648],\n",
       "       [         66,          71]])"
      ]
     },
     "execution_count": 32,
     "metadata": {},
     "output_type": "execute_result"
    }
   ],
   "source": [
    "lastCentroids"
   ]
  },
  {
   "cell_type": "code",
   "execution_count": 67,
   "metadata": {},
   "outputs": [
    {
     "data": {
      "text/plain": [
       "array([1., 1., 1., ..., 2., 2., 2.])"
      ]
     },
     "execution_count": 67,
     "metadata": {},
     "output_type": "execute_result"
    }
   ],
   "source": [
    "clusters"
   ]
  },
  {
   "cell_type": "code",
   "execution_count": 407,
   "metadata": {},
   "outputs": [
    {
     "data": {
      "text/plain": [
       "8870"
      ]
     },
     "execution_count": 407,
     "metadata": {},
     "output_type": "execute_result"
    }
   ],
   "source": [
    "count = 0\n",
    "for i in clusters:\n",
    "    if(i == 1):\n",
    "        count+=1\n",
    "count"
   ]
  },
  {
   "cell_type": "code",
   "execution_count": 450,
   "metadata": {},
   "outputs": [
    {
     "data": {
      "text/plain": [
       "array([[         70,          75],\n",
       "       [         60,          66],\n",
       "       [-2147483648, -2147483648]])"
      ]
     },
     "execution_count": 450,
     "metadata": {},
     "output_type": "execute_result"
    }
   ],
   "source": [
    "lastCentroids"
   ]
  },
  {
   "cell_type": "code",
   "execution_count": 451,
   "metadata": {},
   "outputs": [
    {
     "name": "stdout",
     "output_type": "stream",
     "text": [
      "0\n",
      "[[84 87]\n",
      " [84 87]\n",
      " [84 86]\n",
      " ...\n",
      " [58 79]\n",
      " [57 80]\n",
      " [56 81]]\n",
      "1\n",
      "[[67 68]\n",
      " [67 68]\n",
      " [67 68]\n",
      " ...\n",
      " [49 56]\n",
      " [49 55]\n",
      " [49 55]]\n",
      "2\n",
      "[]\n"
     ]
    },
    {
     "ename": "IndexError",
     "evalue": "too many indices for array",
     "output_type": "error",
     "traceback": [
      "\u001b[1;31m---------------------------------------------------------------------------\u001b[0m",
      "\u001b[1;31mIndexError\u001b[0m                                Traceback (most recent call last)",
      "\u001b[1;32m<ipython-input-451-267771c1acc9>\u001b[0m in \u001b[0;36m<module>\u001b[1;34m\u001b[0m\n\u001b[0;32m      5\u001b[0m         \u001b[0mprint\u001b[0m\u001b[1;33m(\u001b[0m\u001b[0mi\u001b[0m\u001b[1;33m)\u001b[0m\u001b[1;33m\u001b[0m\u001b[1;33m\u001b[0m\u001b[0m\n\u001b[0;32m      6\u001b[0m         \u001b[0mprint\u001b[0m\u001b[1;33m(\u001b[0m\u001b[0mpoints\u001b[0m\u001b[1;33m)\u001b[0m\u001b[1;33m\u001b[0m\u001b[1;33m\u001b[0m\u001b[0m\n\u001b[1;32m----> 7\u001b[1;33m         \u001b[0max\u001b[0m\u001b[1;33m.\u001b[0m\u001b[0mscatter\u001b[0m\u001b[1;33m(\u001b[0m\u001b[0mpoints\u001b[0m\u001b[1;33m[\u001b[0m\u001b[1;33m:\u001b[0m\u001b[1;33m,\u001b[0m \u001b[1;36m0\u001b[0m\u001b[1;33m]\u001b[0m\u001b[1;33m,\u001b[0m \u001b[0mpoints\u001b[0m\u001b[1;33m[\u001b[0m\u001b[1;33m:\u001b[0m\u001b[1;33m,\u001b[0m \u001b[1;36m1\u001b[0m\u001b[1;33m]\u001b[0m\u001b[1;33m,\u001b[0m \u001b[0mc\u001b[0m\u001b[1;33m=\u001b[0m\u001b[0mcolors\u001b[0m\u001b[1;33m[\u001b[0m\u001b[0mi\u001b[0m\u001b[1;33m]\u001b[0m\u001b[1;33m)\u001b[0m\u001b[1;33m\u001b[0m\u001b[1;33m\u001b[0m\u001b[0m\n\u001b[0m\u001b[0;32m      8\u001b[0m \u001b[1;33m\u001b[0m\u001b[0m\n\u001b[0;32m      9\u001b[0m \u001b[0mplt\u001b[0m\u001b[1;33m.\u001b[0m\u001b[0mscatter\u001b[0m\u001b[1;33m(\u001b[0m\u001b[0mlastCentroids\u001b[0m\u001b[1;33m[\u001b[0m\u001b[1;33m:\u001b[0m\u001b[1;33m,\u001b[0m \u001b[1;36m0\u001b[0m\u001b[1;33m]\u001b[0m\u001b[1;33m,\u001b[0m \u001b[0mlastCentroids\u001b[0m\u001b[1;33m[\u001b[0m\u001b[1;33m:\u001b[0m\u001b[1;33m,\u001b[0m \u001b[1;36m1\u001b[0m\u001b[1;33m]\u001b[0m\u001b[1;33m,\u001b[0m \u001b[0mmarker\u001b[0m\u001b[1;33m=\u001b[0m\u001b[1;34m'*'\u001b[0m\u001b[1;33m,\u001b[0m \u001b[0mc\u001b[0m\u001b[1;33m=\u001b[0m\u001b[1;34m'#050505'\u001b[0m\u001b[1;33m)\u001b[0m\u001b[1;33m\u001b[0m\u001b[1;33m\u001b[0m\u001b[0m\n",
      "\u001b[1;31mIndexError\u001b[0m: too many indices for array"
     ]
    },
    {
     "data": {
      "image/png": "[encoded data removed]",
      "text/plain": [
       "<Figure size 600x400 with 1 Axes>"
      ]
     },
     "metadata": {
      "needs_background": "light"
     },
     "output_type": "display_data"
    }
   ],
   "source": [
    "colors = ['r', 'g', 'b', 'y', 'c', 'm']\n",
    "fig, ax = plt.subplots()\n",
    "for i in range(k):\n",
    "        points = updateCentroids(i, clusters, npData)\n",
    "        print(i)\n",
    "        print(points)\n",
    "        ax.scatter(points[:, 0], points[:, 1], c=colors[i])\n",
    "\n",
    "plt.scatter(lastCentroids[:, 0], lastCentroids[:, 1], marker='*', c='#050505')"
   ]
  },
  {
   "cell_type": "code",
   "execution_count": null,
   "metadata": {},
   "outputs": [],
   "source": []
  }
 ],
 "metadata": {
  "kernelspec": {
   "display_name": "Python 3",
   "language": "python",
   "name": "python3"
  },
  "language_info": {
   "codemirror_mode": {
    "name": "ipython",
    "version": 3
   },
   "file_extension": ".py",
   "mimetype": "text/x-python",
   "name": "python",
   "nbconvert_exporter": "python",
   "pygments_lexer": "ipython3",
   "version": "3.7.1"
  }
 },
 "nbformat": 4,
 "nbformat_minor": 4
}
