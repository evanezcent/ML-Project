{
 "cells": [
  {
   "cell_type": "code",
   "execution_count": 1,
   "metadata": {},
   "outputs": [],
   "source": [
    "import pandas as pd\n",
    "import numpy as np\n",
    "from sklearn.metrics import silhouette_samples\n",
    "import seaborn as sns\n",
    "sns.set_style(\"whitegrid\")\n",
    "import matplotlib.pyplot as plt\n",
    "%matplotlib inline  \n",
    "import matplotlib as mpl\n",
    "from copy import deepcopy"
   ]
  },
  {
   "cell_type": "markdown",
   "metadata": {},
   "source": [
    "### Import data"
   ]
  },
  {
   "cell_type": "code",
   "execution_count": 2,
   "metadata": {},
   "outputs": [],
   "source": [
    "label1 = 'overall'\n",
    "label2 = 'potential'\n",
    "label3 = 'overall'\n",
    "label4 = 'value_eur'"
   ]
  },
  {
   "cell_type": "code",
   "execution_count": 3,
   "metadata": {},
   "outputs": [],
   "source": [
    "data = pd.read_csv('clustering-datasets.csv')\n",
    "data2 = pd.read_csv('clustering-datasets2.csv')"
   ]
  },
  {
   "cell_type": "code",
   "execution_count": 4,
   "metadata": {},
   "outputs": [
    {
     "data": {
      "text/html": [
       "<div>\n",
       "<style scoped>\n",
       "    .dataframe tbody tr th:only-of-type {\n",
       "        vertical-align: middle;\n",
       "    }\n",
       "\n",
       "    .dataframe tbody tr th {\n",
       "        vertical-align: top;\n",
       "    }\n",
       "\n",
       "    .dataframe thead th {\n",
       "        text-align: right;\n",
       "    }\n",
       "</style>\n",
       "<table border=\"1\" class=\"dataframe\">\n",
       "  <thead>\n",
       "    <tr style=\"text-align: right;\">\n",
       "      <th></th>\n",
       "      <th>overall</th>\n",
       "      <th>potential</th>\n",
       "    </tr>\n",
       "  </thead>\n",
       "  <tbody>\n",
       "    <tr>\n",
       "      <th>0</th>\n",
       "      <td>94</td>\n",
       "      <td>94</td>\n",
       "    </tr>\n",
       "    <tr>\n",
       "      <th>1</th>\n",
       "      <td>93</td>\n",
       "      <td>93</td>\n",
       "    </tr>\n",
       "    <tr>\n",
       "      <th>2</th>\n",
       "      <td>92</td>\n",
       "      <td>92</td>\n",
       "    </tr>\n",
       "    <tr>\n",
       "      <th>3</th>\n",
       "      <td>91</td>\n",
       "      <td>93</td>\n",
       "    </tr>\n",
       "    <tr>\n",
       "      <th>4</th>\n",
       "      <td>91</td>\n",
       "      <td>91</td>\n",
       "    </tr>\n",
       "    <tr>\n",
       "      <th>...</th>\n",
       "      <td>...</td>\n",
       "      <td>...</td>\n",
       "    </tr>\n",
       "    <tr>\n",
       "      <th>18273</th>\n",
       "      <td>48</td>\n",
       "      <td>56</td>\n",
       "    </tr>\n",
       "    <tr>\n",
       "      <th>18274</th>\n",
       "      <td>48</td>\n",
       "      <td>56</td>\n",
       "    </tr>\n",
       "    <tr>\n",
       "      <th>18275</th>\n",
       "      <td>48</td>\n",
       "      <td>56</td>\n",
       "    </tr>\n",
       "    <tr>\n",
       "      <th>18276</th>\n",
       "      <td>48</td>\n",
       "      <td>54</td>\n",
       "    </tr>\n",
       "    <tr>\n",
       "      <th>18277</th>\n",
       "      <td>48</td>\n",
       "      <td>51</td>\n",
       "    </tr>\n",
       "  </tbody>\n",
       "</table>\n",
       "<p>18278 rows × 2 columns</p>\n",
       "</div>"
      ],
      "text/plain": [
       "       overall  potential\n",
       "0           94         94\n",
       "1           93         93\n",
       "2           92         92\n",
       "3           91         93\n",
       "4           91         91\n",
       "...        ...        ...\n",
       "18273       48         56\n",
       "18274       48         56\n",
       "18275       48         56\n",
       "18276       48         54\n",
       "18277       48         51\n",
       "\n",
       "[18278 rows x 2 columns]"
      ]
     },
     "execution_count": 4,
     "metadata": {},
     "output_type": "execute_result"
    }
   ],
   "source": [
    "data"
   ]
  },
  {
   "cell_type": "code",
   "execution_count": 5,
   "metadata": {},
   "outputs": [
    {
     "data": {
      "text/html": [
       "<div>\n",
       "<style scoped>\n",
       "    .dataframe tbody tr th:only-of-type {\n",
       "        vertical-align: middle;\n",
       "    }\n",
       "\n",
       "    .dataframe tbody tr th {\n",
       "        vertical-align: top;\n",
       "    }\n",
       "\n",
       "    .dataframe thead th {\n",
       "        text-align: right;\n",
       "    }\n",
       "</style>\n",
       "<table border=\"1\" class=\"dataframe\">\n",
       "  <thead>\n",
       "    <tr style=\"text-align: right;\">\n",
       "      <th></th>\n",
       "      <th>overall</th>\n",
       "      <th>value_eur</th>\n",
       "    </tr>\n",
       "  </thead>\n",
       "  <tbody>\n",
       "    <tr>\n",
       "      <th>0</th>\n",
       "      <td>94</td>\n",
       "      <td>95500000</td>\n",
       "    </tr>\n",
       "    <tr>\n",
       "      <th>1</th>\n",
       "      <td>93</td>\n",
       "      <td>58500000</td>\n",
       "    </tr>\n",
       "    <tr>\n",
       "      <th>2</th>\n",
       "      <td>92</td>\n",
       "      <td>105500000</td>\n",
       "    </tr>\n",
       "    <tr>\n",
       "      <th>3</th>\n",
       "      <td>91</td>\n",
       "      <td>77500000</td>\n",
       "    </tr>\n",
       "    <tr>\n",
       "      <th>4</th>\n",
       "      <td>91</td>\n",
       "      <td>90000000</td>\n",
       "    </tr>\n",
       "    <tr>\n",
       "      <th>...</th>\n",
       "      <td>...</td>\n",
       "      <td>...</td>\n",
       "    </tr>\n",
       "    <tr>\n",
       "      <th>18273</th>\n",
       "      <td>48</td>\n",
       "      <td>40000</td>\n",
       "    </tr>\n",
       "    <tr>\n",
       "      <th>18274</th>\n",
       "      <td>48</td>\n",
       "      <td>40000</td>\n",
       "    </tr>\n",
       "    <tr>\n",
       "      <th>18275</th>\n",
       "      <td>48</td>\n",
       "      <td>40000</td>\n",
       "    </tr>\n",
       "    <tr>\n",
       "      <th>18276</th>\n",
       "      <td>48</td>\n",
       "      <td>40000</td>\n",
       "    </tr>\n",
       "    <tr>\n",
       "      <th>18277</th>\n",
       "      <td>48</td>\n",
       "      <td>40000</td>\n",
       "    </tr>\n",
       "  </tbody>\n",
       "</table>\n",
       "<p>18278 rows × 2 columns</p>\n",
       "</div>"
      ],
      "text/plain": [
       "       overall  value_eur\n",
       "0           94   95500000\n",
       "1           93   58500000\n",
       "2           92  105500000\n",
       "3           91   77500000\n",
       "4           91   90000000\n",
       "...        ...        ...\n",
       "18273       48      40000\n",
       "18274       48      40000\n",
       "18275       48      40000\n",
       "18276       48      40000\n",
       "18277       48      40000\n",
       "\n",
       "[18278 rows x 2 columns]"
      ]
     },
     "execution_count": 5,
     "metadata": {},
     "output_type": "execute_result"
    }
   ],
   "source": [
    "data2"
   ]
  },
  {
   "cell_type": "code",
   "execution_count": 6,
   "metadata": {},
   "outputs": [
    {
     "data": {
      "text/html": [
       "<div>\n",
       "<style scoped>\n",
       "    .dataframe tbody tr th:only-of-type {\n",
       "        vertical-align: middle;\n",
       "    }\n",
       "\n",
       "    .dataframe tbody tr th {\n",
       "        vertical-align: top;\n",
       "    }\n",
       "\n",
       "    .dataframe thead th {\n",
       "        text-align: right;\n",
       "    }\n",
       "</style>\n",
       "<table border=\"1\" class=\"dataframe\">\n",
       "  <thead>\n",
       "    <tr style=\"text-align: right;\">\n",
       "      <th></th>\n",
       "      <th>overall</th>\n",
       "      <th>potential</th>\n",
       "    </tr>\n",
       "  </thead>\n",
       "  <tbody>\n",
       "    <tr>\n",
       "      <th>count</th>\n",
       "      <td>18278.000000</td>\n",
       "      <td>18278.000000</td>\n",
       "    </tr>\n",
       "    <tr>\n",
       "      <th>mean</th>\n",
       "      <td>66.244994</td>\n",
       "      <td>71.546887</td>\n",
       "    </tr>\n",
       "    <tr>\n",
       "      <th>std</th>\n",
       "      <td>6.949953</td>\n",
       "      <td>6.139669</td>\n",
       "    </tr>\n",
       "    <tr>\n",
       "      <th>min</th>\n",
       "      <td>48.000000</td>\n",
       "      <td>49.000000</td>\n",
       "    </tr>\n",
       "    <tr>\n",
       "      <th>25%</th>\n",
       "      <td>62.000000</td>\n",
       "      <td>67.000000</td>\n",
       "    </tr>\n",
       "    <tr>\n",
       "      <th>50%</th>\n",
       "      <td>66.000000</td>\n",
       "      <td>71.000000</td>\n",
       "    </tr>\n",
       "    <tr>\n",
       "      <th>75%</th>\n",
       "      <td>71.000000</td>\n",
       "      <td>75.000000</td>\n",
       "    </tr>\n",
       "    <tr>\n",
       "      <th>max</th>\n",
       "      <td>94.000000</td>\n",
       "      <td>95.000000</td>\n",
       "    </tr>\n",
       "  </tbody>\n",
       "</table>\n",
       "</div>"
      ],
      "text/plain": [
       "            overall     potential\n",
       "count  18278.000000  18278.000000\n",
       "mean      66.244994     71.546887\n",
       "std        6.949953      6.139669\n",
       "min       48.000000     49.000000\n",
       "25%       62.000000     67.000000\n",
       "50%       66.000000     71.000000\n",
       "75%       71.000000     75.000000\n",
       "max       94.000000     95.000000"
      ]
     },
     "execution_count": 6,
     "metadata": {},
     "output_type": "execute_result"
    }
   ],
   "source": [
    "data.describe()"
   ]
  },
  {
   "cell_type": "code",
   "execution_count": 7,
   "metadata": {},
   "outputs": [
    {
     "data": {
      "text/html": [
       "<div>\n",
       "<style scoped>\n",
       "    .dataframe tbody tr th:only-of-type {\n",
       "        vertical-align: middle;\n",
       "    }\n",
       "\n",
       "    .dataframe tbody tr th {\n",
       "        vertical-align: top;\n",
       "    }\n",
       "\n",
       "    .dataframe thead th {\n",
       "        text-align: right;\n",
       "    }\n",
       "</style>\n",
       "<table border=\"1\" class=\"dataframe\">\n",
       "  <thead>\n",
       "    <tr style=\"text-align: right;\">\n",
       "      <th></th>\n",
       "      <th>overall</th>\n",
       "      <th>value_eur</th>\n",
       "    </tr>\n",
       "  </thead>\n",
       "  <tbody>\n",
       "    <tr>\n",
       "      <th>count</th>\n",
       "      <td>18278.000000</td>\n",
       "      <td>1.827800e+04</td>\n",
       "    </tr>\n",
       "    <tr>\n",
       "      <th>mean</th>\n",
       "      <td>66.244994</td>\n",
       "      <td>2.484038e+06</td>\n",
       "    </tr>\n",
       "    <tr>\n",
       "      <th>std</th>\n",
       "      <td>6.949953</td>\n",
       "      <td>5.585481e+06</td>\n",
       "    </tr>\n",
       "    <tr>\n",
       "      <th>min</th>\n",
       "      <td>48.000000</td>\n",
       "      <td>0.000000e+00</td>\n",
       "    </tr>\n",
       "    <tr>\n",
       "      <th>25%</th>\n",
       "      <td>62.000000</td>\n",
       "      <td>3.250000e+05</td>\n",
       "    </tr>\n",
       "    <tr>\n",
       "      <th>50%</th>\n",
       "      <td>66.000000</td>\n",
       "      <td>7.000000e+05</td>\n",
       "    </tr>\n",
       "    <tr>\n",
       "      <th>75%</th>\n",
       "      <td>71.000000</td>\n",
       "      <td>2.100000e+06</td>\n",
       "    </tr>\n",
       "    <tr>\n",
       "      <th>max</th>\n",
       "      <td>94.000000</td>\n",
       "      <td>1.055000e+08</td>\n",
       "    </tr>\n",
       "  </tbody>\n",
       "</table>\n",
       "</div>"
      ],
      "text/plain": [
       "            overall     value_eur\n",
       "count  18278.000000  1.827800e+04\n",
       "mean      66.244994  2.484038e+06\n",
       "std        6.949953  5.585481e+06\n",
       "min       48.000000  0.000000e+00\n",
       "25%       62.000000  3.250000e+05\n",
       "50%       66.000000  7.000000e+05\n",
       "75%       71.000000  2.100000e+06\n",
       "max       94.000000  1.055000e+08"
      ]
     },
     "execution_count": 7,
     "metadata": {},
     "output_type": "execute_result"
    }
   ],
   "source": [
    "data2.describe()"
   ]
  },
  {
   "cell_type": "markdown",
   "metadata": {},
   "source": [
    "### Check for the missing values"
   ]
  },
  {
   "cell_type": "code",
   "execution_count": 8,
   "metadata": {},
   "outputs": [
    {
     "data": {
      "text/plain": [
       "overall      0\n",
       "potential    0\n",
       "dtype: int64"
      ]
     },
     "execution_count": 8,
     "metadata": {},
     "output_type": "execute_result"
    }
   ],
   "source": [
    "missing_values = data.isnull().sum()\n",
    "missing_values"
   ]
  },
  {
   "cell_type": "code",
   "execution_count": 9,
   "metadata": {},
   "outputs": [
    {
     "data": {
      "text/plain": [
       "overall      0\n",
       "value_eur    0\n",
       "dtype: int64"
      ]
     },
     "execution_count": 9,
     "metadata": {},
     "output_type": "execute_result"
    }
   ],
   "source": [
    "missing_values2 = data2.isnull().sum()\n",
    "missing_values2"
   ]
  },
  {
   "cell_type": "code",
   "execution_count": 10,
   "metadata": {},
   "outputs": [],
   "source": [
    "def boxPlot(idx1, idx2, data):\n",
    "    mpl.rcParams['figure.dpi'] = 100\n",
    "    plt.figure(figsize=(60, 60))\n",
    "    f, axes = plt.subplots(1, 2)\n",
    "    sns.boxplot(y=data[idx1], ax=axes[0])\n",
    "    sns.boxplot(y=data[idx2], ax=axes[1])\n",
    "    plt.subplots_adjust(wspace=1)"
   ]
  },
  {
   "cell_type": "code",
   "execution_count": 11,
   "metadata": {},
   "outputs": [
    {
     "data": {
      "text/plain": [
       "<Figure size 6000x6000 with 0 Axes>"
      ]
     },
     "metadata": {},
     "output_type": "display_data"
    },
    {
     "data": {
      "image/png": "[encoded data removed]",
      "text/plain": [
       "<Figure size 600x400 with 2 Axes>"
      ]
     },
     "metadata": {
      "needs_background": "light"
     },
     "output_type": "display_data"
    }
   ],
   "source": [
    "boxPlot(label1, label2, data)"
   ]
  },
  {
   "cell_type": "code",
   "execution_count": 12,
   "metadata": {},
   "outputs": [
    {
     "data": {
      "text/plain": [
       "<Figure size 6000x6000 with 0 Axes>"
      ]
     },
     "metadata": {},
     "output_type": "display_data"
    },
    {
     "data": {
      "image/png": "[encoded data removed]",
      "text/plain": [
       "<Figure size 600x400 with 2 Axes>"
      ]
     },
     "metadata": {
      "needs_background": "light"
     },
     "output_type": "display_data"
    }
   ],
   "source": [
    "boxPlot(label3, label4, data2)"
   ]
  },
  {
   "cell_type": "markdown",
   "metadata": {},
   "source": [
    "#### Formula to find out upper limit and lower limit from Outliers"
   ]
  },
  {
   "cell_type": "code",
   "execution_count": 13,
   "metadata": {},
   "outputs": [],
   "source": [
    "def setbound(datacolumn):\n",
    "    sorted(datacolumn)\n",
    "    Q1,Q3 = np.percentile(datacolumn , [25,75])\n",
    "    IQR = Q3 - Q1\n",
    "    print(Q1, Q3)\n",
    "    lower_range = Q1 - (1.5 * IQR)\n",
    "    upper_range = Q3 + (1.5 * IQR)\n",
    "    return lower_range,upper_range"
   ]
  },
  {
   "cell_type": "markdown",
   "metadata": {},
   "source": [
    "#### Get the outliers data"
   ]
  },
  {
   "cell_type": "code",
   "execution_count": 14,
   "metadata": {},
   "outputs": [],
   "source": [
    "def getOutlierData(data, mainData):\n",
    "    lowerbound,upperbound = setbound(data)\n",
    "    return mainData[(data < lowerbound) | (data > upperbound)]"
   ]
  },
  {
   "cell_type": "markdown",
   "metadata": {},
   "source": [
    "#### Drop the outliers data"
   ]
  },
  {
   "cell_type": "code",
   "execution_count": 15,
   "metadata": {},
   "outputs": [],
   "source": [
    "def outliering(idx1, idx2, mainData):\n",
    "    while True:\n",
    "        lowerbound,upperbound = setbound(mainData[idx1])\n",
    "        res1 = getOutlierData(mainData[idx1], mainData)\n",
    "\n",
    "        lowerbound,upperbound = setbound(mainData[idx2])\n",
    "        res2 = getOutlierData(mainData[idx2], mainData)\n",
    "        \n",
    "        res = pd.concat([res1,res2]).drop_duplicates()\n",
    "        res = res.index\n",
    "\n",
    "        print('Total Outliers = ',len(res))\n",
    "        print('=== The Outliers ===')\n",
    "        print(res)    \n",
    "        mainData.drop(res, inplace=True)\n",
    "\n",
    "        if(len(res)==0):\n",
    "            break\n",
    "    print(\"BLOXPOT AFTER OUTLIERING\")\n",
    "    boxPlot(idx1, idx2, mainData)\n",
    "    return mainData"
   ]
  },
  {
   "cell_type": "code",
   "execution_count": 16,
   "metadata": {},
   "outputs": [
    {
     "name": "stdout",
     "output_type": "stream",
     "text": [
      "62.0 71.0\n",
      "62.0 71.0\n",
      "67.0 75.0\n",
      "67.0 75.0\n",
      "Total Outliers =  94\n",
      "=== The Outliers ===\n",
      "Int64Index([    0,     1,     2,     3,     4,     6,     7,     8,    10,\n",
      "               11,    14,    16,    23,    24,    26,    27,    29,    40,\n",
      "               42,    43,    44,    55,    56,    58,    60,    62,    64,\n",
      "               73,    74,    75,    76,    80,    85,    86,    87,    96,\n",
      "            18235, 18237, 18238, 18240, 18241, 18242, 18247, 18249, 18256,\n",
      "            18258, 18260, 18262, 18264, 18271, 18272, 18273, 18276, 18277,\n",
      "              108,   110,   111,   116,   157,   158,   162,   237,   238,\n",
      "              329,   332,   411,   412,   568,   569,   571,   753,   754,\n",
      "              992,  1254,  1255,  1257,  1615,  2121,  2122,  3288,  4041,\n",
      "             4756, 17580, 17777, 17945, 17946, 18064, 18065, 18164, 18165,\n",
      "            18167, 18230, 18232, 18233],\n",
      "           dtype='int64')\n",
      "62.0 71.0\n",
      "62.0 71.0\n",
      "67.0 75.0\n",
      "67.0 75.0\n",
      "Total Outliers =  49\n",
      "=== The Outliers ===\n",
      "Int64Index([    5,     9,    12,    15,    17,    25,    28,    30,    41,\n",
      "               45,    57,    59,    61,    63,    65,    77,    81,    88,\n",
      "               97, 18236, 18239, 18243, 18248, 18250, 18257, 18259, 18261,\n",
      "            18263, 18265, 18274,   109,   112,   117,   159,   163,   239,\n",
      "              330,   413,   570,   572,  1256,  2123, 17581, 17778, 17947,\n",
      "            18166, 18168, 18231, 18234],\n",
      "           dtype='int64')\n",
      "62.0 71.0\n",
      "62.0 71.0\n",
      "67.0 75.0\n",
      "67.0 75.0\n",
      "Total Outliers =  22\n",
      "=== The Outliers ===\n",
      "Int64Index([   13,    18,    31,    46,    66,    78,    82,    89,    98,\n",
      "            18244, 18251, 18266, 18275,   113,   118,   160,   164,   331,\n",
      "              573, 17582, 17779, 17948],\n",
      "           dtype='int64')\n",
      "62.0 71.0\n",
      "62.0 71.0\n",
      "67.0 75.0\n",
      "67.0 75.0\n",
      "Total Outliers =  15\n",
      "=== The Outliers ===\n",
      "Int64Index([19, 32, 47, 67, 79, 83, 90, 99, 18245, 18252, 18267, 114, 119, 161,\n",
      "            165],\n",
      "           dtype='int64')\n",
      "62.0 71.0\n",
      "62.0 71.0\n",
      "67.0 75.0\n",
      "67.0 75.0\n",
      "Total Outliers =  12\n",
      "=== The Outliers ===\n",
      "Int64Index([20, 33, 48, 68, 84, 91, 100, 18246, 18253, 18268, 115, 166], dtype='int64')\n",
      "62.0 71.0\n",
      "62.0 71.0\n",
      "67.0 75.0\n",
      "67.0 75.0\n",
      "Total Outliers =  9\n",
      "=== The Outliers ===\n",
      "Int64Index([21, 34, 49, 69, 92, 101, 18254, 18269, 167], dtype='int64')\n",
      "62.0 71.0\n",
      "62.0 71.0\n",
      "67.0 75.0\n",
      "67.0 75.0\n",
      "Total Outliers =  9\n",
      "=== The Outliers ===\n",
      "Int64Index([22, 35, 50, 70, 93, 102, 18255, 18270, 168], dtype='int64')\n",
      "62.0 71.0\n",
      "62.0 71.0\n",
      "67.0 75.0\n",
      "67.0 75.0\n",
      "Total Outliers =  6\n",
      "=== The Outliers ===\n",
      "Int64Index([36, 51, 71, 94, 103, 169], dtype='int64')\n",
      "62.0 71.0\n",
      "62.0 71.0\n",
      "67.0 75.0\n",
      "67.0 75.0\n",
      "Total Outliers =  6\n",
      "=== The Outliers ===\n",
      "Int64Index([37, 52, 72, 95, 104, 170], dtype='int64')\n",
      "62.0 71.0\n",
      "62.0 71.0\n",
      "67.0 75.0\n",
      "67.0 75.0\n",
      "Total Outliers =  4\n",
      "=== The Outliers ===\n",
      "Int64Index([38, 53, 105, 171], dtype='int64')\n",
      "62.0 71.0\n",
      "62.0 71.0\n",
      "67.0 75.0\n",
      "67.0 75.0\n",
      "Total Outliers =  3\n",
      "=== The Outliers ===\n",
      "Int64Index([39, 54, 106], dtype='int64')\n",
      "62.0 71.0\n",
      "62.0 71.0\n",
      "67.0 75.0\n",
      "67.0 75.0\n",
      "Total Outliers =  1\n",
      "=== The Outliers ===\n",
      "Int64Index([107], dtype='int64')\n",
      "62.0 71.0\n",
      "62.0 71.0\n",
      "67.0 75.0\n",
      "67.0 75.0\n",
      "Total Outliers =  0\n",
      "=== The Outliers ===\n",
      "Int64Index([], dtype='int64')\n",
      "BLOXPOT AFTER OUTLIERING\n"
     ]
    },
    {
     "data": {
      "text/plain": [
       "<Figure size 6000x6000 with 0 Axes>"
      ]
     },
     "metadata": {},
     "output_type": "display_data"
    },
    {
     "data": {
      "image/png": "[encoded data removed]",
      "text/plain": [
       "<Figure size 600x400 with 2 Axes>"
      ]
     },
     "metadata": {
      "needs_background": "light"
     },
     "output_type": "display_data"
    }
   ],
   "source": [
    "newData = outliering(label1, label2, data)"
   ]
  },
  {
   "cell_type": "code",
   "execution_count": 17,
   "metadata": {},
   "outputs": [
    {
     "name": "stdout",
     "output_type": "stream",
     "text": [
      "62.0 71.0\n",
      "62.0 71.0\n",
      "325000.0 2100000.0\n",
      "325000.0 2100000.0\n",
      "Total Outliers =  413\n",
      "=== The Outliers ===\n",
      "Int64Index([   0,    1,    2,    3,    4,    6,    7,    8,    9,   10,\n",
      "            ...\n",
      "            3288, 3290, 3291, 3297, 3301, 3304, 3306, 4042, 4044, 4045],\n",
      "           dtype='int64', length=413)\n",
      "62.0 70.0\n",
      "62.0 70.0\n",
      "325000.0 1800000.0\n",
      "325000.0 1800000.0\n",
      "Total Outliers =  302\n",
      "=== The Outliers ===\n",
      "Int64Index([   5,   33,   38,   50,   51,   63,   81,   91,   93,   94,\n",
      "            ...\n",
      "            3341, 3342, 3354, 3365, 4041, 4043, 4048, 4049, 4050, 4058],\n",
      "           dtype='int64', length=302)\n",
      "62.0 70.0\n",
      "62.0 70.0\n",
      "312500.0 1600000.0\n",
      "312500.0 1600000.0\n",
      "Total Outliers =  256\n",
      "=== The Outliers ===\n",
      "Int64Index([  83,  107,  119,  146,  148,  150,  152,  168,  178,  183,\n",
      "            ...\n",
      "            4052, 4056, 4057, 4060, 4061, 4070, 4756, 4758, 4759, 4769],\n",
      "           dtype='int64', length=256)\n",
      "62.0 70.0\n",
      "62.0 70.0\n",
      "300000.0 1500000.0\n",
      "300000.0 1500000.0\n",
      "Total Outliers =  222\n",
      "=== The Outliers ===\n",
      "Int64Index([   84,   154,   169,   186,   216,   222,   227,   233, 18173,\n",
      "            18174,\n",
      "            ...\n",
      "             4067,  4073,  4083,  4090,  4757,  4761,  4764,  4766,  4770,\n",
      "             4778],\n",
      "           dtype='int64', length=222)\n",
      "61.0 70.0\n",
      "61.0 70.0\n",
      "300000.0 1400000.0\n",
      "300000.0 1400000.0\n",
      "Total Outliers =  201\n",
      "=== The Outliers ===\n",
      "Int64Index([  95,  175,  187,  226,  236,  254,  273,  301,  307,  309,\n",
      "            ...\n",
      "            4087, 4098, 4103, 4113, 4760, 4762, 4768, 4780, 4781, 4784],\n",
      "           dtype='int64', length=201)\n",
      "61.0 70.0\n",
      "61.0 70.0\n",
      "300000.0 1400000.0\n",
      "300000.0 1400000.0\n",
      "Total Outliers =  177\n",
      "=== The Outliers ===\n",
      "Int64Index([ 188,  255,  281,  308,  313,  315,  400,  434,  444,  454,\n",
      "            ...\n",
      "            4089, 4107, 4116, 4176, 4763, 4767, 4772, 4782, 4783, 4786],\n",
      "           dtype='int64', length=177)\n",
      "61.0 69.0\n",
      "61.0 69.0\n",
      "300000.0 1300000.0\n",
      "300000.0 1300000.0\n",
      "Total Outliers =  181\n",
      "=== The Outliers ===\n",
      "Int64Index([  256,   283,   312,   316,   327, 18240, 18262, 18275,   438,\n",
      "              446,\n",
      "            ...\n",
      "             4121,  4149,  4187,  4765,  4776,  4785,  4787,  4788,  4791,\n",
      "             4794],\n",
      "           dtype='int64', length=181)\n",
      "61.0 69.0\n",
      "61.0 69.0\n",
      "300000.0 1300000.0\n",
      "300000.0 1300000.0\n",
      "Total Outliers =  160\n",
      "=== The Outliers ===\n",
      "Int64Index([  285,   318,   320,   328, 18241, 18263, 18276,   448,   461,\n",
      "              528,\n",
      "            ...\n",
      "             4111,  4119,  4127,  4157,  4195,  4771,  4789,  4792,  4795,\n",
      "             4798],\n",
      "           dtype='int64', length=160)\n",
      "61.0 69.0\n",
      "61.0 69.0\n",
      "290000.0 1200000.0\n",
      "290000.0 1200000.0\n",
      "Total Outliers =  167\n",
      "=== The Outliers ===\n",
      "Int64Index([  322, 18243, 18264, 18277,   473,   531,   555,   557,   608,\n",
      "              612,\n",
      "            ...\n",
      "             4200,  4217,  4252,  4773,  4779,  4790,  4796,  4799,  4800,\n",
      "             4801],\n",
      "           dtype='int64', length=167)\n",
      "61.0 69.0\n",
      "61.0 69.0\n",
      "290000.0 1200000.0\n",
      "290000.0 1200000.0\n",
      "Total Outliers =  151\n",
      "=== The Outliers ===\n",
      "Int64Index([18244, 18265,   479,   540,   559,   560,   613,   630,   631,\n",
      "              706,\n",
      "            ...\n",
      "             4174,  4202,  4225,  4253,  4774,  4793,  4802,  4806,  4813,\n",
      "             4822],\n",
      "           dtype='int64', length=151)\n",
      "61.0 69.0\n",
      "61.0 69.0\n",
      "290000.0 1200000.0\n",
      "290000.0 1200000.0\n",
      "Total Outliers =  134\n",
      "=== The Outliers ===\n",
      "Int64Index([18245, 18266,   481,   546,   562,   614,   634,   645,   710,\n",
      "              785,\n",
      "            ...\n",
      "             4175,  4209,  4227,  4254,  4775,  4797,  4803,  4808,  4815,\n",
      "             4837],\n",
      "           dtype='int64', length=134)\n",
      "61.0 69.0\n",
      "61.0 69.0\n",
      "280000.0 1100000.0\n",
      "280000.0 1100000.0\n",
      "Total Outliers =  138\n",
      "=== The Outliers ===\n",
      "Int64Index([18246, 18267,   482,   498,   561,   615,   635,   647,   711,\n",
      "              786,\n",
      "            ...\n",
      "             4229,  4255,  4777,  4804,  4807,  4809,  4814,  4816,  4839,\n",
      "             4858],\n",
      "           dtype='int64', length=138)\n",
      "61.0 69.0\n",
      "61.0 69.0\n",
      "280000.0 1100000.0\n",
      "280000.0 1100000.0\n",
      "Total Outliers =  120\n",
      "=== The Outliers ===\n",
      "Int64Index([18247, 18268,   636,   717,   788,   826,   853,   914,   931,\n",
      "              944,\n",
      "            ...\n",
      "             4213,  4230,  4260,  4805,  4810,  4812,  4817,  4819,  4840,\n",
      "             4863],\n",
      "           dtype='int64', length=120)\n",
      "61.0 69.0\n",
      "61.0 69.0\n",
      "280000.0 1100000.0\n",
      "280000.0 1100000.0\n",
      "Total Outliers =  112\n",
      "=== The Outliers ===\n",
      "Int64Index([18248, 18270,   723,   790,   836,   854,   916,   948,   954,\n",
      "              957,\n",
      "            ...\n",
      "             4232,  4264,  4320,  4321,  4811,  4820,  4825,  4838,  4841,\n",
      "             4866],\n",
      "           dtype='int64', length=112)\n",
      "61.0 69.0\n",
      "61.0 69.0\n",
      "280000.0 1100000.0\n",
      "280000.0 1100000.0\n",
      "Total Outliers =  108\n",
      "=== The Outliers ===\n",
      "Int64Index([18250, 18271,   731,   798,   855,   918,   949,   958,   968,\n",
      "             1034,\n",
      "            ...\n",
      "             4233,  4273,  4330,  4343,  4818,  4821,  4827,  4842,  4843,\n",
      "             4877],\n",
      "           dtype='int64', length=108)\n",
      "61.0 68.0\n",
      "61.0 68.0\n",
      "280000.0 1100000.0\n",
      "280000.0 1100000.0\n",
      "Total Outliers =  117\n",
      "=== The Outliers ===\n",
      "Int64Index([  407,   492,   565,   648,   737, 18066, 18067, 18075, 18131,\n",
      "            18157,\n",
      "            ...\n",
      "             4235,  4277,  4332,  4351,  4824,  4828,  4834,  4845,  4848,\n",
      "             4879],\n",
      "           dtype='int64', length=117)\n",
      "61.0 68.0\n",
      "61.0 68.0\n",
      "280000.0 1100000.0\n",
      "280000.0 1100000.0\n",
      "Total Outliers =  107\n",
      "=== The Outliers ===\n",
      "Int64Index([  408,   566,   741,   749, 18068, 18069, 18081, 18133, 18159,\n",
      "            18166,\n",
      "            ...\n",
      "             4262,  4284,  4333,  4358,  4826,  4830,  4846,  4850,  4854,\n",
      "             4882],\n",
      "           dtype='int64', length=107)\n",
      "61.0 68.0\n",
      "61.0 68.0\n",
      "270000.0 1000000.0\n",
      "270000.0 1000000.0\n",
      "Total Outliers =  123\n",
      "=== The Outliers ===\n",
      "Int64Index([  409,   567,   743,   750, 18070, 18082, 18112, 18136, 18161,\n",
      "            18179,\n",
      "            ...\n",
      "             4832,  4844,  4847,  4852,  4860,  4884,  4906,  5658,  5660,\n",
      "             5672],\n",
      "           dtype='int64', length=123)\n",
      "61.0 68.0\n",
      "61.0 68.0\n",
      "270000.0 1000000.0\n",
      "270000.0 1000000.0\n",
      "Total Outliers =  109\n",
      "=== The Outliers ===\n",
      "Int64Index([  410,   751, 18071, 18086, 18137, 18163, 18180, 18191, 18230,\n",
      "            18255,\n",
      "            ...\n",
      "             4833,  4849,  4851,  4855,  4867,  4891,  4909,  5659,  5661,\n",
      "             5675],\n",
      "           dtype='int64', length=109)\n",
      "61.0 68.0\n",
      "61.0 68.0\n",
      "270000.0 1000000.0\n",
      "270000.0 1000000.0\n",
      "Total Outliers =  103\n",
      "=== The Outliers ===\n",
      "Int64Index([  752, 18072, 18088, 18138, 18164, 18181, 18197, 18232, 18256,\n",
      "              938,\n",
      "            ...\n",
      "             4835,  4853,  4856,  4861,  4873,  4894,  4910,  4963,  5662,\n",
      "             5663],\n",
      "           dtype='int64', length=103)\n",
      "61.0 68.0\n",
      "61.0 68.0\n",
      "270000.0 1000000.0\n",
      "270000.0 1000000.0\n",
      "Total Outliers =  93\n",
      "=== The Outliers ===\n",
      "Int64Index([18073, 18092, 18140, 18167, 18185, 18202, 18257,   939,  1127,\n",
      "             1224,  1361,  1537,  1543,  1544,  1555,  1561,  1586,  1693,\n",
      "             1730,  1732,  1765,  1900,  1991,  2031,  2094,  2185,  2206,\n",
      "             2240,  2256,  2266,  2450,  2459,  2498,  2552,  2594,  2595,\n",
      "             2631,  2720,  2833,  2901,  2925,  3096,  3107,  3118,  3145,\n",
      "             3162,  3189,  3194,  3198,  3242,  3283,  3369,  3464,  3508,\n",
      "             3547,  3605,  3617,  3624,  3651,  3654,  3659,  3785,  3804,\n",
      "             3815,  3820,  3822,  3861,  3893,  3908,  4012,  4156,  4178,\n",
      "             4206,  4243,  4246,  4257,  4268,  4290,  4299,  4339,  4354,\n",
      "             4363,  4371,  4836,  4857,  4859,  4862,  4876,  4913,  4927,\n",
      "             4965,  5664,  5665],\n",
      "           dtype='int64')\n",
      "61.0 68.0\n",
      "61.0 68.0\n",
      "270000.0 975000.0\n",
      "270000.0 975000.0\n",
      "Total Outliers =  86\n",
      "=== The Outliers ===\n",
      "Int64Index([18074, 18094, 18142, 18168, 18186, 18203, 18258,   942,  1128,\n",
      "             1229,  1378,  1541,  1549,  1550,  1557,  1564,  1589,  1733,\n",
      "             1734,  1766,  1938,  1997,  2033,  2098,  2214,  2244,  2257,\n",
      "             2272,  2464,  2493,  2513,  2600,  2608,  2632,  2721,  2835,\n",
      "             2904,  2930,  3142,  3161,  3164,  3165,  3195,  3250,  3262,\n",
      "             3370,  3465,  3509,  3549,  3607,  3626,  3653,  3665,  3666,\n",
      "             3786,  3816,  3825,  3837,  3839,  3896,  3913,  3966,  3973,\n",
      "             4014,  4167,  4179,  4208,  4245,  4247,  4259,  4291,  4292,\n",
      "             4322,  4342,  4357,  4367,  4469,  4864,  4869,  4886,  4901,\n",
      "             4915,  4928,  4966,  5666,  5668],\n",
      "           dtype='int64')\n",
      "61.0 68.0\n",
      "61.0 68.0\n",
      "270000.0 975000.0\n",
      "270000.0 975000.0\n",
      "Total Outliers =  76\n",
      "=== The Outliers ===\n",
      "Int64Index([18076, 18100, 18143, 18187, 18206, 18260,   947,  1129,  1551,\n",
      "             1556,  1558,  1560,  1577,  1735,  1737,  1767,  1939,  2002,\n",
      "             2035,  2102,  2248,  2258,  2277,  2477,  2528,  2581,  2601,\n",
      "             2610,  2639,  2723,  2841,  2932,  3147,  3180,  3190,  3201,\n",
      "             3277,  3372,  3468,  3510,  3550,  3609,  3632,  3662,  3667,\n",
      "             3669,  3818,  3832,  3840,  3848,  3856,  3916,  3956,  3985,\n",
      "             4031,  4171,  4180,  4210,  4248,  4261,  4293,  4323,  4325,\n",
      "             4346,  4370,  4497,  4508,  4870,  4875,  4902,  4903,  4919,\n",
      "             4929,  4968,  5667,  5670],\n",
      "           dtype='int64')\n",
      "61.0 68.0\n",
      "61.0 68.0\n",
      "270000.0 975000.0\n",
      "270000.0 975000.0\n",
      "Total Outliers =  69\n",
      "=== The Outliers ===\n",
      "Int64Index([18077, 18101, 18144, 18188, 18209, 18261,   956,  1552,  1562,\n",
      "             1563,  1578,  1591,  1736,  1738,  1768,  1940,  2004,  2046,\n",
      "             2104,  2249,  2259,  2281,  2481,  2534,  2612,  2724,  2843,\n",
      "             2939,  3150,  3197,  3206,  3213,  3469,  3511,  3551,  3613,\n",
      "             3637,  3663,  3671,  3675,  3827,  3836,  3842,  3859,  3865,\n",
      "             3939,  3957,  4027,  4172,  4181,  4215,  4263,  4265,  4294,\n",
      "             4326,  4337,  4373,  4382,  4515,  4519,  4871,  4887,  4905,\n",
      "             4914,  4924,  4933,  4976,  5671,  5676],\n",
      "           dtype='int64')\n",
      "61.0 68.0\n",
      "61.0 68.0\n",
      "270000.0 950000.0\n",
      "270000.0 950000.0\n",
      "Total Outliers =  71\n",
      "=== The Outliers ===\n",
      "Int64Index([18078, 18110, 18145, 18190, 18210,   960,  1559,  1566,  1574,\n",
      "             1582,  1595,  1739,  1742,  1769,  1888,  1950,  2005,  2049,\n",
      "             2105,  2250,  2260,  2282,  2483,  2538,  2613,  2725,  2846,\n",
      "             2941,  3168,  3207,  3214,  3228,  3470,  3512,  3555,  3615,\n",
      "             3641,  3670,  3672,  3679,  3690,  3830,  3851,  3860,  3864,\n",
      "             3876,  3945,  3978,  4183,  4216,  4266,  4283,  4297,  4319,\n",
      "             4327,  4374,  4384,  4463,  4523,  4561,  4865,  4874,  4889,\n",
      "             4907,  4925,  4938,  4972,  4978,  5669,  5673,  6633],\n",
      "           dtype='int64')\n",
      "61.0 68.0\n",
      "61.0 68.0\n",
      "262500.0 950000.0\n",
      "262500.0 950000.0\n",
      "Total Outliers =  69\n",
      "=== The Outliers ===\n",
      "Int64Index([18079, 18113, 18149, 18192, 18211,   962,  1565,  1569,  1580,\n",
      "             1596,  1740,  1745,  1770,  1891,  1961,  2010,  2050,  2108,\n",
      "             2252,  2262,  2287,  2484,  2540,  2615,  2733,  2850,  2942,\n",
      "             3173,  3216,  3229,  3239,  3474,  3515,  3556,  3647,  3673,\n",
      "             3678,  3684,  3746,  3835,  3854,  3871,  3874,  3950,  3980,\n",
      "             4008,  4192,  4222,  4269,  4287,  4298,  4328,  4349,  4385,\n",
      "             4389,  4465,  4533,  4564,  4868,  4878,  4897,  4911,  4931,\n",
      "             4939,  4981,  4986,  5674,  5680,  6636],\n",
      "           dtype='int64')\n",
      "61.0 68.0\n",
      "61.0 68.0\n",
      "260000.0 950000.0\n",
      "260000.0 950000.0\n",
      "Total Outliers =  67\n",
      "=== The Outliers ===\n",
      "Int64Index([18080, 18117, 18150, 18193, 18212,   963,  1567,  1570,  1583,\n",
      "             1603,  1741,  1746,  1771,  1963,  2013,  2051,  2109,  2111,\n",
      "             2261,  2263,  2289,  2485,  2543,  2621,  2734,  2851,  2947,\n",
      "             3178,  3217,  3232,  3244,  3475,  3516,  3557,  3660,  3676,\n",
      "             3685,  3755,  3838,  3866,  3875,  3883,  3960,  4007,  4029,\n",
      "             4193,  4231,  4270,  4296,  4300,  4334,  4386,  4433,  4434,\n",
      "             4516,  4535,  4593,  4872,  4880,  4912,  4932,  4940,  4983,\n",
      "             4991,  5677,  5683,  6643],\n",
      "           dtype='int64')\n",
      "61.0 68.0\n",
      "61.0 68.0\n",
      "260000.0 925000.0\n",
      "260000.0 925000.0\n",
      "Total Outliers =  62\n",
      "=== The Outliers ===\n",
      "Int64Index([18083, 18118, 18152, 18194, 18213,   964,  1568,  1573,  1584,\n",
      "             1606,  1744,  1748,  1773,  1965,  2015,  2059,  2265,  2269,\n",
      "             2291,  2505,  2545,  2622,  2736,  2853,  2949,  3186,  3219,\n",
      "             3236,  3274,  3476,  3558,  3681,  3758,  3772,  3847,  3868,\n",
      "             3885,  3895,  3961,  4020,  4194,  4236,  4271,  4301,  4306,\n",
      "             4341,  4387,  4471,  4538,  4552,  4565,  4619,  4881,  4885,\n",
      "             4916,  4934,  4941,  4985,  4998,  5678,  5684,  6648],\n",
      "           dtype='int64')\n",
      "61.0 68.0\n",
      "61.0 68.0\n",
      "260000.0 925000.0\n",
      "260000.0 925000.0\n",
      "Total Outliers =  59\n",
      "=== The Outliers ===\n",
      "Int64Index([18084, 18120, 18153, 18195, 18214,   969,  1571,  1579,  1588,\n",
      "             1747,  1749,  1774,  1966,  2025,  2062,  2267,  2273,  2293,\n",
      "             2507,  2555,  2626,  2738,  2856,  2950,  3192,  3220,  3240,\n",
      "             3278,  3559,  3682,  3774,  3781,  3869,  3877,  3888,  3920,\n",
      "             3987,  4021,  4197,  4237,  4272,  4302,  4311,  4345,  4390,\n",
      "             4501,  4539,  4566,  4579,  4659,  4883,  4892,  4918,  4935,\n",
      "             4942,  4988,  4999,  5679,  5685],\n",
      "           dtype='int64')\n",
      "61.0 68.0\n",
      "61.0 68.0\n",
      "260000.0 925000.0\n",
      "260000.0 925000.0\n",
      "Total Outliers =  54\n",
      "=== The Outliers ===\n",
      "Int64Index([18085, 18121, 18154, 18196, 18215,   971,  1581,  1585,  1590,\n",
      "             1750,  1777,  1970,  2032,  2071,  2268,  2295,  2515,  2564,\n",
      "             2638,  2739,  2858,  2953,  3193,  3222,  3247,  3561,  3775,\n",
      "             3817,  3879,  3892,  3902,  3924,  3991,  4028,  4198,  4274,\n",
      "             4303,  4313,  4324,  4347,  4391,  4507,  4540,  4573,  4585,\n",
      "             4701,  4888,  4920,  4936,  4944,  4989,  5006,  5034,  5686],\n",
      "           dtype='int64')\n",
      "61.0 68.0\n",
      "61.0 68.0\n",
      "260000.0 925000.0\n",
      "260000.0 925000.0\n",
      "Total Outliers =  52\n",
      "=== The Outliers ===\n",
      "Int64Index([18087, 18123, 18155, 18198, 18216,   979,  1587,  1608,  1751,\n",
      "             1787,  1971,  2039,  2075,  2270,  2296,  2516,  2570,  2643,\n",
      "             2742,  2860,  2957,  3199,  3223,  3282,  3562,  3795,  3823,\n",
      "             3884,  3898,  3906,  3929,  3994,  4034,  4201,  4275,  4304,\n",
      "             4314,  4331,  4397,  4509,  4542,  4580,  4613,  4704,  4890,\n",
      "             4921,  4937,  4946,  4992,  5008,  5041,  5687],\n",
      "           dtype='int64')\n",
      "61.0 68.0\n",
      "61.0 68.0\n",
      "260000.0 925000.0\n",
      "260000.0 925000.0\n",
      "Total Outliers =  49\n",
      "=== The Outliers ===\n",
      "Int64Index([18089, 18124, 18156, 18199, 18218,   980,  1607,  1756,  1789,\n",
      "             1974,  2040,  2078,  2271,  2297,  2517,  2580,  2644,  2745,\n",
      "             2861,  2961,  3200,  3227,  3571,  3797,  3826,  3887,  3901,\n",
      "             3918,  3934,  4036,  4203,  4276,  4305,  4316,  4350,  4408,\n",
      "             4547,  4557,  4587,  4617,  4734,  4893,  4922,  4947,  4948,\n",
      "             4994,  5035,  5043,  5688],\n",
      "           dtype='int64')\n",
      "61.0 68.0\n",
      "61.0 68.0\n",
      "260000.0 900000.0\n",
      "260000.0 900000.0\n",
      "Total Outliers =  50\n",
      "=== The Outliers ===\n",
      "Int64Index([18090, 18126, 18158, 18200, 18219,  1764,  1790,  1978,  2053,\n",
      "             2079,  2280,  2299,  2386,  2520,  2585,  2647,  2749,  2863,\n",
      "             2972,  3203,  3233,  3572,  3709,  3807,  3828,  3897,  3904,\n",
      "             3928,  3938,  4205,  4280,  4307,  4329,  4352,  4353,  4409,\n",
      "             4553,  4558,  4611,  4621,  4895,  4900,  4923,  4949,  4951,\n",
      "             5002,  5036,  5049,  5681,  6623],\n",
      "           dtype='int64')\n",
      "61.0 68.0\n",
      "61.0 68.0\n",
      "260000.0 900000.0\n",
      "260000.0 900000.0\n",
      "Total Outliers =  48\n",
      "=== The Outliers ===\n",
      "Int64Index([18091, 18128, 18160, 18201, 18222,  1775,  1791,  1980,  2056,\n",
      "             2082,  2286,  2302,  2523,  2592,  2750,  2869,  2982,  3208,\n",
      "             3243,  3574,  3710,  3831,  3834,  3909,  3923,  3951,  3962,\n",
      "             4212,  4281,  4308,  4340,  4356,  4364,  4412,  4562,  4563,\n",
      "             4618,  4636,  4896,  4904,  4926,  4950,  4952,  5005,  5037,\n",
      "             5051,  5682,  6627],\n",
      "           dtype='int64')\n",
      "61.0 68.0\n",
      "61.0 68.0\n",
      "260000.0 900000.0\n",
      "260000.0 900000.0\n",
      "Total Outliers =  46\n",
      "=== The Outliers ===\n",
      "Int64Index([18093, 18129, 18162, 18204,  1776,  1793,  1985,  2067,  2083,\n",
      "             2288,  2305,  2524,  2598,  2751,  2870,  2993,  3210,  3249,\n",
      "             3575,  3713,  3844,  3910,  3911,  3930,  3967,  3968,  4214,\n",
      "             4282,  4317,  4361,  4365,  4413,  4570,  4571,  4635,  4637,\n",
      "             4898,  4908,  4930,  4953,  4954,  5007,  5038,  5052,  5696,\n",
      "             6629],\n",
      "           dtype='int64')\n",
      "61.0 68.0\n",
      "61.0 68.0\n",
      "260000.0 900000.0\n",
      "260000.0 900000.0\n",
      "Total Outliers =  44\n",
      "=== The Outliers ===\n",
      "Int64Index([18095, 18130, 18205,  1778,  1795,  1986,  2068,  2091,  2294,\n",
      "             2306,  2526,  2604,  2752,  2872,  3027,  3211,  3281,  3578,\n",
      "             3724,  3855,  3912,  3931,  3937,  3969,  3981,  4295,  4348,\n",
      "             4366,  4376,  4414,  4574,  4578,  4639,  4660,  4899,  4917,\n",
      "             4943,  4955,  4957,  5009,  5040,  5054,  5700,  6634],\n",
      "           dtype='int64')\n",
      "60.25 68.0\n",
      "60.25 68.0\n",
      "260000.0 900000.0\n",
      "260000.0 900000.0\n",
      "Total Outliers =  38\n",
      "=== The Outliers ===\n",
      "Int64Index([1779, 1798, 1987, 2080, 2097, 2307, 2311, 2529, 2633, 2755, 2873,\n",
      "            3049, 3234, 3580, 3729, 3857, 3921, 3935, 3944, 3979, 4310, 4355,\n",
      "            4369, 4415, 4416, 4581, 4589, 4642, 4669, 4956, 4958, 4959, 5010,\n",
      "            5042, 5055, 5073, 5701, 6635],\n",
      "           dtype='int64')\n",
      "60.0 67.0\n",
      "60.0 67.0\n",
      "260000.0 900000.0\n",
      "260000.0 900000.0\n",
      "Total Outliers =  40\n",
      "=== The Outliers ===\n",
      "Int64Index([  791, 18207,  1783,  1799,  1990,  2084,  2100,  2308,  2324,\n",
      "             2532,  2634,  2756,  2875,  3074,  3237,  3584,  3737,  3886,\n",
      "             3925,  3936,  3958,  3995,  4312,  4368,  4372,  4450,  4495,\n",
      "             4590,  4596,  4645,  4677,  4960,  4962,  4974,  5012,  5045,\n",
      "             5056,  5074,  5703,  6637],\n",
      "           dtype='int64')\n",
      "60.0 67.0\n",
      "60.0 67.0\n",
      "260000.0 875000.0\n",
      "260000.0 875000.0\n",
      "Total Outliers =  45\n",
      "=== The Outliers ===\n",
      "Int64Index([  801, 18208,  1796,  1800,  1893,  1992,  2086,  2106,  2309,\n",
      "             2333,  2400,  2533,  2635,  2757,  2877,  2968,  3103,  3245,\n",
      "             3745,  3801,  3889,  3949,  3952,  4032,  4315,  4375,  4377,\n",
      "             4402,  4468,  4502,  4597,  4603,  4653,  4696,  4945,  4961,\n",
      "             4979,  5013,  5046,  5058,  5084,  5689,  5704,  6622,  6638],\n",
      "           dtype='int64')\n",
      "60.0 67.0\n",
      "60.0 67.0\n",
      "260000.0 875000.0\n",
      "260000.0 875000.0\n",
      "Total Outliers =  41\n",
      "=== The Outliers ===\n",
      "Int64Index([ 868, 1797, 1802, 1898, 1994, 2087, 2110, 2312, 2343, 2535, 2614,\n",
      "            2636, 2758, 2971, 3128, 3275, 3759, 3891, 3954, 3963, 4037, 4318,\n",
      "            4378, 4396, 4446, 4489, 4504, 4600, 4616, 4662, 4700, 4967, 4970,\n",
      "            4980, 5014, 5048, 5061, 5089, 5693, 6624, 6639],\n",
      "           dtype='int64')\n",
      "60.0 67.0\n",
      "60.0 67.0\n",
      "250000.0 875000.0\n",
      "250000.0 875000.0\n",
      "Total Outliers =  32\n",
      "=== The Outliers ===\n",
      "Int64Index([ 888, 1801, 1804, 1996, 2088, 2112, 2313, 2344, 2541, 2648, 2759,\n",
      "            3276, 3761, 3899, 3955, 3964, 4344, 4379, 4400, 4490, 4510, 4602,\n",
      "            4622, 4680, 4708, 4982, 4995, 5015, 5059, 5063, 5090, 6646],\n",
      "           dtype='int64')\n",
      "60.0 67.0\n",
      "60.0 67.0\n",
      "250000.0 875000.0\n",
      "250000.0 875000.0\n",
      "Total Outliers =  29\n",
      "=== The Outliers ===\n",
      "Int64Index([ 917, 1803, 1806, 2003, 2090, 2114, 2318, 2349, 2544, 2760, 3784,\n",
      "            3922, 3959, 3971, 4380, 4404, 4496, 4511, 4606, 4624, 4684, 4709,\n",
      "            4984, 5004, 5018, 5060, 5066, 5101, 6651],\n",
      "           dtype='int64')\n",
      "60.0 67.0\n",
      "60.0 67.0\n",
      "250000.0 875000.0\n",
      "250000.0 875000.0\n",
      "Total Outliers =  28\n",
      "=== The Outliers ===\n",
      "Int64Index([ 989, 1808, 1810, 2007, 2099, 2115, 2321, 2351, 2547, 2763, 3803,\n",
      "            3927, 3972, 3992, 4381, 4405, 4520, 4525, 4626, 4640, 4685, 4713,\n",
      "            4987, 5011, 5019, 5065, 5067, 5103],\n",
      "           dtype='int64')\n",
      "60.0 67.0\n",
      "60.0 67.0\n",
      "250000.0 875000.0\n",
      "250000.0 875000.0\n",
      "Total Outliers =  27\n",
      "=== The Outliers ===\n",
      "Int64Index([ 990, 1811, 1816, 2009, 2116, 2323, 2353, 2549, 2767, 3845, 3953,\n",
      "            3983, 4016, 4383, 4410, 4522, 4528, 4633, 4646, 4686, 4715, 4990,\n",
      "            5021, 5069, 5078, 5079, 5108],\n",
      "           dtype='int64')\n",
      "60.0 67.0\n",
      "60.0 67.0\n",
      "250000.0 875000.0\n",
      "250000.0 875000.0\n",
      "Total Outliers =  25\n",
      "=== The Outliers ===\n",
      "Int64Index([ 991, 1813, 1820, 2011, 2326, 2354, 2550, 2770, 3846, 3977, 3984,\n",
      "            4017, 4392, 4534, 4543, 4641, 4654, 4692, 4744, 5001, 5022, 5071,\n",
      "            5080, 5085, 5116],\n",
      "           dtype='int64')\n",
      "60.0 67.0\n",
      "60.0 67.0\n",
      "250000.0 875000.0\n",
      "250000.0 875000.0\n",
      "Total Outliers =  24\n",
      "=== The Outliers ===\n",
      "Int64Index([1814, 1822, 2017, 2328, 2356, 2551, 2771, 3850, 3986, 3993, 4018,\n",
      "            4393, 4536, 4546, 4664, 4665, 4733, 4751, 5003, 5026, 5081, 5082,\n",
      "            5093, 5117],\n",
      "           dtype='int64')\n",
      "60.0 67.0\n",
      "60.0 67.0\n",
      "250000.0 875000.0\n",
      "250000.0 875000.0\n",
      "Total Outliers =  23\n",
      "=== The Outliers ===\n",
      "Int64Index([1817, 1826, 2020, 2332, 2358, 2554, 2773, 3933, 3989, 3998, 4026,\n",
      "            4394, 4545, 4549, 4666, 4672, 4746, 5017, 5030, 5083, 5094, 5097,\n",
      "            5130],\n",
      "           dtype='int64')\n",
      "60.0 67.0\n",
      "60.0 67.0\n",
      "250000.0 850000.0\n",
      "250000.0 850000.0\n",
      "Total Outliers =  25\n",
      "=== The Outliers ===\n",
      "Int64Index([1827, 2024, 2101, 2336, 2359, 2560, 2627, 2775, 2973, 3999, 4395,\n",
      "            4466, 4551, 4556, 4671, 4711, 4969, 5020, 5032, 5087, 5095, 5106,\n",
      "            5131, 5697, 6625],\n",
      "           dtype='int64')\n",
      "60.0 67.0\n",
      "60.0 67.0\n",
      "250000.0 850000.0\n",
      "250000.0 850000.0\n",
      "Total Outliers =  24\n",
      "=== The Outliers ===\n",
      "Int64Index([1843, 2029, 2107, 2339, 2360, 2563, 2776, 2974, 4001, 4398, 4470,\n",
      "            4559, 4592, 4688, 4728, 4971, 5023, 5044, 5088, 5098, 5111, 5137,\n",
      "            5699, 6628],\n",
      "           dtype='int64')\n",
      "60.0 67.0\n",
      "60.0 67.0\n",
      "250000.0 850000.0\n",
      "250000.0 850000.0\n",
      "Total Outliers =  23\n",
      "=== The Outliers ===\n",
      "Int64Index([1844, 2034, 2340, 2361, 2566, 2779, 2976, 4002, 4399, 4476, 4560,\n",
      "            4595, 4695, 4730, 4973, 5024, 5047, 5091, 5104, 5114, 5138, 5706,\n",
      "            6630],\n",
      "           dtype='int64')\n",
      "60.0 67.0\n",
      "60.0 67.0\n",
      "250000.0 850000.0\n",
      "250000.0 850000.0\n",
      "Total Outliers =  22\n",
      "=== The Outliers ===\n",
      "Int64Index([1846, 2037, 2363, 2569, 2782, 2977, 4003, 4401, 4487, 4575, 4599,\n",
      "            4702, 4732, 4977, 5025, 5050, 5092, 5107, 5123, 5145, 5709, 6631],\n",
      "           dtype='int64')\n",
      "60.0 67.0\n",
      "60.0 67.0\n",
      "250000.0 850000.0\n",
      "250000.0 850000.0\n",
      "Total Outliers =  21\n",
      "=== The Outliers ===\n",
      "Int64Index([1848, 2041, 2364, 2571, 2791, 3000, 4004, 4403, 4488, 4576, 4604,\n",
      "            4703, 4755, 4996, 5027, 5057, 5096, 5112, 5146, 5712, 6632],\n",
      "           dtype='int64')\n",
      "60.0 67.0\n",
      "60.0 67.0\n",
      "250000.0 850000.0\n",
      "250000.0 850000.0\n",
      "Total Outliers =  20\n",
      "=== The Outliers ===\n",
      "Int64Index([1850, 2042, 2366, 2578, 2800, 3114, 4023, 4406, 4505, 4591, 4605,\n",
      "            4707, 4997, 5028, 5062, 5099, 5115, 5150, 5713, 6640],\n",
      "           dtype='int64')\n",
      "60.0 67.0\n",
      "60.0 67.0\n",
      "250000.0 850000.0\n",
      "250000.0 850000.0\n",
      "Total Outliers =  20\n",
      "=== The Outliers ===\n",
      "Int64Index([1853, 2043, 2367, 2583, 2802, 3260, 4025, 4407, 4506, 4601, 4615,\n",
      "            4741, 5016, 5029, 5100, 5120, 5132, 5151, 5714, 6641],\n",
      "           dtype='int64')\n",
      "60.0 67.0\n",
      "60.0 67.0\n",
      "250000.0 850000.0\n",
      "250000.0 850000.0\n",
      "Total Outliers =  20\n",
      "=== The Outliers ===\n",
      "Int64Index([1859, 2044, 2368, 2586, 2803, 3268, 4030, 4411, 4529, 4610, 4625,\n",
      "            4753, 5064, 5102, 5135, 5139, 5158, 5174, 5716, 6642],\n",
      "           dtype='int64')\n",
      "60.0 67.0\n",
      "60.0 67.0\n",
      "250000.0 850000.0\n",
      "250000.0 850000.0\n",
      "Total Outliers =  19\n",
      "=== The Outliers ===\n",
      "Int64Index([1861, 2045, 2370, 2590, 2814, 3271, 4035, 4555, 4614, 4628, 4754,\n",
      "            5070, 5105, 5140, 5141, 5176, 5353, 5719, 6644],\n",
      "           dtype='int64')\n",
      "60.0 67.0\n",
      "60.0 67.0\n",
      "250000.0 850000.0\n",
      "250000.0 850000.0\n",
      "Total Outliers =  16\n",
      "=== The Outliers ===\n",
      "Int64Index([1863, 2047, 2371, 2591, 2818, 4038, 4577, 4631, 4651, 5109, 5144,\n",
      "            5160, 5178, 5376, 5722, 6645],\n",
      "           dtype='int64')\n",
      "60.0 67.0\n",
      "60.0 67.0\n",
      "250000.0 825000.0\n",
      "250000.0 825000.0\n",
      "Total Outliers =  21\n",
      "=== The Outliers ===\n",
      "Int64Index([1427, 1867, 2048, 2373, 2388, 2597, 3697, 4462, 4584, 4632, 4656,\n",
      "            4964, 5113, 5157, 5163, 5180, 5417, 5691, 6626, 6647, 7702],\n",
      "           dtype='int64')\n",
      "60.0 67.0\n",
      "60.0 67.0\n",
      "250000.0 825000.0\n",
      "250000.0 825000.0\n",
      "Total Outliers =  21\n",
      "=== The Outliers ===\n",
      "Int64Index([1431, 1872, 2052, 2374, 2602, 2609, 3708, 4486, 4608, 4638, 4661,\n",
      "            4975, 5118, 5162, 5165, 5184, 5431, 5692, 6649, 6653, 7705],\n",
      "           dtype='int64')\n",
      "60.0 67.0\n",
      "60.0 67.0\n",
      "250000.0 825000.0\n",
      "250000.0 825000.0\n",
      "Total Outliers =  20\n",
      "=== The Outliers ===\n",
      "Int64Index([1873, 2055, 2375, 2624, 2637, 3965, 4512, 4609, 4643, 4678, 5033,\n",
      "            5119, 5166, 5168, 5185, 5432, 5694, 6650, 6655, 7712],\n",
      "           dtype='int64')\n",
      "60.0 67.0\n",
      "60.0 67.0\n",
      "250000.0 825000.0\n",
      "250000.0 825000.0\n",
      "Total Outliers =  18\n",
      "=== The Outliers ===\n",
      "Int64Index([1874, 2057, 2378, 2640, 4526, 4644, 4689, 4698, 5039, 5121, 5169,\n",
      "            5170, 5197, 5436, 5695, 6652, 6657, 7719],\n",
      "           dtype='int64')\n",
      "60.0 67.0\n",
      "60.0 67.0\n",
      "250000.0 825000.0\n",
      "250000.0 825000.0\n",
      "Total Outliers =  17\n",
      "=== The Outliers ===\n",
      "Int64Index([1875, 2058, 2379, 2642, 4532, 4647, 4712, 4735, 5053, 5122, 5172,\n",
      "            5177, 5216, 5464, 5702, 6658, 7720],\n",
      "           dtype='int64')\n",
      "60.0 67.0\n",
      "60.0 67.0\n",
      "245000.0 825000.0\n",
      "245000.0 825000.0\n",
      "Total Outliers =  15\n",
      "=== The Outliers ===\n",
      "Int64Index([1876, 2061, 2646, 4548, 4648, 4726, 4742, 5125, 5161, 5175, 5186,\n",
      "            5223, 5476, 5705, 6659],\n",
      "           dtype='int64')\n",
      "60.0 67.0\n",
      "60.0 67.0\n",
      "240000.0 825000.0\n",
      "240000.0 825000.0\n",
      "Total Outliers =  9\n",
      "=== The Outliers ===\n",
      "Int64Index([1877, 2063, 4652, 4727, 4743, 5126, 5179, 5189, 5479], dtype='int64')\n",
      "60.0 67.0\n",
      "60.0 67.0\n",
      "240000.0 825000.0\n",
      "240000.0 825000.0\n",
      "Total Outliers =  8\n",
      "=== The Outliers ===\n",
      "Int64Index([1879, 2065, 4657, 4731, 5128, 5182, 5193, 5485], dtype='int64')\n",
      "60.0 67.0\n",
      "60.0 67.0\n",
      "240000.0 825000.0\n",
      "240000.0 825000.0\n",
      "Total Outliers =  6\n",
      "=== The Outliers ===\n",
      "Int64Index([2072, 4658, 5133, 5183, 5194, 5489], dtype='int64')\n",
      "60.0 67.0\n",
      "60.0 67.0\n",
      "240000.0 825000.0\n",
      "240000.0 825000.0\n",
      "Total Outliers =  6\n",
      "=== The Outliers ===\n",
      "Int64Index([2074, 4679, 5142, 5188, 5199, 5491], dtype='int64')\n",
      "60.0 67.0\n",
      "60.0 67.0\n",
      "240000.0 825000.0\n",
      "240000.0 825000.0\n",
      "Total Outliers =  6\n",
      "=== The Outliers ===\n",
      "Int64Index([2076, 4683, 5143, 5191, 5202, 5528], dtype='int64')\n",
      "60.0 67.0\n",
      "60.0 67.0\n",
      "240000.0 825000.0\n",
      "240000.0 825000.0\n",
      "Total Outliers =  6\n",
      "=== The Outliers ===\n",
      "Int64Index([2085, 4687, 5148, 5192, 5206, 5540], dtype='int64')\n",
      "60.0 67.0\n",
      "60.0 67.0\n",
      "240000.0 825000.0\n",
      "240000.0 825000.0\n",
      "Total Outliers =  6\n",
      "=== The Outliers ===\n",
      "Int64Index([2089, 4691, 5149, 5195, 5209, 5554], dtype='int64')\n",
      "60.0 67.0\n",
      "60.0 67.0\n",
      "240000.0 825000.0\n",
      "240000.0 825000.0\n",
      "Total Outliers =  6\n",
      "=== The Outliers ===\n",
      "Int64Index([2096, 4693, 5152, 5196, 5210, 5562], dtype='int64')\n",
      "60.0 67.0\n",
      "60.0 67.0\n",
      "240000.0 800000.0\n",
      "240000.0 800000.0\n",
      "Total Outliers =  10\n",
      "=== The Outliers ===\n",
      "Int64Index([2118, 4627, 4697, 5153, 5164, 5198, 5212, 5575, 5707, 6661], dtype='int64')\n",
      "60.0 67.0\n",
      "60.0 67.0\n",
      "240000.0 800000.0\n",
      "240000.0 800000.0\n",
      "Total Outliers =  9\n",
      "=== The Outliers ===\n",
      "Int64Index([4629, 4699, 5155, 5171, 5201, 5213, 5582, 5708, 6662], dtype='int64')\n",
      "60.0 67.0\n",
      "60.0 67.0\n",
      "240000.0 800000.0\n",
      "240000.0 800000.0\n",
      "Total Outliers =  7\n",
      "=== The Outliers ===\n",
      "Int64Index([4705, 4719, 5173, 5203, 5215, 5591, 5710], dtype='int64')\n",
      "60.0 67.0\n",
      "60.0 67.0\n",
      "240000.0 800000.0\n",
      "240000.0 800000.0\n",
      "Total Outliers =  7\n",
      "=== The Outliers ===\n",
      "Int64Index([4706, 4720, 5181, 5208, 5219, 5593, 5711], dtype='int64')\n",
      "60.0 67.0\n",
      "60.0 67.0\n",
      "240000.0 800000.0\n",
      "240000.0 800000.0\n",
      "Total Outliers =  6\n",
      "=== The Outliers ===\n",
      "Int64Index([4736, 5200, 5217, 5221, 5606, 5718], dtype='int64')\n",
      "60.0 67.0\n",
      "60.0 67.0\n",
      "240000.0 800000.0\n",
      "240000.0 800000.0\n",
      "Total Outliers =  5\n",
      "=== The Outliers ===\n",
      "Int64Index([4740, 5205, 5218, 5621, 5725], dtype='int64')\n",
      "60.0 67.0\n",
      "60.0 67.0\n",
      "240000.0 800000.0\n",
      "240000.0 800000.0\n",
      "Total Outliers =  5\n",
      "=== The Outliers ===\n",
      "Int64Index([4745, 5207, 5220, 5627, 5726], dtype='int64')\n",
      "60.0 67.0\n",
      "60.0 67.0\n",
      "240000.0 800000.0\n",
      "240000.0 800000.0\n",
      "Total Outliers =  5\n",
      "=== The Outliers ===\n",
      "Int64Index([4747, 5211, 5222, 5648, 5730], dtype='int64')\n",
      "60.0 67.0\n",
      "60.0 67.0\n",
      "240000.0 800000.0\n",
      "240000.0 800000.0\n",
      "Total Outliers =  5\n",
      "=== The Outliers ===\n",
      "Int64Index([4748, 5224, 5226, 5654, 5731], dtype='int64')\n",
      "60.0 67.0\n",
      "60.0 67.0\n",
      "240000.0 800000.0\n",
      "240000.0 800000.0\n",
      "Total Outliers =  3\n",
      "=== The Outliers ===\n",
      "Int64Index([5225, 5295, 5732], dtype='int64')\n",
      "60.0 67.0\n",
      "60.0 67.0\n",
      "240000.0 800000.0\n",
      "240000.0 800000.0\n",
      "Total Outliers =  3\n",
      "=== The Outliers ===\n",
      "Int64Index([5307, 5339, 5733], dtype='int64')\n",
      "60.0 67.0\n",
      "60.0 67.0\n",
      "240000.0 800000.0\n",
      "240000.0 800000.0\n",
      "Total Outliers =  3\n",
      "=== The Outliers ===\n",
      "Int64Index([5314, 5355, 5735], dtype='int64')\n",
      "60.0 67.0\n",
      "60.0 67.0\n",
      "240000.0 800000.0\n",
      "240000.0 800000.0\n",
      "Total Outliers =  3\n",
      "=== The Outliers ===\n",
      "Int64Index([5321, 5364, 5736], dtype='int64')\n",
      "60.0 67.0\n",
      "60.0 67.0\n",
      "240000.0 800000.0\n",
      "240000.0 800000.0\n",
      "Total Outliers =  3\n",
      "=== The Outliers ===\n",
      "Int64Index([5340, 5370, 5737], dtype='int64')\n",
      "60.0 67.0\n",
      "60.0 67.0\n",
      "240000.0 800000.0\n",
      "240000.0 800000.0\n",
      "Total Outliers =  3\n",
      "=== The Outliers ===\n",
      "Int64Index([5347, 5371, 5739], dtype='int64')\n",
      "60.0 67.0\n",
      "60.0 67.0\n",
      "240000.0 800000.0\n",
      "240000.0 800000.0\n",
      "Total Outliers =  3\n",
      "=== The Outliers ===\n",
      "Int64Index([5352, 5374, 5740], dtype='int64')\n",
      "60.0 67.0\n",
      "60.0 67.0\n",
      "240000.0 800000.0\n",
      "240000.0 800000.0\n",
      "Total Outliers =  3\n",
      "=== The Outliers ===\n",
      "Int64Index([5358, 5393, 5741], dtype='int64')\n",
      "60.0 67.0\n",
      "60.0 67.0\n",
      "240000.0 800000.0\n",
      "240000.0 800000.0\n",
      "Total Outliers =  3\n",
      "=== The Outliers ===\n",
      "Int64Index([5362, 5395, 5743], dtype='int64')\n",
      "60.0 67.0\n",
      "60.0 67.0\n",
      "240000.0 800000.0\n",
      "240000.0 800000.0\n",
      "Total Outliers =  3\n",
      "=== The Outliers ===\n",
      "Int64Index([5372, 5397, 5748], dtype='int64')\n",
      "60.0 67.0\n",
      "60.0 67.0\n",
      "240000.0 800000.0\n",
      "240000.0 800000.0\n",
      "Total Outliers =  3\n",
      "=== The Outliers ===\n",
      "Int64Index([5380, 5400, 5752], dtype='int64')\n",
      "60.0 67.0\n",
      "60.0 67.0\n",
      "240000.0 800000.0\n",
      "240000.0 800000.0\n",
      "Total Outliers =  3\n",
      "=== The Outliers ===\n",
      "Int64Index([5381, 5403, 5760], dtype='int64')\n",
      "60.0 67.0\n",
      "60.0 67.0\n",
      "240000.0 800000.0\n",
      "240000.0 800000.0\n",
      "Total Outliers =  3\n",
      "=== The Outliers ===\n",
      "Int64Index([5383, 5404, 5765], dtype='int64')\n",
      "60.0 67.0\n",
      "60.0 67.0\n",
      "240000.0 800000.0\n",
      "240000.0 800000.0\n",
      "Total Outliers =  3\n",
      "=== The Outliers ===\n",
      "Int64Index([5384, 5405, 5774], dtype='int64')\n",
      "60.0 67.0\n",
      "60.0 67.0\n",
      "240000.0 800000.0\n",
      "240000.0 800000.0\n",
      "Total Outliers =  2\n",
      "=== The Outliers ===\n",
      "Int64Index([5387, 5413], dtype='int64')\n",
      "60.0 67.0\n",
      "60.0 67.0\n",
      "240000.0 800000.0\n",
      "240000.0 800000.0\n",
      "Total Outliers =  2\n",
      "=== The Outliers ===\n",
      "Int64Index([5389, 5423], dtype='int64')\n",
      "60.0 67.0\n",
      "60.0 67.0\n",
      "240000.0 800000.0\n",
      "240000.0 800000.0\n",
      "Total Outliers =  2\n",
      "=== The Outliers ===\n",
      "Int64Index([5407, 5425], dtype='int64')\n",
      "60.0 67.0\n",
      "60.0 67.0\n",
      "240000.0 800000.0\n",
      "240000.0 800000.0\n",
      "Total Outliers =  2\n",
      "=== The Outliers ===\n",
      "Int64Index([5418, 5427], dtype='int64')\n",
      "60.0 67.0\n",
      "60.0 67.0\n",
      "240000.0 800000.0\n",
      "240000.0 800000.0\n",
      "Total Outliers =  2\n",
      "=== The Outliers ===\n",
      "Int64Index([5434, 5439], dtype='int64')\n",
      "60.0 67.0\n",
      "60.0 67.0\n",
      "240000.0 800000.0\n",
      "240000.0 800000.0\n",
      "Total Outliers =  2\n",
      "=== The Outliers ===\n",
      "Int64Index([5440, 5447], dtype='int64')\n",
      "60.0 67.0\n",
      "60.0 67.0\n",
      "240000.0 800000.0\n",
      "240000.0 800000.0\n",
      "Total Outliers =  2\n",
      "=== The Outliers ===\n",
      "Int64Index([5442, 5462], dtype='int64')\n",
      "60.0 67.0\n",
      "60.0 67.0\n",
      "240000.0 800000.0\n",
      "240000.0 800000.0\n",
      "Total Outliers =  2\n",
      "=== The Outliers ===\n",
      "Int64Index([5449, 5468], dtype='int64')\n",
      "60.0 67.0\n",
      "60.0 67.0\n",
      "240000.0 800000.0\n",
      "240000.0 800000.0\n",
      "Total Outliers =  2\n",
      "=== The Outliers ===\n",
      "Int64Index([5451, 5487], dtype='int64')\n",
      "60.0 67.0\n",
      "60.0 67.0\n",
      "240000.0 800000.0\n",
      "240000.0 800000.0\n",
      "Total Outliers =  2\n",
      "=== The Outliers ===\n",
      "Int64Index([5461, 5498], dtype='int64')\n",
      "60.0 67.0\n",
      "60.0 67.0\n",
      "240000.0 800000.0\n",
      "240000.0 800000.0\n",
      "Total Outliers =  2\n",
      "=== The Outliers ===\n",
      "Int64Index([5466, 5512], dtype='int64')\n",
      "60.0 67.0\n",
      "60.0 67.0\n",
      "240000.0 800000.0\n",
      "240000.0 800000.0\n",
      "Total Outliers =  2\n",
      "=== The Outliers ===\n",
      "Int64Index([5472, 5518], dtype='int64')\n",
      "60.0 67.0\n",
      "60.0 67.0\n",
      "240000.0 800000.0\n",
      "240000.0 800000.0\n",
      "Total Outliers =  2\n",
      "=== The Outliers ===\n",
      "Int64Index([5477, 5526], dtype='int64')\n",
      "60.0 67.0\n",
      "60.0 67.0\n",
      "240000.0 800000.0\n",
      "240000.0 800000.0\n",
      "Total Outliers =  2\n",
      "=== The Outliers ===\n",
      "Int64Index([5478, 5532], dtype='int64')\n",
      "60.0 67.0\n",
      "60.0 67.0\n",
      "240000.0 800000.0\n",
      "240000.0 800000.0\n",
      "Total Outliers =  2\n",
      "=== The Outliers ===\n",
      "Int64Index([5490, 5553], dtype='int64')\n",
      "60.0 67.0\n",
      "60.0 67.0\n",
      "240000.0 800000.0\n",
      "240000.0 800000.0\n",
      "Total Outliers =  2\n",
      "=== The Outliers ===\n",
      "Int64Index([5496, 5584], dtype='int64')\n",
      "60.0 67.0\n",
      "60.0 67.0\n",
      "240000.0 800000.0\n",
      "240000.0 800000.0\n",
      "Total Outliers =  2\n",
      "=== The Outliers ===\n",
      "Int64Index([5497, 5592], dtype='int64')\n",
      "60.0 67.0\n",
      "60.0 67.0\n",
      "240000.0 800000.0\n",
      "240000.0 800000.0\n",
      "Total Outliers =  2\n",
      "=== The Outliers ===\n",
      "Int64Index([5501, 5602], dtype='int64')\n",
      "60.0 67.0\n",
      "60.0 67.0\n",
      "240000.0 800000.0\n",
      "240000.0 800000.0\n",
      "Total Outliers =  2\n",
      "=== The Outliers ===\n",
      "Int64Index([5513, 5604], dtype='int64')\n",
      "60.0 67.0\n",
      "60.0 67.0\n",
      "240000.0 800000.0\n",
      "240000.0 800000.0\n",
      "Total Outliers =  2\n",
      "=== The Outliers ===\n",
      "Int64Index([5517, 5637], dtype='int64')\n",
      "60.0 67.0\n",
      "60.0 67.0\n",
      "240000.0 800000.0\n",
      "240000.0 800000.0\n",
      "Total Outliers =  2\n",
      "=== The Outliers ===\n",
      "Int64Index([5522, 5646], dtype='int64')\n",
      "60.0 67.0\n",
      "60.0 67.0\n",
      "240000.0 800000.0\n",
      "240000.0 800000.0\n",
      "Total Outliers =  2\n",
      "=== The Outliers ===\n",
      "Int64Index([5523, 5655], dtype='int64')\n",
      "60.0 67.0\n",
      "60.0 67.0\n",
      "240000.0 800000.0\n",
      "240000.0 800000.0\n",
      "Total Outliers =  1\n",
      "=== The Outliers ===\n",
      "Int64Index([5542], dtype='int64')\n",
      "60.0 67.0\n",
      "60.0 67.0\n",
      "240000.0 800000.0\n",
      "240000.0 800000.0\n",
      "Total Outliers =  1\n",
      "=== The Outliers ===\n",
      "Int64Index([5544], dtype='int64')\n",
      "60.0 67.0\n",
      "60.0 67.0\n",
      "240000.0 800000.0\n",
      "240000.0 800000.0\n",
      "Total Outliers =  1\n",
      "=== The Outliers ===\n",
      "Int64Index([5555], dtype='int64')\n",
      "60.0 67.0\n",
      "60.0 67.0\n",
      "240000.0 800000.0\n",
      "240000.0 800000.0\n",
      "Total Outliers =  1\n",
      "=== The Outliers ===\n",
      "Int64Index([5561], dtype='int64')\n",
      "60.0 67.0\n",
      "60.0 67.0\n",
      "240000.0 800000.0\n",
      "240000.0 800000.0\n",
      "Total Outliers =  1\n",
      "=== The Outliers ===\n",
      "Int64Index([5563], dtype='int64')\n",
      "60.0 67.0\n",
      "60.0 67.0\n",
      "240000.0 800000.0\n",
      "240000.0 800000.0\n",
      "Total Outliers =  1\n",
      "=== The Outliers ===\n",
      "Int64Index([5578], dtype='int64')\n",
      "60.0 67.0\n",
      "60.0 67.0\n",
      "240000.0 800000.0\n",
      "240000.0 800000.0\n",
      "Total Outliers =  1\n",
      "=== The Outliers ===\n",
      "Int64Index([5579], dtype='int64')\n",
      "60.0 67.0\n",
      "60.0 67.0\n",
      "240000.0 800000.0\n",
      "240000.0 800000.0\n",
      "Total Outliers =  1\n",
      "=== The Outliers ===\n",
      "Int64Index([5583], dtype='int64')\n",
      "60.0 67.0\n",
      "60.0 67.0\n",
      "240000.0 800000.0\n",
      "240000.0 800000.0\n",
      "Total Outliers =  1\n",
      "=== The Outliers ===\n",
      "Int64Index([5585], dtype='int64')\n",
      "60.0 67.0\n",
      "60.0 67.0\n",
      "240000.0 800000.0\n",
      "240000.0 800000.0\n",
      "Total Outliers =  1\n",
      "=== The Outliers ===\n",
      "Int64Index([5586], dtype='int64')\n",
      "60.0 67.0\n",
      "60.0 67.0\n",
      "240000.0 800000.0\n",
      "240000.0 800000.0\n",
      "Total Outliers =  1\n",
      "=== The Outliers ===\n",
      "Int64Index([5588], dtype='int64')\n",
      "60.0 67.0\n",
      "60.0 67.0\n",
      "240000.0 800000.0\n",
      "240000.0 800000.0\n",
      "Total Outliers =  1\n",
      "=== The Outliers ===\n",
      "Int64Index([5599], dtype='int64')\n",
      "60.0 67.0\n",
      "60.0 67.0\n",
      "240000.0 800000.0\n",
      "240000.0 800000.0\n",
      "Total Outliers =  1\n",
      "=== The Outliers ===\n",
      "Int64Index([5643], dtype='int64')\n",
      "60.0 67.0\n",
      "60.0 67.0\n",
      "240000.0 800000.0\n",
      "240000.0 800000.0\n",
      "Total Outliers =  1\n",
      "=== The Outliers ===\n",
      "Int64Index([5644], dtype='int64')\n",
      "60.0 67.0\n",
      "60.0 67.0\n",
      "240000.0 800000.0\n",
      "240000.0 800000.0\n",
      "Total Outliers =  1\n",
      "=== The Outliers ===\n",
      "Int64Index([5645], dtype='int64')\n",
      "60.0 67.0\n",
      "60.0 67.0\n",
      "240000.0 800000.0\n",
      "240000.0 800000.0\n",
      "Total Outliers =  1\n",
      "=== The Outliers ===\n",
      "Int64Index([5649], dtype='int64')\n",
      "60.0 67.0\n",
      "60.0 67.0\n",
      "240000.0 800000.0\n",
      "240000.0 800000.0\n",
      "Total Outliers =  1\n",
      "=== The Outliers ===\n",
      "Int64Index([5650], dtype='int64')\n",
      "60.0 67.0\n",
      "60.0 67.0\n",
      "240000.0 800000.0\n",
      "240000.0 800000.0\n",
      "Total Outliers =  0\n",
      "=== The Outliers ===\n",
      "Int64Index([], dtype='int64')\n",
      "BLOXPOT AFTER OUTLIERING\n"
     ]
    },
    {
     "data": {
      "text/plain": [
       "<Figure size 6000x6000 with 0 Axes>"
      ]
     },
     "metadata": {},
     "output_type": "display_data"
    },
    {
     "data": {
      "image/png": "[encoded data removed]",
      "text/plain": [
       "<Figure size 600x400 with 2 Axes>"
      ]
     },
     "metadata": {
      "needs_background": "light"
     },
     "output_type": "display_data"
    }
   ],
   "source": [
    "newData2 = outliering(label3, label4, data2)"
   ]
  },
  {
   "cell_type": "code",
   "execution_count": 18,
   "metadata": {},
   "outputs": [
    {
     "data": {
      "text/plain": [
       "Text(0, 0.5, 'potential')"
      ]
     },
     "execution_count": 18,
     "metadata": {},
     "output_type": "execute_result"
    },
    {
     "data": {
      "image/png": "[encoded data removed]",
      "text/plain": [
       "<Figure size 600x400 with 1 Axes>"
      ]
     },
     "metadata": {
      "needs_background": "light"
     },
     "output_type": "display_data"
    }
   ],
   "source": [
    "plt.scatter(newData[label1], newData[label2])\n",
    "plt.xlabel(label1)\n",
    "plt.ylabel(label2)"
   ]
  },
  {
   "cell_type": "code",
   "execution_count": 19,
   "metadata": {},
   "outputs": [
    {
     "data": {
      "text/plain": [
       "Text(0, 0.5, 'value_eur')"
      ]
     },
     "execution_count": 19,
     "metadata": {},
     "output_type": "execute_result"
    },
    {
     "data": {
      "image/png": "[encoded data removed]",
      "text/plain": [
       "<Figure size 600x400 with 1 Axes>"
      ]
     },
     "metadata": {
      "needs_background": "light"
     },
     "output_type": "display_data"
    }
   ],
   "source": [
    "plt.scatter(newData2[label3], newData2[label4])\n",
    "plt.xlabel(label3)\n",
    "plt.ylabel(label4)"
   ]
  },
  {
   "cell_type": "code",
   "execution_count": 20,
   "metadata": {},
   "outputs": [],
   "source": [
    "k = 3"
   ]
  },
  {
   "cell_type": "markdown",
   "metadata": {},
   "source": [
    "#### Function to generate centroids"
   ]
  },
  {
   "cell_type": "code",
   "execution_count": 21,
   "metadata": {},
   "outputs": [],
   "source": [
    "def generateCentroids(k, data1, data2):\n",
    "    # Randomize value from 0 until max of data depend on size of k\n",
    "    xCentroids = np.random.randint(np.min(data1), np.max(data1), size=k)\n",
    "    yCentroids = np.random.randint(np.min(data2), np.max(data2), size=k) \n",
    "\n",
    "    # Merge X and Y Centroids\n",
    "    centroids = np.array(list(zip(xCentroids, yCentroids)))\n",
    "    return centroids, xCentroids, yCentroids"
   ]
  },
  {
   "cell_type": "markdown",
   "metadata": {},
   "source": [
    "##### Generate centroids"
   ]
  },
  {
   "cell_type": "code",
   "execution_count": 22,
   "metadata": {},
   "outputs": [],
   "source": [
    "centroids, x, y = generateCentroids(k,newData[label1],newData[label2])\n",
    "centroids = sorted(centroids, key=lambda x:x[:][0], reverse=False)\n",
    "\n",
    "centroids2, x2, y2 = generateCentroids(k,newData2[label3],newData2[label4])\n",
    "centroids2 = sorted(centroids2, key=lambda y:y[:][0], reverse=False)"
   ]
  },
  {
   "cell_type": "code",
   "execution_count": 23,
   "metadata": {},
   "outputs": [],
   "source": [
    "centroids = np.array(centroids)\n",
    "centroids2 = np.array(centroids2)"
   ]
  },
  {
   "cell_type": "code",
   "execution_count": 24,
   "metadata": {},
   "outputs": [
    {
     "data": {
      "text/plain": [
       "array([[49, 56],\n",
       "       [60, 69],\n",
       "       [79, 68]])"
      ]
     },
     "execution_count": 24,
     "metadata": {},
     "output_type": "execute_result"
    }
   ],
   "source": [
    "centroids"
   ]
  },
  {
   "cell_type": "code",
   "execution_count": 25,
   "metadata": {},
   "outputs": [
    {
     "data": {
      "text/plain": [
       "array([[     50,  594693],\n",
       "       [     56, 1235372],\n",
       "       [     69,  163394]])"
      ]
     },
     "execution_count": 25,
     "metadata": {},
     "output_type": "execute_result"
    }
   ],
   "source": [
    "centroids2"
   ]
  },
  {
   "cell_type": "markdown",
   "metadata": {},
   "source": [
    "##### Plot first centroids"
   ]
  },
  {
   "cell_type": "code",
   "execution_count": 26,
   "metadata": {},
   "outputs": [
    {
     "data": {
      "text/plain": [
       "<matplotlib.collections.PathCollection at 0x25d152a9358>"
      ]
     },
     "execution_count": 26,
     "metadata": {},
     "output_type": "execute_result"
    },
    {
     "data": {
      "image/png": "[encoded data removed]",
      "text/plain": [
       "<Figure size 600x400 with 1 Axes>"
      ]
     },
     "metadata": {
      "needs_background": "light"
     },
     "output_type": "display_data"
    }
   ],
   "source": [
    "plt.scatter(newData[label1], newData[label2], c='#050505', s=7)\n",
    "plt.scatter(x, y, marker='*', s=200, c='g')"
   ]
  },
  {
   "cell_type": "code",
   "execution_count": 27,
   "metadata": {},
   "outputs": [
    {
     "data": {
      "text/plain": [
       "<matplotlib.collections.PathCollection at 0x25d1511e5c0>"
      ]
     },
     "execution_count": 27,
     "metadata": {},
     "output_type": "execute_result"
    },
    {
     "data": {
      "image/png": "[encoded data removed]",
      "text/plain": [
       "<Figure size 600x400 with 1 Axes>"
      ]
     },
     "metadata": {
      "needs_background": "light"
     },
     "output_type": "display_data"
    }
   ],
   "source": [
    "plt.scatter(newData2[label3], newData2[label4], c='#050505', s=7)\n",
    "plt.scatter(x2, y2, marker='*', s=200, c='g')"
   ]
  },
  {
   "cell_type": "markdown",
   "metadata": {},
   "source": [
    "#### Euclidean Distance Formula"
   ]
  },
  {
   "cell_type": "code",
   "execution_count": 28,
   "metadata": {},
   "outputs": [],
   "source": [
    "def euclideanDistance(data, centroids, ax=1):\n",
    "    return np.linalg.norm(data - centroids, axis=ax)"
   ]
  },
  {
   "cell_type": "markdown",
   "metadata": {},
   "source": [
    "#### Convert data to array"
   ]
  },
  {
   "cell_type": "code",
   "execution_count": 31,
   "metadata": {},
   "outputs": [],
   "source": [
    "npData = np.array(newData)\n",
    "npData2 = np.array(newData2)"
   ]
  },
  {
   "cell_type": "code",
   "execution_count": 32,
   "metadata": {},
   "outputs": [
    {
     "data": {
      "text/plain": [
       "array([[84, 87],\n",
       "       [84, 87],\n",
       "       [84, 86],\n",
       "       ...,\n",
       "       [49, 56],\n",
       "       [49, 55],\n",
       "       [49, 55]], dtype=int64)"
      ]
     },
     "execution_count": 32,
     "metadata": {},
     "output_type": "execute_result"
    }
   ],
   "source": [
    "npData"
   ]
  },
  {
   "cell_type": "code",
   "execution_count": 33,
   "metadata": {},
   "outputs": [
    {
     "data": {
      "text/plain": [
       "array([[     77,       0],\n",
       "       [     77, 1500000],\n",
       "       [     77,       0],\n",
       "       ...,\n",
       "       [     50,   50000],\n",
       "       [     50,   50000],\n",
       "       [     50,   50000]], dtype=int64)"
      ]
     },
     "execution_count": 33,
     "metadata": {},
     "output_type": "execute_result"
    }
   ],
   "source": [
    "npData2"
   ]
  },
  {
   "cell_type": "markdown",
   "metadata": {},
   "source": [
    "#### Formula to update centroids based on the data"
   ]
  },
  {
   "cell_type": "code",
   "execution_count": 34,
   "metadata": {},
   "outputs": [],
   "source": [
    "def updateCentroids(idx, clusters, data):\n",
    "    points = np.array([data[j] for j in range(len(data)) if clusters[j] == idx])\n",
    "    return points"
   ]
  },
  {
   "cell_type": "markdown",
   "metadata": {},
   "source": [
    "## K-Means Function"
   ]
  },
  {
   "cell_type": "code",
   "execution_count": 35,
   "metadata": {},
   "outputs": [],
   "source": [
    "def kMeans(k, data, centroids):\n",
    "    # Set all cluster to 0\n",
    "    clusters = np.zeros(len(data))\n",
    "    clusters\n",
    "    \n",
    "    # assign old centroid as 0\n",
    "    oldCentroid = np.zeros(centroids.shape)\n",
    "    print(\"INITIALIZE CENTROIDS \", oldCentroid)\n",
    "    \n",
    "    # Error func. - Distance between new centroids and old centroids\n",
    "    error = euclideanDistance(centroids, oldCentroid,None)\n",
    "    print(\"INITIALIZE ERROR \", error)\n",
    "    \n",
    "    idx=0\n",
    "    while error != 0:\n",
    "        # Assigning each value to its closest cluster\n",
    "        for i in range(len(data)):\n",
    "            distances = euclideanDistance(data[i], centroids)\n",
    "            cluster = np.argmin(distances)\n",
    "            clusters[i] = cluster\n",
    "            \n",
    "        # Storing the old centroid values\n",
    "        oldCentroid = deepcopy(centroids)\n",
    "        \n",
    "        # Finding the new centroids by taking the average value\n",
    "        for i in range(k):\n",
    "            points = updateCentroids(i,clusters, data)\n",
    "            centroids[i] = np.mean(points, axis=0)\n",
    "        error = euclideanDistance(centroids, oldCentroid, None)\n",
    "        \n",
    "    return centroids, clusters"
   ]
  },
  {
   "cell_type": "code",
   "execution_count": 36,
   "metadata": {},
   "outputs": [
    {
     "name": "stdout",
     "output_type": "stream",
     "text": [
      "INITIALIZE CENTROIDS  [[0. 0.]\n",
      " [0. 0.]\n",
      " [0. 0.]]\n",
      "INITIALIZE ERROR  157.36263851372092\n"
     ]
    }
   ],
   "source": [
    "lastCentroids, clusters = kMeans(k, npData, centroids)"
   ]
  },
  {
   "cell_type": "code",
   "execution_count": 37,
   "metadata": {},
   "outputs": [
    {
     "name": "stdout",
     "output_type": "stream",
     "text": [
      "INITIALIZE CENTROIDS  [[0. 0.]\n",
      " [0. 0.]\n",
      " [0. 0.]]\n",
      "INITIALIZE ERROR  1380761.1496077082\n"
     ]
    }
   ],
   "source": [
    "lastCentroids2, clusters2 = kMeans(k, npData2, centroids2)"
   ]
  },
  {
   "cell_type": "code",
   "execution_count": 38,
   "metadata": {},
   "outputs": [
    {
     "data": {
      "text/plain": [
       "array([[56, 64],\n",
       "       [64, 69],\n",
       "       [72, 76]])"
      ]
     },
     "execution_count": 38,
     "metadata": {},
     "output_type": "execute_result"
    }
   ],
   "source": [
    "lastCentroids"
   ]
  },
  {
   "cell_type": "code",
   "execution_count": 39,
   "metadata": {},
   "outputs": [
    {
     "data": {
      "text/plain": [
       "array([[     64,  622623],\n",
       "       [     68, 1159706],\n",
       "       [     59,  214376]])"
      ]
     },
     "execution_count": 39,
     "metadata": {},
     "output_type": "execute_result"
    }
   ],
   "source": [
    "lastCentroids2"
   ]
  },
  {
   "cell_type": "code",
   "execution_count": 40,
   "metadata": {},
   "outputs": [
    {
     "data": {
      "text/plain": [
       "array([2., 2., 2., ..., 0., 0., 0.])"
      ]
     },
     "execution_count": 40,
     "metadata": {},
     "output_type": "execute_result"
    }
   ],
   "source": [
    "clusters"
   ]
  },
  {
   "cell_type": "code",
   "execution_count": 41,
   "metadata": {},
   "outputs": [
    {
     "data": {
      "text/plain": [
       "array([2., 1., 2., ..., 2., 2., 2.])"
      ]
     },
     "execution_count": 41,
     "metadata": {},
     "output_type": "execute_result"
    }
   ],
   "source": [
    "clusters2"
   ]
  },
  {
   "cell_type": "markdown",
   "metadata": {},
   "source": [
    "### The clustering result"
   ]
  },
  {
   "cell_type": "code",
   "execution_count": 43,
   "metadata": {},
   "outputs": [],
   "source": [
    "def finalPlot(clusters, data, centroids):\n",
    "    colors = ['r', 'gray', 'cyan','b', 'y', 'c', 'm', 'pink']\n",
    "    fig, ax = plt.subplots()\n",
    "    for i in range(len(centroids)):\n",
    "            points = updateCentroids(i, clusters, data)\n",
    "            ax.scatter(points[:, 0], points[:, 1], c=colors[i])\n",
    "\n",
    "    plt.scatter(centroids[:, 0], centroids[:, 1], marker='*', s=100, c='#050505')"
   ]
  },
  {
   "cell_type": "code",
   "execution_count": 44,
   "metadata": {},
   "outputs": [
    {
     "data": {
      "image/png": "[encoded data removed]",
      "text/plain": [
       "<Figure size 600x400 with 1 Axes>"
      ]
     },
     "metadata": {
      "needs_background": "light"
     },
     "output_type": "display_data"
    }
   ],
   "source": [
    "finalPlot(clusters, npData, lastCentroids)"
   ]
  },
  {
   "cell_type": "code",
   "execution_count": 45,
   "metadata": {},
   "outputs": [
    {
     "data": {
      "image/png": "[encoded data removed]",
      "text/plain": [
       "<Figure size 600x400 with 1 Axes>"
      ]
     },
     "metadata": {
      "needs_background": "light"
     },
     "output_type": "display_data"
    }
   ],
   "source": [
    "finalPlot(clusters2, npData2, lastCentroids2)"
   ]
  },
  {
   "cell_type": "markdown",
   "metadata": {},
   "source": [
    "#### Evaluatin model using Silhouette Coefficient"
   ]
  },
  {
   "cell_type": "code",
   "execution_count": 49,
   "metadata": {},
   "outputs": [
    {
     "name": "stdout",
     "output_type": "stream",
     "text": [
      "Value of the cluster : \n",
      "[40.50278831 40.50278831 41.40902274 ... 41.10068622 39.5698761\n",
      " 39.5698761 ]\n",
      "\n",
      "Mean of the cluster value : \n",
      "36.19506464795887\n"
     ]
    }
   ],
   "source": [
    "print('Value of the cluster : ')\n",
    "print(silhouette_samples(npData, clusters, metric='euclidean')*100)\n",
    "print()\n",
    "print('Mean of the cluster value : ')\n",
    "print(np.mean(silhouette_samples(npData, clusters, metric='euclidean'))*100)"
   ]
  },
  {
   "cell_type": "code",
   "execution_count": 50,
   "metadata": {},
   "outputs": [
    {
     "name": "stdout",
     "output_type": "stream",
     "text": [
      "Value of the cluster : \n",
      "[65.56263651 59.99921043 65.56263651 ... 70.51851004 70.51851004\n",
      " 70.51851004]\n",
      "\n",
      "Mean of the cluster value : \n",
      "57.83928938383108\n"
     ]
    }
   ],
   "source": [
    "print('Value of the cluster : ')\n",
    "print(silhouette_samples(npData2, clusters2, metric='euclidean')*100)\n",
    "print()\n",
    "print('Mean of the cluster value : ')\n",
    "print(np.mean(silhouette_samples(npData2, clusters2, metric='euclidean'))*100)"
   ]
  },
  {
   "cell_type": "markdown",
   "metadata": {},
   "source": [
    "## Conclusion"
   ]
  },
  {
   "cell_type": "markdown",
   "metadata": {},
   "source": [
    "From this experiment, we can conclude that <b>experiment 1</b> that evaluate using <i>silhouette coefficient</i> show how good the cluster value for each data to thoose centroid is 35 %, while <b>experiment 2</b> give value that I think it's big enough that is 57%"
   ]
  },
  {
   "cell_type": "markdown",
   "metadata": {},
   "source": [
    "<p>Copyright &copy; 2020 <a href=https://www.linkedin.com/in/pratamays/>Pratama Yoga Santosa</a> </p>"
   ]
  }
 ],
 "metadata": {
  "kernelspec": {
   "display_name": "Python 3",
   "language": "python",
   "name": "python3"
  },
  "language_info": {
   "codemirror_mode": {
    "name": "ipython",
    "version": 3
   },
   "file_extension": ".py",
   "mimetype": "text/x-python",
   "name": "python",
   "nbconvert_exporter": "python",
   "pygments_lexer": "ipython3",
   "version": "3.7.1"
  }
 },
 "nbformat": 4,
 "nbformat_minor": 4
}
