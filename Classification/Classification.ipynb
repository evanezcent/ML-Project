{
 "cells": [
  {
   "cell_type": "code",
   "execution_count": 1,
   "metadata": {},
   "outputs": [
    {
     "name": "stderr",
     "output_type": "stream",
     "text": [
      "C:\\Users\\ASUS\\Anaconda3\\lib\\site-packages\\sklearn\\externals\\joblib\\__init__.py:15: FutureWarning: sklearn.externals.joblib is deprecated in 0.21 and will be removed in 0.23. Please import this functionality directly from joblib, which can be installed with: pip install joblib. If this warning is raised when loading pickled models, you may need to re-serialize those models with scikit-learn 0.21+.\n",
      "  warnings.warn(msg, category=FutureWarning)\n"
     ]
    }
   ],
   "source": [
    "import pandas as pd\n",
    "import numpy as np\n",
    "import seaborn as sns\n",
    "sns.set_style(\"whitegrid\")\n",
    "import matplotlib.pyplot as plt\n",
    "%matplotlib inline  \n",
    "import matplotlib as mpl\n",
    "\n",
    "from sklearn.model_selection import train_test_split\n",
    "from sklearn.externals import joblib \n",
    "from sklearn.metrics import classification_report, confusion_matrix\n",
    "# ComplementNB is Naive Bayes classifier for unbalance data\n",
    "from sklearn.naive_bayes import ComplementNB\n",
    "from sklearn import svm\n",
    "from sklearn.linear_model import SGDClassifier\n",
    "from sklearn.neural_network import MLPClassifier"
   ]
  },
  {
   "cell_type": "code",
   "execution_count": 2,
   "metadata": {},
   "outputs": [],
   "source": [
    "data = pd.read_csv('classification-datasets.csv')"
   ]
  },
  {
   "cell_type": "code",
   "execution_count": 3,
   "metadata": {},
   "outputs": [
    {
     "data": {
      "text/html": [
       "<div>\n",
       "<style scoped>\n",
       "    .dataframe tbody tr th:only-of-type {\n",
       "        vertical-align: middle;\n",
       "    }\n",
       "\n",
       "    .dataframe tbody tr th {\n",
       "        vertical-align: top;\n",
       "    }\n",
       "\n",
       "    .dataframe thead th {\n",
       "        text-align: right;\n",
       "    }\n",
       "</style>\n",
       "<table border=\"1\" class=\"dataframe\">\n",
       "  <thead>\n",
       "    <tr style=\"text-align: right;\">\n",
       "      <th></th>\n",
       "      <th>height_cm</th>\n",
       "      <th>weight_kg</th>\n",
       "    </tr>\n",
       "  </thead>\n",
       "  <tbody>\n",
       "    <tr>\n",
       "      <th>count</th>\n",
       "      <td>18278.000000</td>\n",
       "      <td>18278.000000</td>\n",
       "    </tr>\n",
       "    <tr>\n",
       "      <th>mean</th>\n",
       "      <td>181.362184</td>\n",
       "      <td>75.276343</td>\n",
       "    </tr>\n",
       "    <tr>\n",
       "      <th>std</th>\n",
       "      <td>6.756961</td>\n",
       "      <td>7.047744</td>\n",
       "    </tr>\n",
       "    <tr>\n",
       "      <th>min</th>\n",
       "      <td>156.000000</td>\n",
       "      <td>50.000000</td>\n",
       "    </tr>\n",
       "    <tr>\n",
       "      <th>25%</th>\n",
       "      <td>177.000000</td>\n",
       "      <td>70.000000</td>\n",
       "    </tr>\n",
       "    <tr>\n",
       "      <th>50%</th>\n",
       "      <td>181.000000</td>\n",
       "      <td>75.000000</td>\n",
       "    </tr>\n",
       "    <tr>\n",
       "      <th>75%</th>\n",
       "      <td>186.000000</td>\n",
       "      <td>80.000000</td>\n",
       "    </tr>\n",
       "    <tr>\n",
       "      <th>max</th>\n",
       "      <td>205.000000</td>\n",
       "      <td>110.000000</td>\n",
       "    </tr>\n",
       "  </tbody>\n",
       "</table>\n",
       "</div>"
      ],
      "text/plain": [
       "          height_cm     weight_kg\n",
       "count  18278.000000  18278.000000\n",
       "mean     181.362184     75.276343\n",
       "std        6.756961      7.047744\n",
       "min      156.000000     50.000000\n",
       "25%      177.000000     70.000000\n",
       "50%      181.000000     75.000000\n",
       "75%      186.000000     80.000000\n",
       "max      205.000000    110.000000"
      ]
     },
     "execution_count": 3,
     "metadata": {},
     "output_type": "execute_result"
    }
   ],
   "source": [
    "data.describe()"
   ]
  },
  {
   "cell_type": "code",
   "execution_count": 4,
   "metadata": {},
   "outputs": [
    {
     "data": {
      "text/html": [
       "<div>\n",
       "<style scoped>\n",
       "    .dataframe tbody tr th:only-of-type {\n",
       "        vertical-align: middle;\n",
       "    }\n",
       "\n",
       "    .dataframe tbody tr th {\n",
       "        vertical-align: top;\n",
       "    }\n",
       "\n",
       "    .dataframe thead th {\n",
       "        text-align: right;\n",
       "    }\n",
       "</style>\n",
       "<table border=\"1\" class=\"dataframe\">\n",
       "  <thead>\n",
       "    <tr style=\"text-align: right;\">\n",
       "      <th></th>\n",
       "      <th>height_cm</th>\n",
       "      <th>weight_kg</th>\n",
       "      <th>body_type</th>\n",
       "    </tr>\n",
       "  </thead>\n",
       "  <tbody>\n",
       "    <tr>\n",
       "      <th>0</th>\n",
       "      <td>170</td>\n",
       "      <td>72</td>\n",
       "      <td>Normal</td>\n",
       "    </tr>\n",
       "    <tr>\n",
       "      <th>1</th>\n",
       "      <td>187</td>\n",
       "      <td>83</td>\n",
       "      <td>Normal</td>\n",
       "    </tr>\n",
       "    <tr>\n",
       "      <th>2</th>\n",
       "      <td>175</td>\n",
       "      <td>68</td>\n",
       "      <td>Lean</td>\n",
       "    </tr>\n",
       "    <tr>\n",
       "      <th>3</th>\n",
       "      <td>188</td>\n",
       "      <td>87</td>\n",
       "      <td>Normal</td>\n",
       "    </tr>\n",
       "    <tr>\n",
       "      <th>4</th>\n",
       "      <td>175</td>\n",
       "      <td>74</td>\n",
       "      <td>Normal</td>\n",
       "    </tr>\n",
       "    <tr>\n",
       "      <th>...</th>\n",
       "      <td>...</td>\n",
       "      <td>...</td>\n",
       "      <td>...</td>\n",
       "    </tr>\n",
       "    <tr>\n",
       "      <th>18273</th>\n",
       "      <td>186</td>\n",
       "      <td>79</td>\n",
       "      <td>Normal</td>\n",
       "    </tr>\n",
       "    <tr>\n",
       "      <th>18274</th>\n",
       "      <td>177</td>\n",
       "      <td>66</td>\n",
       "      <td>Normal</td>\n",
       "    </tr>\n",
       "    <tr>\n",
       "      <th>18275</th>\n",
       "      <td>186</td>\n",
       "      <td>75</td>\n",
       "      <td>Lean</td>\n",
       "    </tr>\n",
       "    <tr>\n",
       "      <th>18276</th>\n",
       "      <td>185</td>\n",
       "      <td>74</td>\n",
       "      <td>Lean</td>\n",
       "    </tr>\n",
       "    <tr>\n",
       "      <th>18277</th>\n",
       "      <td>182</td>\n",
       "      <td>78</td>\n",
       "      <td>Normal</td>\n",
       "    </tr>\n",
       "  </tbody>\n",
       "</table>\n",
       "<p>18278 rows × 3 columns</p>\n",
       "</div>"
      ],
      "text/plain": [
       "       height_cm  weight_kg body_type\n",
       "0            170         72    Normal\n",
       "1            187         83    Normal\n",
       "2            175         68      Lean\n",
       "3            188         87    Normal\n",
       "4            175         74    Normal\n",
       "...          ...        ...       ...\n",
       "18273        186         79    Normal\n",
       "18274        177         66    Normal\n",
       "18275        186         75      Lean\n",
       "18276        185         74      Lean\n",
       "18277        182         78    Normal\n",
       "\n",
       "[18278 rows x 3 columns]"
      ]
     },
     "execution_count": 4,
     "metadata": {},
     "output_type": "execute_result"
    }
   ],
   "source": [
    "data"
   ]
  },
  {
   "cell_type": "code",
   "execution_count": 5,
   "metadata": {},
   "outputs": [],
   "source": [
    "data['normalized_H'] = (data['height_cm'] - data['height_cm'].min()) / (data['height_cm'].max() - data['height_cm'].min())\n",
    "data['normalized_W'] = (data['weight_kg'] - data['weight_kg'].min()) / (data['weight_kg'].max() - data['weight_kg'].min())"
   ]
  },
  {
   "cell_type": "code",
   "execution_count": 6,
   "metadata": {},
   "outputs": [
    {
     "data": {
      "text/html": [
       "<div>\n",
       "<style scoped>\n",
       "    .dataframe tbody tr th:only-of-type {\n",
       "        vertical-align: middle;\n",
       "    }\n",
       "\n",
       "    .dataframe tbody tr th {\n",
       "        vertical-align: top;\n",
       "    }\n",
       "\n",
       "    .dataframe thead th {\n",
       "        text-align: right;\n",
       "    }\n",
       "</style>\n",
       "<table border=\"1\" class=\"dataframe\">\n",
       "  <thead>\n",
       "    <tr style=\"text-align: right;\">\n",
       "      <th></th>\n",
       "      <th>height_cm</th>\n",
       "      <th>weight_kg</th>\n",
       "      <th>body_type</th>\n",
       "      <th>normalized_H</th>\n",
       "      <th>normalized_W</th>\n",
       "    </tr>\n",
       "  </thead>\n",
       "  <tbody>\n",
       "    <tr>\n",
       "      <th>0</th>\n",
       "      <td>170</td>\n",
       "      <td>72</td>\n",
       "      <td>Normal</td>\n",
       "      <td>0.285714</td>\n",
       "      <td>0.366667</td>\n",
       "    </tr>\n",
       "    <tr>\n",
       "      <th>1</th>\n",
       "      <td>187</td>\n",
       "      <td>83</td>\n",
       "      <td>Normal</td>\n",
       "      <td>0.632653</td>\n",
       "      <td>0.550000</td>\n",
       "    </tr>\n",
       "    <tr>\n",
       "      <th>2</th>\n",
       "      <td>175</td>\n",
       "      <td>68</td>\n",
       "      <td>Lean</td>\n",
       "      <td>0.387755</td>\n",
       "      <td>0.300000</td>\n",
       "    </tr>\n",
       "    <tr>\n",
       "      <th>3</th>\n",
       "      <td>188</td>\n",
       "      <td>87</td>\n",
       "      <td>Normal</td>\n",
       "      <td>0.653061</td>\n",
       "      <td>0.616667</td>\n",
       "    </tr>\n",
       "    <tr>\n",
       "      <th>4</th>\n",
       "      <td>175</td>\n",
       "      <td>74</td>\n",
       "      <td>Normal</td>\n",
       "      <td>0.387755</td>\n",
       "      <td>0.400000</td>\n",
       "    </tr>\n",
       "    <tr>\n",
       "      <th>...</th>\n",
       "      <td>...</td>\n",
       "      <td>...</td>\n",
       "      <td>...</td>\n",
       "      <td>...</td>\n",
       "      <td>...</td>\n",
       "    </tr>\n",
       "    <tr>\n",
       "      <th>18273</th>\n",
       "      <td>186</td>\n",
       "      <td>79</td>\n",
       "      <td>Normal</td>\n",
       "      <td>0.612245</td>\n",
       "      <td>0.483333</td>\n",
       "    </tr>\n",
       "    <tr>\n",
       "      <th>18274</th>\n",
       "      <td>177</td>\n",
       "      <td>66</td>\n",
       "      <td>Normal</td>\n",
       "      <td>0.428571</td>\n",
       "      <td>0.266667</td>\n",
       "    </tr>\n",
       "    <tr>\n",
       "      <th>18275</th>\n",
       "      <td>186</td>\n",
       "      <td>75</td>\n",
       "      <td>Lean</td>\n",
       "      <td>0.612245</td>\n",
       "      <td>0.416667</td>\n",
       "    </tr>\n",
       "    <tr>\n",
       "      <th>18276</th>\n",
       "      <td>185</td>\n",
       "      <td>74</td>\n",
       "      <td>Lean</td>\n",
       "      <td>0.591837</td>\n",
       "      <td>0.400000</td>\n",
       "    </tr>\n",
       "    <tr>\n",
       "      <th>18277</th>\n",
       "      <td>182</td>\n",
       "      <td>78</td>\n",
       "      <td>Normal</td>\n",
       "      <td>0.530612</td>\n",
       "      <td>0.466667</td>\n",
       "    </tr>\n",
       "  </tbody>\n",
       "</table>\n",
       "<p>18278 rows × 5 columns</p>\n",
       "</div>"
      ],
      "text/plain": [
       "       height_cm  weight_kg body_type  normalized_H  normalized_W\n",
       "0            170         72    Normal      0.285714      0.366667\n",
       "1            187         83    Normal      0.632653      0.550000\n",
       "2            175         68      Lean      0.387755      0.300000\n",
       "3            188         87    Normal      0.653061      0.616667\n",
       "4            175         74    Normal      0.387755      0.400000\n",
       "...          ...        ...       ...           ...           ...\n",
       "18273        186         79    Normal      0.612245      0.483333\n",
       "18274        177         66    Normal      0.428571      0.266667\n",
       "18275        186         75      Lean      0.612245      0.416667\n",
       "18276        185         74      Lean      0.591837      0.400000\n",
       "18277        182         78    Normal      0.530612      0.466667\n",
       "\n",
       "[18278 rows x 5 columns]"
      ]
     },
     "execution_count": 6,
     "metadata": {},
     "output_type": "execute_result"
    }
   ],
   "source": [
    "data"
   ]
  },
  {
   "cell_type": "code",
   "execution_count": 7,
   "metadata": {},
   "outputs": [
    {
     "data": {
      "text/html": [
       "<div>\n",
       "<style scoped>\n",
       "    .dataframe tbody tr th:only-of-type {\n",
       "        vertical-align: middle;\n",
       "    }\n",
       "\n",
       "    .dataframe tbody tr th {\n",
       "        vertical-align: top;\n",
       "    }\n",
       "\n",
       "    .dataframe thead th {\n",
       "        text-align: right;\n",
       "    }\n",
       "</style>\n",
       "<table border=\"1\" class=\"dataframe\">\n",
       "  <thead>\n",
       "    <tr style=\"text-align: right;\">\n",
       "      <th></th>\n",
       "      <th>height_cm</th>\n",
       "      <th>weight_kg</th>\n",
       "      <th>normalized_H</th>\n",
       "      <th>normalized_W</th>\n",
       "    </tr>\n",
       "    <tr>\n",
       "      <th>body_type</th>\n",
       "      <th></th>\n",
       "      <th></th>\n",
       "      <th></th>\n",
       "      <th></th>\n",
       "    </tr>\n",
       "  </thead>\n",
       "  <tbody>\n",
       "    <tr>\n",
       "      <th>Lean</th>\n",
       "      <td>6506</td>\n",
       "      <td>6506</td>\n",
       "      <td>6506</td>\n",
       "      <td>6506</td>\n",
       "    </tr>\n",
       "    <tr>\n",
       "      <th>Normal</th>\n",
       "      <td>10753</td>\n",
       "      <td>10753</td>\n",
       "      <td>10753</td>\n",
       "      <td>10753</td>\n",
       "    </tr>\n",
       "    <tr>\n",
       "      <th>Stocky</th>\n",
       "      <td>1019</td>\n",
       "      <td>1019</td>\n",
       "      <td>1019</td>\n",
       "      <td>1019</td>\n",
       "    </tr>\n",
       "  </tbody>\n",
       "</table>\n",
       "</div>"
      ],
      "text/plain": [
       "           height_cm  weight_kg  normalized_H  normalized_W\n",
       "body_type                                                  \n",
       "Lean            6506       6506          6506          6506\n",
       "Normal         10753      10753         10753         10753\n",
       "Stocky          1019       1019          1019          1019"
      ]
     },
     "execution_count": 7,
     "metadata": {},
     "output_type": "execute_result"
    }
   ],
   "source": [
    "data.groupby('body_type').agg('count')"
   ]
  },
  {
   "cell_type": "markdown",
   "metadata": {},
   "source": [
    "### Check for missing value in the data"
   ]
  },
  {
   "cell_type": "code",
   "execution_count": 8,
   "metadata": {},
   "outputs": [
    {
     "data": {
      "text/plain": [
       "height_cm       0\n",
       "weight_kg       0\n",
       "body_type       0\n",
       "normalized_H    0\n",
       "normalized_W    0\n",
       "dtype: int64"
      ]
     },
     "execution_count": 8,
     "metadata": {},
     "output_type": "execute_result"
    }
   ],
   "source": [
    "missing_values = data.isnull().sum()\n",
    "missing_values"
   ]
  },
  {
   "cell_type": "markdown",
   "metadata": {},
   "source": [
    "#### Function to plot the outliers data"
   ]
  },
  {
   "cell_type": "code",
   "execution_count": 9,
   "metadata": {},
   "outputs": [],
   "source": [
    "def boxPlot(data1, data2):\n",
    "    mpl.rcParams['figure.dpi'] = 100\n",
    "    plt.figure(figsize=(60, 60))\n",
    "    f, axes = plt.subplots(1, 2)\n",
    "    sns.boxplot(y=data1, ax=axes[0])\n",
    "    sns.boxplot(y=data2, ax=axes[1])\n",
    "    plt.subplots_adjust(wspace=1)"
   ]
  },
  {
   "cell_type": "code",
   "execution_count": 10,
   "metadata": {},
   "outputs": [
    {
     "data": {
      "text/plain": [
       "<Figure size 6000x6000 with 0 Axes>"
      ]
     },
     "metadata": {},
     "output_type": "display_data"
    },
    {
     "data": {
      "image/png": "[encoded data removed]",
      "text/plain": [
       "<Figure size 600x400 with 2 Axes>"
      ]
     },
     "metadata": {
      "needs_background": "light"
     },
     "output_type": "display_data"
    }
   ],
   "source": [
    "boxPlot(data[\"normalized_H\"], data[\"normalized_W\"])"
   ]
  },
  {
   "cell_type": "markdown",
   "metadata": {},
   "source": [
    "#### Formula to find out upper limit and lower limit from Outliers"
   ]
  },
  {
   "cell_type": "code",
   "execution_count": 11,
   "metadata": {},
   "outputs": [],
   "source": [
    "def setbound(datacolumn):\n",
    "    sorted(datacolumn)\n",
    "    Q1,Q3 = np.percentile(datacolumn , [25,75])\n",
    "    IQR = Q3 - Q1\n",
    "    print(Q1, Q3)\n",
    "    lower_range = Q1 - (1.5 * IQR)\n",
    "    upper_range = Q3 + (1.5 * IQR)\n",
    "    return lower_range,upper_range"
   ]
  },
  {
   "cell_type": "markdown",
   "metadata": {},
   "source": [
    "#### Get the outliers data"
   ]
  },
  {
   "cell_type": "code",
   "execution_count": 12,
   "metadata": {},
   "outputs": [],
   "source": [
    "def getOutlierData(data, mainData):\n",
    "    lowerbound,upperbound = setbound(data)\n",
    "    return mainData[(data < lowerbound) | (data > upperbound)]"
   ]
  },
  {
   "cell_type": "markdown",
   "metadata": {},
   "source": [
    "#### Drop the outliers data"
   ]
  },
  {
   "cell_type": "code",
   "execution_count": 13,
   "metadata": {},
   "outputs": [],
   "source": [
    "def outliering(data1, data2, mainData):\n",
    "    # Loop until outliers is clean\n",
    "    while True:\n",
    "        lowerbound,upperbound = setbound(data1)\n",
    "        res1 = getOutlierData(data1, mainData)\n",
    "\n",
    "        lowerbound,upperbound = setbound(data2)\n",
    "        res2 = getOutlierData(data2, mainData)\n",
    "        \n",
    "        res = pd.concat([res1,res2]).drop_duplicates()\n",
    "        res = res.index\n",
    "\n",
    "        print('Total Outliers = ',len(res))\n",
    "        print('=== The Outliers ===')\n",
    "        print(res)    \n",
    "        mainData.drop(res, inplace=True)\n",
    "\n",
    "        if(len(res)==0):\n",
    "            break\n",
    "    print(\"BLOXPOT AFTER OUTLIERING\")\n",
    "    boxPlot(mainData['normalized_H'], mainData['normalized_W'])\n",
    "    return mainData"
   ]
  },
  {
   "cell_type": "code",
   "execution_count": 14,
   "metadata": {},
   "outputs": [
    {
     "name": "stdout",
     "output_type": "stream",
     "text": [
      "0.42857142857142855 0.6122448979591837\n",
      "0.42857142857142855 0.6122448979591837\n",
      "0.3333333333333333 0.5\n",
      "0.3333333333333333 0.5\n",
      "Total Outliers =  127\n",
      "=== The Outliers ===\n",
      "Int64Index([   54,   355,   393,   628,   776,   909,  1352,  1496,  1834,\n",
      "             1923,\n",
      "            ...\n",
      "            11945, 12666, 13070, 13254, 13576, 15064, 16695, 17158, 17612,\n",
      "            17772],\n",
      "           dtype='int64', length=127)\n",
      "0.42857142857142855 0.6122448979591837\n",
      "0.42857142857142855 0.6122448979591837\n",
      "0.3333333333333333 0.5\n",
      "0.3333333333333333 0.5\n",
      "Total Outliers =  24\n",
      "=== The Outliers ===\n",
      "Int64Index([ 4243,  5060,  6715,  7554,  7648, 10661, 11484, 11759, 12549,\n",
      "            15805, 16268, 16492, 16664, 17587, 18103,   165,  5843,  8587,\n",
      "            10665, 11965, 13201, 17022, 17078, 17817],\n",
      "           dtype='int64')\n",
      "0.42857142857142855 0.6122448979591837\n",
      "0.42857142857142855 0.6122448979591837\n",
      "0.3333333333333333 0.5\n",
      "0.3333333333333333 0.5\n",
      "Total Outliers =  3\n",
      "=== The Outliers ===\n",
      "Int64Index([12880, 14546, 16660], dtype='int64')\n",
      "0.42857142857142855 0.6122448979591837\n",
      "0.42857142857142855 0.6122448979591837\n",
      "0.3333333333333333 0.5\n",
      "0.3333333333333333 0.5\n",
      "Total Outliers =  0\n",
      "=== The Outliers ===\n",
      "Int64Index([], dtype='int64')\n",
      "BLOXPOT AFTER OUTLIERING\n"
     ]
    },
    {
     "name": "stderr",
     "output_type": "stream",
     "text": [
      "C:\\Users\\ASUS\\Anaconda3\\lib\\site-packages\\ipykernel_launcher.py:3: UserWarning: Boolean Series key will be reindexed to match DataFrame index.\n",
      "  This is separate from the ipykernel package so we can avoid doing imports until\n"
     ]
    },
    {
     "data": {
      "text/plain": [
       "<Figure size 6000x6000 with 0 Axes>"
      ]
     },
     "metadata": {},
     "output_type": "display_data"
    },
    {
     "data": {
      "image/png": "[encoded data removed]",
      "text/plain": [
       "<Figure size 600x400 with 2 Axes>"
      ]
     },
     "metadata": {
      "needs_background": "light"
     },
     "output_type": "display_data"
    }
   ],
   "source": [
    "newData = outliering(data[\"normalized_H\"], data[\"normalized_W\"], data)"
   ]
  },
  {
   "cell_type": "code",
   "execution_count": 15,
   "metadata": {},
   "outputs": [
    {
     "data": {
      "text/html": [
       "<div>\n",
       "<style scoped>\n",
       "    .dataframe tbody tr th:only-of-type {\n",
       "        vertical-align: middle;\n",
       "    }\n",
       "\n",
       "    .dataframe tbody tr th {\n",
       "        vertical-align: top;\n",
       "    }\n",
       "\n",
       "    .dataframe thead th {\n",
       "        text-align: right;\n",
       "    }\n",
       "</style>\n",
       "<table border=\"1\" class=\"dataframe\">\n",
       "  <thead>\n",
       "    <tr style=\"text-align: right;\">\n",
       "      <th></th>\n",
       "      <th>height_cm</th>\n",
       "      <th>weight_kg</th>\n",
       "      <th>body_type</th>\n",
       "      <th>normalized_H</th>\n",
       "      <th>normalized_W</th>\n",
       "    </tr>\n",
       "  </thead>\n",
       "  <tbody>\n",
       "    <tr>\n",
       "      <th>0</th>\n",
       "      <td>170</td>\n",
       "      <td>72</td>\n",
       "      <td>Normal</td>\n",
       "      <td>0.285714</td>\n",
       "      <td>0.366667</td>\n",
       "    </tr>\n",
       "    <tr>\n",
       "      <th>1</th>\n",
       "      <td>187</td>\n",
       "      <td>83</td>\n",
       "      <td>Normal</td>\n",
       "      <td>0.632653</td>\n",
       "      <td>0.550000</td>\n",
       "    </tr>\n",
       "    <tr>\n",
       "      <th>2</th>\n",
       "      <td>175</td>\n",
       "      <td>68</td>\n",
       "      <td>Lean</td>\n",
       "      <td>0.387755</td>\n",
       "      <td>0.300000</td>\n",
       "    </tr>\n",
       "    <tr>\n",
       "      <th>3</th>\n",
       "      <td>188</td>\n",
       "      <td>87</td>\n",
       "      <td>Normal</td>\n",
       "      <td>0.653061</td>\n",
       "      <td>0.616667</td>\n",
       "    </tr>\n",
       "    <tr>\n",
       "      <th>4</th>\n",
       "      <td>175</td>\n",
       "      <td>74</td>\n",
       "      <td>Normal</td>\n",
       "      <td>0.387755</td>\n",
       "      <td>0.400000</td>\n",
       "    </tr>\n",
       "    <tr>\n",
       "      <th>...</th>\n",
       "      <td>...</td>\n",
       "      <td>...</td>\n",
       "      <td>...</td>\n",
       "      <td>...</td>\n",
       "      <td>...</td>\n",
       "    </tr>\n",
       "    <tr>\n",
       "      <th>18273</th>\n",
       "      <td>186</td>\n",
       "      <td>79</td>\n",
       "      <td>Normal</td>\n",
       "      <td>0.612245</td>\n",
       "      <td>0.483333</td>\n",
       "    </tr>\n",
       "    <tr>\n",
       "      <th>18274</th>\n",
       "      <td>177</td>\n",
       "      <td>66</td>\n",
       "      <td>Normal</td>\n",
       "      <td>0.428571</td>\n",
       "      <td>0.266667</td>\n",
       "    </tr>\n",
       "    <tr>\n",
       "      <th>18275</th>\n",
       "      <td>186</td>\n",
       "      <td>75</td>\n",
       "      <td>Lean</td>\n",
       "      <td>0.612245</td>\n",
       "      <td>0.416667</td>\n",
       "    </tr>\n",
       "    <tr>\n",
       "      <th>18276</th>\n",
       "      <td>185</td>\n",
       "      <td>74</td>\n",
       "      <td>Lean</td>\n",
       "      <td>0.591837</td>\n",
       "      <td>0.400000</td>\n",
       "    </tr>\n",
       "    <tr>\n",
       "      <th>18277</th>\n",
       "      <td>182</td>\n",
       "      <td>78</td>\n",
       "      <td>Normal</td>\n",
       "      <td>0.530612</td>\n",
       "      <td>0.466667</td>\n",
       "    </tr>\n",
       "  </tbody>\n",
       "</table>\n",
       "<p>18124 rows × 5 columns</p>\n",
       "</div>"
      ],
      "text/plain": [
       "       height_cm  weight_kg body_type  normalized_H  normalized_W\n",
       "0            170         72    Normal      0.285714      0.366667\n",
       "1            187         83    Normal      0.632653      0.550000\n",
       "2            175         68      Lean      0.387755      0.300000\n",
       "3            188         87    Normal      0.653061      0.616667\n",
       "4            175         74    Normal      0.387755      0.400000\n",
       "...          ...        ...       ...           ...           ...\n",
       "18273        186         79    Normal      0.612245      0.483333\n",
       "18274        177         66    Normal      0.428571      0.266667\n",
       "18275        186         75      Lean      0.612245      0.416667\n",
       "18276        185         74      Lean      0.591837      0.400000\n",
       "18277        182         78    Normal      0.530612      0.466667\n",
       "\n",
       "[18124 rows x 5 columns]"
      ]
     },
     "execution_count": 15,
     "metadata": {},
     "output_type": "execute_result"
    }
   ],
   "source": [
    "newData"
   ]
  },
  {
   "cell_type": "markdown",
   "metadata": {},
   "source": [
    "#### Get Independen Data"
   ]
  },
  {
   "cell_type": "code",
   "execution_count": 16,
   "metadata": {
    "collapsed": true,
    "jupyter": {
     "outputs_hidden": true
    }
   },
   "outputs": [
    {
     "data": {
      "text/plain": [
       "[[0.2857142857142857, 0.36666666666666664],\n",
       " [0.6326530612244898, 0.55],\n",
       " [0.3877551020408163, 0.3],\n",
       " [0.6530612244897959, 0.6166666666666667],\n",
       " [0.3877551020408163, 0.4],\n",
       " [0.5102040816326531, 0.3333333333333333],\n",
       " [0.6326530612244898, 0.5833333333333334],\n",
       " [0.7551020408163265, 0.7],\n",
       " [0.32653061224489793, 0.26666666666666666],\n",
       " [0.3877551020408163, 0.35],\n",
       " [0.4489795918367347, 0.38333333333333336],\n",
       " [0.6326530612244898, 0.65],\n",
       " [0.6530612244897959, 0.65],\n",
       " [0.7142857142857143, 0.6833333333333333],\n",
       " [0.7346938775510204, 0.5333333333333333],\n",
       " [0.24489795918367346, 0.36666666666666664],\n",
       " [0.6326530612244898, 0.5833333333333334],\n",
       " [0.3469387755102041, 0.3333333333333333],\n",
       " [0.5714285714285714, 0.5333333333333333],\n",
       " [0.5306122448979592, 0.6],\n",
       " [0.5714285714285714, 0.5],\n",
       " [0.673469387755102, 0.43333333333333335],\n",
       " [0.40816326530612246, 0.38333333333333336],\n",
       " [0.42857142857142855, 0.4166666666666667],\n",
       " [0.7142857142857143, 0.5666666666666667],\n",
       " [0.6530612244897959, 0.6],\n",
       " [0.2857142857142857, 0.31666666666666665],\n",
       " [0.5102040816326531, 0.43333333333333335],\n",
       " [0.7755102040816326, 0.5833333333333334],\n",
       " [0.7551020408163265, 0.7],\n",
       " [0.7551020408163265, 0.7],\n",
       " [0.6530612244897959, 0.5333333333333333],\n",
       " [0.3469387755102041, 0.2833333333333333],\n",
       " [0.5918367346938775, 0.45],\n",
       " [0.6326530612244898, 0.4666666666666667],\n",
       " [0.5510204081632653, 0.43333333333333335],\n",
       " [0.4897959183673469, 0.35],\n",
       " [0.6326530612244898, 0.5],\n",
       " [0.3877551020408163, 0.31666666666666665],\n",
       " [0.673469387755102, 0.5833333333333334],\n",
       " [0.3469387755102041, 0.23333333333333334],\n",
       " [0.5918367346938775, 0.5666666666666667],\n",
       " [0.5510204081632653, 0.4666666666666667],\n",
       " [0.46938775510204084, 0.2833333333333333],\n",
       " [0.5510204081632653, 0.5333333333333333],\n",
       " [0.5918367346938775, 0.5166666666666667],\n",
       " [0.673469387755102, 0.6],\n",
       " [0.2653061224489796, 0.18333333333333332],\n",
       " [0.7142857142857143, 0.7333333333333333],\n",
       " [0.6122448979591837, 0.5166666666666667],\n",
       " [0.2857142857142857, 0.3],\n",
       " [0.3673469387755102, 0.3333333333333333],\n",
       " [0.5918367346938775, 0.5],\n",
       " [0.5510204081632653, 0.4166666666666667],\n",
       " [0.5510204081632653, 0.4166666666666667],\n",
       " [0.6326530612244898, 0.5],\n",
       " [0.1836734693877551, 0.16666666666666666],\n",
       " [0.5306122448979592, 0.4166666666666667],\n",
       " [0.7959183673469388, 0.6666666666666666],\n",
       " [0.40816326530612246, 0.38333333333333336],\n",
       " [0.40816326530612246, 0.48333333333333334],\n",
       " [0.5102040816326531, 0.43333333333333335],\n",
       " [0.5714285714285714, 0.4666666666666667],\n",
       " [0.4489795918367347, 0.36666666666666664],\n",
       " [0.4897959183673469, 0.31666666666666665],\n",
       " [0.6938775510204082, 0.5833333333333334],\n",
       " [0.32653061224489793, 0.3],\n",
       " [0.5306122448979592, 0.4],\n",
       " [0.6122448979591837, 0.4166666666666667],\n",
       " [0.5918367346938775, 0.5833333333333334],\n",
       " [0.3877551020408163, 0.38333333333333336],\n",
       " [0.673469387755102, 0.65],\n",
       " [0.8163265306122449, 0.6666666666666666],\n",
       " [0.4897959183673469, 0.4],\n",
       " [0.7142857142857143, 0.5166666666666667],\n",
       " [0.7142857142857143, 0.43333333333333335],\n",
       " [0.7142857142857143, 0.5333333333333333],\n",
       " [0.5714285714285714, 0.45],\n",
       " [0.6530612244897959, 0.4666666666666667],\n",
       " [0.4489795918367347, 0.23333333333333334],\n",
       " [0.5918367346938775, 0.5],\n",
       " [0.6122448979591837, 0.5166666666666667],\n",
       " [0.46938775510204084, 0.31666666666666665],\n",
       " [0.5714285714285714, 0.5166666666666667],\n",
       " [0.7346938775510204, 0.6],\n",
       " [0.6326530612244898, 0.5833333333333334],\n",
       " [0.6938775510204082, 0.7333333333333333],\n",
       " [0.673469387755102, 0.55],\n",
       " [0.6938775510204082, 0.5666666666666667],\n",
       " [0.4897959183673469, 0.4666666666666667],\n",
       " [0.5102040816326531, 0.4166666666666667],\n",
       " [0.3469387755102041, 0.38333333333333336],\n",
       " [0.5102040816326531, 0.25],\n",
       " [0.7959183673469388, 0.75],\n",
       " [0.1836734693877551, 0.3],\n",
       " [0.6122448979591837, 0.65],\n",
       " [0.4897959183673469, 0.4166666666666667],\n",
       " [0.5918367346938775, 0.5333333333333333],\n",
       " [0.3673469387755102, 0.4166666666666667],\n",
       " [0.6122448979591837, 0.5166666666666667],\n",
       " [0.4897959183673469, 0.5],\n",
       " [0.40816326530612246, 0.2833333333333333],\n",
       " [0.40816326530612246, 0.4],\n",
       " [0.4897959183673469, 0.4166666666666667],\n",
       " [0.3877551020408163, 0.4],\n",
       " [0.4897959183673469, 0.43333333333333335],\n",
       " [0.6530612244897959, 0.55],\n",
       " [0.4489795918367347, 0.2833333333333333],\n",
       " [0.6122448979591837, 0.5833333333333334],\n",
       " [0.5306122448979592, 0.4],\n",
       " [0.6530612244897959, 0.5],\n",
       " [0.5306122448979592, 0.43333333333333335],\n",
       " [0.30612244897959184, 0.38333333333333336],\n",
       " [0.40816326530612246, 0.4666666666666667],\n",
       " [0.673469387755102, 0.48333333333333334],\n",
       " [0.5918367346938775, 0.55],\n",
       " [0.46938775510204084, 0.4166666666666667],\n",
       " [0.3877551020408163, 0.4166666666666667],\n",
       " [0.3469387755102041, 0.4166666666666667],\n",
       " [0.6938775510204082, 0.55],\n",
       " [0.5510204081632653, 0.4],\n",
       " [0.5102040816326531, 0.35],\n",
       " [0.8163265306122449, 0.5166666666666667],\n",
       " [0.673469387755102, 0.4666666666666667],\n",
       " [0.3877551020408163, 0.3333333333333333],\n",
       " [0.6530612244897959, 0.5166666666666667],\n",
       " [0.2857142857142857, 0.18333333333333332],\n",
       " [0.6530612244897959, 0.7166666666666667],\n",
       " [0.7346938775510204, 0.5],\n",
       " [0.5510204081632653, 0.38333333333333336],\n",
       " [0.6122448979591837, 0.5833333333333334],\n",
       " [0.46938775510204084, 0.4666666666666667],\n",
       " [0.4897959183673469, 0.43333333333333335],\n",
       " [0.7346938775510204, 0.6],\n",
       " [0.5510204081632653, 0.48333333333333334],\n",
       " [0.7551020408163265, 0.5],\n",
       " [0.3877551020408163, 0.31666666666666665],\n",
       " [0.6122448979591837, 0.5],\n",
       " [0.6938775510204082, 0.5833333333333334],\n",
       " [0.4897959183673469, 0.4166666666666667],\n",
       " [0.7346938775510204, 0.6666666666666666],\n",
       " [0.4489795918367347, 0.43333333333333335],\n",
       " [0.4489795918367347, 0.38333333333333336],\n",
       " [0.4897959183673469, 0.5],\n",
       " [0.5510204081632653, 0.5],\n",
       " [0.5510204081632653, 0.3333333333333333],\n",
       " [0.40816326530612246, 0.25],\n",
       " [0.32653061224489793, 0.3333333333333333],\n",
       " [0.42857142857142855, 0.36666666666666664],\n",
       " [0.5102040816326531, 0.43333333333333335],\n",
       " [0.6938775510204082, 0.48333333333333334],\n",
       " [0.46938775510204084, 0.2833333333333333],\n",
       " [0.32653061224489793, 0.21666666666666667],\n",
       " [0.6938775510204082, 0.55],\n",
       " [0.673469387755102, 0.3333333333333333],\n",
       " [0.6530612244897959, 0.4666666666666667],\n",
       " [0.42857142857142855, 0.3],\n",
       " [0.4897959183673469, 0.31666666666666665],\n",
       " [0.5306122448979592, 0.5833333333333334],\n",
       " [0.6122448979591837, 0.4666666666666667],\n",
       " [0.5714285714285714, 0.43333333333333335],\n",
       " [0.6938775510204082, 0.5],\n",
       " [0.5102040816326531, 0.5166666666666667],\n",
       " [0.673469387755102, 0.45],\n",
       " [0.46938775510204084, 0.3],\n",
       " [0.5510204081632653, 0.38333333333333336],\n",
       " [0.6326530612244898, 0.6833333333333333],\n",
       " [0.6122448979591837, 0.3333333333333333],\n",
       " [0.6530612244897959, 0.3333333333333333],\n",
       " [0.7346938775510204, 0.5],\n",
       " [0.30612244897959184, 0.31666666666666665],\n",
       " [0.4897959183673469, 0.4166666666666667],\n",
       " [0.30612244897959184, 0.2],\n",
       " [0.6326530612244898, 0.48333333333333334],\n",
       " [0.5306122448979592, 0.43333333333333335],\n",
       " [0.4489795918367347, 0.4],\n",
       " [0.6326530612244898, 0.45],\n",
       " [0.5918367346938775, 0.45],\n",
       " [0.4897959183673469, 0.35],\n",
       " [0.6326530612244898, 0.6],\n",
       " [0.8367346938775511, 0.6],\n",
       " [0.4897959183673469, 0.26666666666666666],\n",
       " [0.3877551020408163, 0.36666666666666664],\n",
       " [0.673469387755102, 0.5666666666666667],\n",
       " [0.6938775510204082, 0.5333333333333333],\n",
       " [0.6326530612244898, 0.55],\n",
       " [0.5918367346938775, 0.45],\n",
       " [0.4489795918367347, 0.36666666666666664],\n",
       " [0.5102040816326531, 0.35],\n",
       " [0.673469387755102, 0.6],\n",
       " [0.5714285714285714, 0.38333333333333336],\n",
       " [0.3673469387755102, 0.3333333333333333],\n",
       " [0.5918367346938775, 0.55],\n",
       " [0.3673469387755102, 0.3333333333333333],\n",
       " [0.46938775510204084, 0.3333333333333333],\n",
       " [0.4897959183673469, 0.2833333333333333],\n",
       " [0.7346938775510204, 0.7],\n",
       " [0.5918367346938775, 0.5666666666666667],\n",
       " [0.6938775510204082, 0.6],\n",
       " [0.6938775510204082, 0.5833333333333334],\n",
       " [0.6938775510204082, 0.5333333333333333],\n",
       " [0.4897959183673469, 0.48333333333333334],\n",
       " [0.673469387755102, 0.65],\n",
       " [0.42857142857142855, 0.36666666666666664],\n",
       " [0.6122448979591837, 0.4666666666666667],\n",
       " [0.42857142857142855, 0.45],\n",
       " [0.673469387755102, 0.6666666666666666],\n",
       " [0.6938775510204082, 0.5666666666666667],\n",
       " [0.40816326530612246, 0.45],\n",
       " [0.3673469387755102, 0.35],\n",
       " [0.6530612244897959, 0.6],\n",
       " [0.673469387755102, 0.6666666666666666],\n",
       " [0.673469387755102, 0.6],\n",
       " [0.4897959183673469, 0.43333333333333335],\n",
       " [0.5306122448979592, 0.5],\n",
       " [0.6122448979591837, 0.45],\n",
       " [0.5510204081632653, 0.43333333333333335],\n",
       " [0.46938775510204084, 0.4166666666666667],\n",
       " [0.4897959183673469, 0.36666666666666664],\n",
       " [0.7346938775510204, 0.5833333333333334],\n",
       " [0.5510204081632653, 0.5166666666666667],\n",
       " [0.46938775510204084, 0.36666666666666664],\n",
       " [0.3673469387755102, 0.26666666666666666],\n",
       " [0.4489795918367347, 0.2833333333333333],\n",
       " [0.5306122448979592, 0.45],\n",
       " [0.30612244897959184, 0.3333333333333333],\n",
       " [0.2857142857142857, 0.3],\n",
       " [0.7346938775510204, 0.6333333333333333],\n",
       " [0.6530612244897959, 0.55],\n",
       " [0.42857142857142855, 0.38333333333333336],\n",
       " [0.6530612244897959, 0.55],\n",
       " [0.5918367346938775, 0.5],\n",
       " [0.42857142857142855, 0.4166666666666667],\n",
       " [0.5102040816326531, 0.4666666666666667],\n",
       " [0.4489795918367347, 0.48333333333333334],\n",
       " [0.3877551020408163, 0.38333333333333336],\n",
       " [0.40816326530612246, 0.4666666666666667],\n",
       " [0.5102040816326531, 0.36666666666666664],\n",
       " [0.7551020408163265, 0.4666666666666667],\n",
       " [0.32653061224489793, 0.23333333333333334],\n",
       " [0.24489795918367346, 0.23333333333333334],\n",
       " [0.4897959183673469, 0.5],\n",
       " [0.673469387755102, 0.5],\n",
       " [0.4489795918367347, 0.4666666666666667],\n",
       " [0.6326530612244898, 0.7166666666666667],\n",
       " [0.42857142857142855, 0.2833333333333333],\n",
       " [0.7959183673469388, 0.7333333333333333],\n",
       " [0.6530612244897959, 0.45],\n",
       " [0.6938775510204082, 0.5666666666666667],\n",
       " [0.30612244897959184, 0.3],\n",
       " [0.6122448979591837, 0.48333333333333334],\n",
       " [0.3877551020408163, 0.3333333333333333],\n",
       " [0.3469387755102041, 0.4],\n",
       " [0.6122448979591837, 0.4666666666666667],\n",
       " [0.5918367346938775, 0.45],\n",
       " [0.5306122448979592, 0.36666666666666664],\n",
       " [0.7755102040816326, 0.6666666666666666],\n",
       " [0.40816326530612246, 0.3333333333333333],\n",
       " [0.6326530612244898, 0.48333333333333334],\n",
       " [0.6938775510204082, 0.5833333333333334],\n",
       " [0.6122448979591837, 0.5166666666666667],\n",
       " [0.3877551020408163, 0.3333333333333333],\n",
       " [0.32653061224489793, 0.25],\n",
       " [0.7346938775510204, 0.5833333333333334],\n",
       " [0.673469387755102, 0.6166666666666667],\n",
       " [0.2857142857142857, 0.26666666666666666],\n",
       " [0.40816326530612246, 0.4166666666666667],\n",
       " [0.5306122448979592, 0.48333333333333334],\n",
       " [0.6326530612244898, 0.5333333333333333],\n",
       " [0.673469387755102, 0.7166666666666667],\n",
       " [0.4489795918367347, 0.3],\n",
       " [0.5102040816326531, 0.55],\n",
       " [0.46938775510204084, 0.55],\n",
       " [0.4897959183673469, 0.43333333333333335],\n",
       " [0.6326530612244898, 0.48333333333333334],\n",
       " [0.3877551020408163, 0.5],\n",
       " [0.3877551020408163, 0.35],\n",
       " [0.46938775510204084, 0.4],\n",
       " [0.5714285714285714, 0.5333333333333333],\n",
       " [0.30612244897959184, 0.2833333333333333],\n",
       " [0.32653061224489793, 0.26666666666666666],\n",
       " [0.6530612244897959, 0.7],\n",
       " [0.5714285714285714, 0.55],\n",
       " [0.5306122448979592, 0.4666666666666667],\n",
       " [0.2857142857142857, 0.16666666666666666],\n",
       " [0.24489795918367346, 0.25],\n",
       " [0.5918367346938775, 0.5],\n",
       " [0.4489795918367347, 0.21666666666666667],\n",
       " [0.6938775510204082, 0.55],\n",
       " [0.7959183673469388, 0.6666666666666666],\n",
       " [0.2857142857142857, 0.21666666666666667],\n",
       " [0.7551020408163265, 0.7],\n",
       " [0.7142857142857143, 0.5666666666666667],\n",
       " [0.3877551020408163, 0.4666666666666667],\n",
       " [0.7346938775510204, 0.5666666666666667],\n",
       " [0.7346938775510204, 0.55],\n",
       " [0.2653061224489796, 0.2],\n",
       " [0.32653061224489793, 0.3],\n",
       " [0.6326530612244898, 0.5166666666666667],\n",
       " [0.673469387755102, 0.6333333333333333],\n",
       " [0.3673469387755102, 0.31666666666666665],\n",
       " [0.32653061224489793, 0.23333333333333334],\n",
       " [0.8163265306122449, 0.65],\n",
       " [0.5102040816326531, 0.4166666666666667],\n",
       " [0.2653061224489796, 0.25],\n",
       " [0.6530612244897959, 0.6],\n",
       " [0.4489795918367347, 0.36666666666666664],\n",
       " [0.5306122448979592, 0.38333333333333336],\n",
       " [0.2653061224489796, 0.36666666666666664],\n",
       " [0.6326530612244898, 0.5],\n",
       " [0.8163265306122449, 0.7],\n",
       " [0.5306122448979592, 0.4],\n",
       " [0.7142857142857143, 0.6666666666666666],\n",
       " [0.5714285714285714, 0.5166666666666667],\n",
       " [0.3877551020408163, 0.2],\n",
       " [0.3673469387755102, 0.36666666666666664],\n",
       " [0.46938775510204084, 0.4],\n",
       " [0.673469387755102, 0.6333333333333333],\n",
       " [0.4897959183673469, 0.3333333333333333],\n",
       " [0.6938775510204082, 0.5833333333333334],\n",
       " [0.5102040816326531, 0.5333333333333333],\n",
       " [0.3877551020408163, 0.3333333333333333],\n",
       " [0.5918367346938775, 0.5],\n",
       " [0.42857142857142855, 0.4166666666666667],\n",
       " [0.3673469387755102, 0.5166666666666667],\n",
       " [0.3877551020408163, 0.3333333333333333],\n",
       " [0.5102040816326531, 0.43333333333333335],\n",
       " [0.6122448979591837, 0.4666666666666667],\n",
       " [0.5714285714285714, 0.4666666666666667],\n",
       " [0.5714285714285714, 0.4],\n",
       " [0.6326530612244898, 0.5],\n",
       " [0.46938775510204084, 0.3333333333333333],\n",
       " [0.4489795918367347, 0.2833333333333333],\n",
       " [0.5714285714285714, 0.5333333333333333],\n",
       " [0.32653061224489793, 0.26666666666666666],\n",
       " [0.3877551020408163, 0.26666666666666666],\n",
       " [0.4897959183673469, 0.4166666666666667],\n",
       " [0.673469387755102, 0.5666666666666667],\n",
       " [0.5918367346938775, 0.5333333333333333],\n",
       " [0.3673469387755102, 0.35],\n",
       " [0.6530612244897959, 0.5],\n",
       " [0.42857142857142855, 0.45],\n",
       " [0.5102040816326531, 0.4166666666666667],\n",
       " [0.2857142857142857, 0.31666666666666665],\n",
       " [0.5714285714285714, 0.43333333333333335],\n",
       " [0.5510204081632653, 0.4],\n",
       " [0.7346938775510204, 0.6666666666666666],\n",
       " [0.6122448979591837, 0.55],\n",
       " [0.5102040816326531, 0.48333333333333334],\n",
       " [0.7551020408163265, 0.4666666666666667],\n",
       " [0.7142857142857143, 0.65],\n",
       " [0.2857142857142857, 0.35],\n",
       " [0.46938775510204084, 0.38333333333333336],\n",
       " [0.42857142857142855, 0.5],\n",
       " [0.5510204081632653, 0.4666666666666667],\n",
       " [0.5102040816326531, 0.3],\n",
       " [0.5306122448979592, 0.4],\n",
       " [0.3469387755102041, 0.2],\n",
       " [0.4897959183673469, 0.43333333333333335],\n",
       " [0.6530612244897959, 0.5833333333333334],\n",
       " [0.6122448979591837, 0.5],\n",
       " [0.4897959183673469, 0.45],\n",
       " [0.8367346938775511, 0.5666666666666667],\n",
       " [0.3877551020408163, 0.2833333333333333],\n",
       " [0.673469387755102, 0.5666666666666667],\n",
       " [0.3877551020408163, 0.3333333333333333],\n",
       " [0.3673469387755102, 0.36666666666666664],\n",
       " [0.5714285714285714, 0.45],\n",
       " [0.5918367346938775, 0.5833333333333334],\n",
       " [0.46938775510204084, 0.45],\n",
       " [0.673469387755102, 0.5333333333333333],\n",
       " [0.6122448979591837, 0.4166666666666667],\n",
       " [0.7346938775510204, 0.6],\n",
       " [0.6122448979591837, 0.6],\n",
       " [0.6326530612244898, 0.5166666666666667],\n",
       " [0.2653061224489796, 0.2833333333333333],\n",
       " [0.5714285714285714, 0.48333333333333334],\n",
       " [0.32653061224489793, 0.3333333333333333],\n",
       " [0.3877551020408163, 0.45],\n",
       " [0.42857142857142855, 0.43333333333333335],\n",
       " [0.6938775510204082, 0.7],\n",
       " [0.6530612244897959, 0.45],\n",
       " [0.6938775510204082, 0.4],\n",
       " [0.6326530612244898, 0.6833333333333333],\n",
       " [0.5714285714285714, 0.4166666666666667],\n",
       " [0.5510204081632653, 0.43333333333333335],\n",
       " [0.3469387755102041, 0.26666666666666666],\n",
       " [0.6326530612244898, 0.4666666666666667],\n",
       " [0.5714285714285714, 0.45],\n",
       " [0.7755102040816326, 0.5833333333333334],\n",
       " [0.6530612244897959, 0.6166666666666667],\n",
       " [0.42857142857142855, 0.4166666666666667],\n",
       " [0.5918367346938775, 0.5],\n",
       " [0.3469387755102041, 0.2833333333333333],\n",
       " [0.5306122448979592, 0.35],\n",
       " [0.6122448979591837, 0.5333333333333333],\n",
       " [0.3469387755102041, 0.3333333333333333],\n",
       " [0.4897959183673469, 0.5],\n",
       " [0.32653061224489793, 0.31666666666666665],\n",
       " [0.30612244897959184, 0.21666666666666667],\n",
       " [0.5102040816326531, 0.5333333333333333],\n",
       " [0.30612244897959184, 0.21666666666666667],\n",
       " [0.6530612244897959, 0.55],\n",
       " [0.6530612244897959, 0.5666666666666667],\n",
       " [0.5102040816326531, 0.3333333333333333],\n",
       " [0.3877551020408163, 0.3],\n",
       " [0.6530612244897959, 0.45],\n",
       " [0.6326530612244898, 0.5166666666666667],\n",
       " [0.7142857142857143, 0.65],\n",
       " [0.40816326530612246, 0.36666666666666664],\n",
       " [0.5714285714285714, 0.4166666666666667],\n",
       " [0.4897959183673469, 0.43333333333333335],\n",
       " [0.6326530612244898, 0.5],\n",
       " [0.40816326530612246, 0.4],\n",
       " [0.5510204081632653, 0.45],\n",
       " [0.4489795918367347, 0.38333333333333336],\n",
       " [0.5714285714285714, 0.4],\n",
       " [0.4897959183673469, 0.38333333333333336],\n",
       " [0.22448979591836735, 0.21666666666666667],\n",
       " [0.6122448979591837, 0.5333333333333333],\n",
       " [0.6326530612244898, 0.48333333333333334],\n",
       " [0.4489795918367347, 0.4],\n",
       " [0.5918367346938775, 0.5833333333333334],\n",
       " [0.5510204081632653, 0.4],\n",
       " [0.6530612244897959, 0.45],\n",
       " [0.5102040816326531, 0.45],\n",
       " [0.3673469387755102, 0.3],\n",
       " [0.6530612244897959, 0.45],\n",
       " [0.673469387755102, 0.5833333333333334],\n",
       " [0.5102040816326531, 0.4166666666666667],\n",
       " [0.40816326530612246, 0.26666666666666666],\n",
       " [0.6122448979591837, 0.5666666666666667],\n",
       " [0.4897959183673469, 0.35],\n",
       " [0.4897959183673469, 0.4166666666666667],\n",
       " [0.4897959183673469, 0.4166666666666667],\n",
       " [0.5306122448979592, 0.3333333333333333],\n",
       " [0.6530612244897959, 0.5666666666666667],\n",
       " [0.5102040816326531, 0.5],\n",
       " [0.6122448979591837, 0.36666666666666664],\n",
       " [0.32653061224489793, 0.3333333333333333],\n",
       " [0.5510204081632653, 0.4666666666666667],\n",
       " [0.6530612244897959, 0.5333333333333333],\n",
       " [0.4897959183673469, 0.45],\n",
       " [0.3877551020408163, 0.3333333333333333],\n",
       " [0.46938775510204084, 0.3333333333333333],\n",
       " [0.5714285714285714, 0.4666666666666667],\n",
       " [0.42857142857142855, 0.38333333333333336],\n",
       " [0.2857142857142857, 0.2833333333333333],\n",
       " [0.7755102040816326, 0.5166666666666667],\n",
       " [0.7142857142857143, 0.5333333333333333],\n",
       " [0.24489795918367346, 0.2833333333333333],\n",
       " [0.5306122448979592, 0.2833333333333333],\n",
       " [0.7142857142857143, 0.6833333333333333],\n",
       " [0.5918367346938775, 0.4666666666666667],\n",
       " [0.6122448979591837, 0.45],\n",
       " [0.3673469387755102, 0.21666666666666667],\n",
       " [0.3673469387755102, 0.2833333333333333],\n",
       " [0.22448979591836735, 0.15],\n",
       " [0.673469387755102, 0.6333333333333333],\n",
       " [0.5714285714285714, 0.5333333333333333],\n",
       " [0.5918367346938775, 0.5],\n",
       " [0.7959183673469388, 0.5],\n",
       " [0.5714285714285714, 0.55],\n",
       " [0.6530612244897959, 0.55],\n",
       " [0.6326530612244898, 0.5333333333333333],\n",
       " [0.4897959183673469, 0.26666666666666666],\n",
       " [0.6530612244897959, 0.45],\n",
       " [0.46938775510204084, 0.3333333333333333],\n",
       " [0.5306122448979592, 0.5166666666666667],\n",
       " [0.7142857142857143, 0.43333333333333335],\n",
       " [0.5306122448979592, 0.45],\n",
       " [0.4489795918367347, 0.3333333333333333],\n",
       " [0.4489795918367347, 0.4166666666666667],\n",
       " [0.4489795918367347, 0.43333333333333335],\n",
       " [0.5306122448979592, 0.43333333333333335],\n",
       " [0.6326530612244898, 0.5333333333333333],\n",
       " [0.6326530612244898, 0.5166666666666667],\n",
       " [0.6938775510204082, 0.5],\n",
       " [0.7755102040816326, 0.7333333333333333],\n",
       " [0.46938775510204084, 0.4166666666666667],\n",
       " [0.40816326530612246, 0.55],\n",
       " [0.6530612244897959, 0.55],\n",
       " [0.42857142857142855, 0.3333333333333333],\n",
       " [0.3673469387755102, 0.38333333333333336],\n",
       " [0.8163265306122449, 0.65],\n",
       " [0.6122448979591837, 0.4666666666666667],\n",
       " [0.6326530612244898, 0.6833333333333333],\n",
       " [0.6530612244897959, 0.36666666666666664],\n",
       " [0.6326530612244898, 0.6333333333333333],\n",
       " [0.5102040816326531, 0.5],\n",
       " [0.7551020408163265, 0.6666666666666666],\n",
       " [0.6326530612244898, 0.7],\n",
       " [0.5918367346938775, 0.5],\n",
       " [0.46938775510204084, 0.43333333333333335],\n",
       " [0.5510204081632653, 0.48333333333333334],\n",
       " [0.3673469387755102, 0.43333333333333335],\n",
       " [0.5714285714285714, 0.5],\n",
       " [0.5714285714285714, 0.55],\n",
       " [0.8571428571428571, 0.6833333333333333],\n",
       " [0.5102040816326531, 0.4],\n",
       " [0.7346938775510204, 0.6],\n",
       " [0.5510204081632653, 0.38333333333333336],\n",
       " [0.4897959183673469, 0.43333333333333335],\n",
       " [0.5510204081632653, 0.5],\n",
       " [0.20408163265306123, 0.21666666666666667],\n",
       " [0.1836734693877551, 0.21666666666666667],\n",
       " [0.5918367346938775, 0.5166666666666667],\n",
       " [0.6122448979591837, 0.5166666666666667],\n",
       " [0.6938775510204082, 0.6166666666666667],\n",
       " [0.40816326530612246, 0.3333333333333333],\n",
       " [0.7959183673469388, 0.5833333333333334],\n",
       " [0.4897959183673469, 0.36666666666666664],\n",
       " [0.5918367346938775, 0.5],\n",
       " [0.46938775510204084, 0.3333333333333333],\n",
       " [0.6326530612244898, 0.6833333333333333],\n",
       " [0.40816326530612246, 0.4166666666666667],\n",
       " [0.3469387755102041, 0.35],\n",
       " [0.4897959183673469, 0.38333333333333336],\n",
       " [0.5306122448979592, 0.5],\n",
       " [0.5102040816326531, 0.5],\n",
       " [0.6326530612244898, 0.5],\n",
       " [0.8163265306122449, 0.4166666666666667],\n",
       " [0.42857142857142855, 0.4],\n",
       " [0.46938775510204084, 0.7],\n",
       " [0.6122448979591837, 0.5],\n",
       " [0.7755102040816326, 0.5166666666666667],\n",
       " [0.6938775510204082, 0.5],\n",
       " [0.32653061224489793, 0.26666666666666666],\n",
       " [0.7142857142857143, 0.5666666666666667],\n",
       " [0.7755102040816326, 0.5833333333333334],\n",
       " [0.5306122448979592, 0.45],\n",
       " [0.46938775510204084, 0.4166666666666667],\n",
       " [0.5102040816326531, 0.45],\n",
       " [0.6530612244897959, 0.5666666666666667],\n",
       " [0.30612244897959184, 0.18333333333333332],\n",
       " [0.46938775510204084, 0.48333333333333334],\n",
       " [0.5714285714285714, 0.43333333333333335],\n",
       " [0.42857142857142855, 0.36666666666666664],\n",
       " [0.5306122448979592, 0.4166666666666667],\n",
       " [0.4489795918367347, 0.25],\n",
       " [0.42857142857142855, 0.4666666666666667],\n",
       " [0.5714285714285714, 0.5],\n",
       " [0.8163265306122449, 0.5833333333333334],\n",
       " [0.6122448979591837, 0.5666666666666667],\n",
       " [0.5102040816326531, 0.43333333333333335],\n",
       " [0.2857142857142857, 0.38333333333333336],\n",
       " [0.6530612244897959, 0.5166666666666667],\n",
       " [0.16326530612244897, 0.16666666666666666],\n",
       " [0.5102040816326531, 0.43333333333333335],\n",
       " [0.673469387755102, 0.6333333333333333],\n",
       " [0.5510204081632653, 0.55],\n",
       " [0.46938775510204084, 0.43333333333333335],\n",
       " [0.5918367346938775, 0.48333333333333334],\n",
       " [0.6122448979591837, 0.55],\n",
       " [0.42857142857142855, 0.4166666666666667],\n",
       " [0.4489795918367347, 0.31666666666666665],\n",
       " [0.6938775510204082, 0.5833333333333334],\n",
       " [0.42857142857142855, 0.4166666666666667],\n",
       " [0.4489795918367347, 0.31666666666666665],\n",
       " [0.40816326530612246, 0.38333333333333336],\n",
       " [0.6326530612244898, 0.36666666666666664],\n",
       " [0.4897959183673469, 0.36666666666666664],\n",
       " [0.5510204081632653, 0.36666666666666664],\n",
       " [0.7551020408163265, 0.5333333333333333],\n",
       " [0.7346938775510204, 0.7166666666666667],\n",
       " [0.6122448979591837, 0.55],\n",
       " [0.7959183673469388, 0.7333333333333333],\n",
       " [0.6122448979591837, 0.45],\n",
       " [0.3877551020408163, 0.3333333333333333],\n",
       " [0.46938775510204084, 0.36666666666666664],\n",
       " [0.5306122448979592, 0.4166666666666667],\n",
       " [0.3469387755102041, 0.2833333333333333],\n",
       " [0.3673469387755102, 0.4666666666666667],\n",
       " [0.6122448979591837, 0.43333333333333335],\n",
       " [0.42857142857142855, 0.31666666666666665],\n",
       " [0.5510204081632653, 0.43333333333333335],\n",
       " [0.5102040816326531, 0.38333333333333336],\n",
       " [0.42857142857142855, 0.3],\n",
       " [0.5714285714285714, 0.4],\n",
       " [0.8163265306122449, 0.6666666666666666],\n",
       " [0.42857142857142855, 0.31666666666666665],\n",
       " [0.4897959183673469, 0.36666666666666664],\n",
       " [0.7142857142857143, 0.6333333333333333],\n",
       " [0.2857142857142857, 0.23333333333333334],\n",
       " [0.5714285714285714, 0.5],\n",
       " [0.673469387755102, 0.55],\n",
       " [0.4897959183673469, 0.31666666666666665],\n",
       " [0.6122448979591837, 0.48333333333333334],\n",
       " [0.6122448979591837, 0.43333333333333335],\n",
       " [0.42857142857142855, 0.38333333333333336],\n",
       " [0.4489795918367347, 0.45],\n",
       " [0.7142857142857143, 0.7333333333333333],\n",
       " [0.7346938775510204, 0.6],\n",
       " [0.5714285714285714, 0.4666666666666667],\n",
       " [0.3469387755102041, 0.26666666666666666],\n",
       " [0.6122448979591837, 0.43333333333333335],\n",
       " [0.32653061224489793, 0.35],\n",
       " [0.6938775510204082, 0.6333333333333333],\n",
       " [0.5918367346938775, 0.4166666666666667],\n",
       " [0.6122448979591837, 0.55],\n",
       " [0.3877551020408163, 0.31666666666666665],\n",
       " [0.3877551020408163, 0.31666666666666665],\n",
       " [0.3877551020408163, 0.38333333333333336],\n",
       " [0.5918367346938775, 0.48333333333333334],\n",
       " [0.5102040816326531, 0.35],\n",
       " [0.16326530612244897, 0.23333333333333334],\n",
       " [0.40816326530612246, 0.3],\n",
       " [0.6938775510204082, 0.6666666666666666],\n",
       " [0.32653061224489793, 0.2833333333333333],\n",
       " [0.2857142857142857, 0.3333333333333333],\n",
       " [0.4897959183673469, 0.38333333333333336],\n",
       " [0.46938775510204084, 0.3333333333333333],\n",
       " [0.4489795918367347, 0.38333333333333336],\n",
       " [0.6326530612244898, 0.45],\n",
       " [0.6326530612244898, 0.5],\n",
       " [0.5918367346938775, 0.6166666666666667],\n",
       " [0.5306122448979592, 0.4666666666666667],\n",
       " [0.7346938775510204, 0.5166666666666667],\n",
       " [0.673469387755102, 0.6166666666666667],\n",
       " [0.7551020408163265, 0.4666666666666667],\n",
       " [0.5918367346938775, 0.6333333333333333],\n",
       " [0.5714285714285714, 0.4],\n",
       " [0.5510204081632653, 0.5833333333333334],\n",
       " [0.6530612244897959, 0.5666666666666667],\n",
       " [0.3469387755102041, 0.21666666666666667],\n",
       " [0.5714285714285714, 0.4666666666666667],\n",
       " [0.4897959183673469, 0.43333333333333335],\n",
       " [0.32653061224489793, 0.35],\n",
       " [0.6530612244897959, 0.5833333333333334],\n",
       " [0.5714285714285714, 0.5333333333333333],\n",
       " [0.6122448979591837, 0.5166666666666667],\n",
       " [0.6326530612244898, 0.5833333333333334],\n",
       " [0.5306122448979592, 0.43333333333333335],\n",
       " [0.2653061224489796, 0.23333333333333334],\n",
       " [0.5510204081632653, 0.5],\n",
       " [0.6122448979591837, 0.6],\n",
       " [0.5918367346938775, 0.4],\n",
       " [0.673469387755102, 0.5],\n",
       " [0.5102040816326531, 0.5833333333333334],\n",
       " [0.6326530612244898, 0.55],\n",
       " [0.5714285714285714, 0.5333333333333333],\n",
       " [0.673469387755102, 0.5833333333333334],\n",
       " [0.5918367346938775, 0.5],\n",
       " [0.5918367346938775, 0.35],\n",
       " [0.40816326530612246, 0.43333333333333335],\n",
       " [0.6122448979591837, 0.4166666666666667],\n",
       " [0.4489795918367347, 0.4666666666666667],\n",
       " [0.4489795918367347, 0.36666666666666664],\n",
       " [0.5306122448979592, 0.3333333333333333],\n",
       " [0.30612244897959184, 0.2],\n",
       " [0.5102040816326531, 0.35],\n",
       " [0.5714285714285714, 0.4166666666666667],\n",
       " [0.5306122448979592, 0.36666666666666664],\n",
       " [0.3673469387755102, 0.26666666666666666],\n",
       " [0.3877551020408163, 0.31666666666666665],\n",
       " [0.6530612244897959, 0.45],\n",
       " [0.7551020408163265, 0.48333333333333334],\n",
       " [0.5918367346938775, 0.48333333333333334],\n",
       " [0.6530612244897959, 0.5833333333333334],\n",
       " [0.40816326530612246, 0.43333333333333335],\n",
       " [0.3469387755102041, 0.4166666666666667],\n",
       " [0.3877551020408163, 0.38333333333333336],\n",
       " [0.7142857142857143, 0.5166666666666667],\n",
       " [0.6530612244897959, 0.45],\n",
       " [0.4489795918367347, 0.4166666666666667],\n",
       " [0.5510204081632653, 0.43333333333333335],\n",
       " [0.5510204081632653, 0.4166666666666667],\n",
       " [0.4897959183673469, 0.3333333333333333],\n",
       " [0.673469387755102, 0.45],\n",
       " [0.5918367346938775, 0.6],\n",
       " [0.42857142857142855, 0.35],\n",
       " [0.7551020408163265, 0.7333333333333333],\n",
       " [0.4897959183673469, 0.45],\n",
       " [0.32653061224489793, 0.3],\n",
       " [0.4897959183673469, 0.4666666666666667],\n",
       " [0.46938775510204084, 0.36666666666666664],\n",
       " [0.4489795918367347, 0.48333333333333334],\n",
       " [0.42857142857142855, 0.45],\n",
       " [0.4489795918367347, 0.38333333333333336],\n",
       " [0.6326530612244898, 0.5666666666666667],\n",
       " [0.42857142857142855, 0.3333333333333333],\n",
       " [0.4897959183673469, 0.5],\n",
       " [0.42857142857142855, 0.31666666666666665],\n",
       " [0.6122448979591837, 0.55],\n",
       " [0.6326530612244898, 0.5],\n",
       " [0.6122448979591837, 0.43333333333333335],\n",
       " [0.7346938775510204, 0.6166666666666667],\n",
       " [0.3469387755102041, 0.4166666666666667],\n",
       " [0.3673469387755102, 0.36666666666666664],\n",
       " [0.5510204081632653, 0.4666666666666667],\n",
       " [0.6122448979591837, 0.5833333333333334],\n",
       " [0.3877551020408163, 0.3],\n",
       " [0.32653061224489793, 0.3],\n",
       " [0.6938775510204082, 0.5],\n",
       " [0.5306122448979592, 0.45],\n",
       " [0.3673469387755102, 0.31666666666666665],\n",
       " [0.6326530612244898, 0.4666666666666667],\n",
       " [0.7142857142857143, 0.65],\n",
       " [0.30612244897959184, 0.23333333333333334],\n",
       " [0.4897959183673469, 0.55],\n",
       " [0.6122448979591837, 0.48333333333333334],\n",
       " [0.40816326530612246, 0.36666666666666664],\n",
       " [0.5306122448979592, 0.4],\n",
       " [0.6326530612244898, 0.65],\n",
       " [0.5918367346938775, 0.4666666666666667],\n",
       " [0.7142857142857143, 0.6],\n",
       " [0.6938775510204082, 0.55],\n",
       " [0.40816326530612246, 0.5333333333333333],\n",
       " [0.4489795918367347, 0.45],\n",
       " [0.5306122448979592, 0.5],\n",
       " [0.5714285714285714, 0.4666666666666667],\n",
       " [0.673469387755102, 0.65],\n",
       " [0.5918367346938775, 0.48333333333333334],\n",
       " [0.6122448979591837, 0.5],\n",
       " [0.8163265306122449, 0.6],\n",
       " [0.5714285714285714, 0.6333333333333333],\n",
       " [0.3469387755102041, 0.3],\n",
       " [0.30612244897959184, 0.4],\n",
       " [0.2857142857142857, 0.2833333333333333],\n",
       " [0.2653061224489796, 0.31666666666666665],\n",
       " [0.46938775510204084, 0.4],\n",
       " [0.5102040816326531, 0.45],\n",
       " [0.673469387755102, 0.5666666666666667],\n",
       " [0.5918367346938775, 0.4166666666666667],\n",
       " [0.2857142857142857, 0.25],\n",
       " [0.5306122448979592, 0.5166666666666667],\n",
       " [0.42857142857142855, 0.5],\n",
       " [0.5102040816326531, 0.36666666666666664],\n",
       " [0.6326530612244898, 0.5],\n",
       " [0.5102040816326531, 0.45],\n",
       " [0.6938775510204082, 0.55],\n",
       " [0.6326530612244898, 0.5333333333333333],\n",
       " [0.5510204081632653, 0.5166666666666667],\n",
       " [0.42857142857142855, 0.4166666666666667],\n",
       " [0.5306122448979592, 0.48333333333333334],\n",
       " [0.6530612244897959, 0.6333333333333333],\n",
       " [0.6122448979591837, 0.5],\n",
       " [0.40816326530612246, 0.38333333333333336],\n",
       " [0.5306122448979592, 0.48333333333333334],\n",
       " [0.3877551020408163, 0.3333333333333333],\n",
       " [0.6122448979591837, 0.5],\n",
       " [0.40816326530612246, 0.38333333333333336],\n",
       " [0.6938775510204082, 0.55],\n",
       " [0.5918367346938775, 0.43333333333333335],\n",
       " [0.5918367346938775, 0.5],\n",
       " [0.5510204081632653, 0.4],\n",
       " [0.30612244897959184, 0.23333333333333334],\n",
       " [0.7346938775510204, 0.4666666666666667],\n",
       " [0.7346938775510204, 0.6666666666666666],\n",
       " [0.7142857142857143, 0.5],\n",
       " [0.7755102040816326, 0.7],\n",
       " [0.3877551020408163, 0.15],\n",
       " [0.3877551020408163, 0.38333333333333336],\n",
       " [0.3469387755102041, 0.26666666666666666],\n",
       " [0.4489795918367347, 0.3],\n",
       " [0.3877551020408163, 0.36666666666666664],\n",
       " [0.4897959183673469, 0.38333333333333336],\n",
       " [0.3877551020408163, 0.23333333333333334],\n",
       " [0.7346938775510204, 0.6333333333333333],\n",
       " [0.6938775510204082, 0.48333333333333334],\n",
       " [0.6122448979591837, 0.5],\n",
       " [0.673469387755102, 0.6333333333333333],\n",
       " [0.4489795918367347, 0.3],\n",
       " [0.673469387755102, 0.4666666666666667],\n",
       " [0.6122448979591837, 0.5166666666666667],\n",
       " [0.6530612244897959, 0.6],\n",
       " [0.4489795918367347, 0.3],\n",
       " [0.32653061224489793, 0.23333333333333334],\n",
       " [0.673469387755102, 0.4666666666666667],\n",
       " [0.5510204081632653, 0.35],\n",
       " [0.8163265306122449, 0.75],\n",
       " [0.3877551020408163, 0.21666666666666667],\n",
       " [0.5102040816326531, 0.4666666666666667],\n",
       " [0.4489795918367347, 0.3333333333333333],\n",
       " [0.7755102040816326, 0.5666666666666667],\n",
       " [0.5714285714285714, 0.5833333333333334],\n",
       " [0.6530612244897959, 0.4166666666666667],\n",
       " [0.6326530612244898, 0.4],\n",
       " [0.5306122448979592, 0.4],\n",
       " [0.46938775510204084, 0.35],\n",
       " [0.7142857142857143, 0.7166666666666667],\n",
       " [0.5510204081632653, 0.5],\n",
       " [0.5510204081632653, 0.38333333333333336],\n",
       " [0.7959183673469388, 0.7333333333333333],\n",
       " [0.5714285714285714, 0.4],\n",
       " [0.5918367346938775, 0.55],\n",
       " [0.5510204081632653, 0.4],\n",
       " [0.7551020408163265, 0.6166666666666667],\n",
       " [0.6530612244897959, 0.65],\n",
       " [0.3877551020408163, 0.3333333333333333],\n",
       " [0.40816326530612246, 0.31666666666666665],\n",
       " [0.6122448979591837, 0.5666666666666667],\n",
       " [0.5102040816326531, 0.38333333333333336],\n",
       " [0.5714285714285714, 0.5166666666666667],\n",
       " [0.3469387755102041, 0.3],\n",
       " [0.7346938775510204, 0.5833333333333334],\n",
       " [0.6530612244897959, 0.5833333333333334],\n",
       " [0.6326530612244898, 0.5333333333333333],\n",
       " [0.7551020408163265, 0.5666666666666667],\n",
       " [0.5918367346938775, 0.31666666666666665],\n",
       " [0.6530612244897959, 0.5],\n",
       " [0.6326530612244898, 0.48333333333333334],\n",
       " [0.6938775510204082, 0.6333333333333333],\n",
       " [0.6326530612244898, 0.6833333333333333],\n",
       " [0.40816326530612246, 0.2833333333333333],\n",
       " [0.4897959183673469, 0.5],\n",
       " [0.6326530612244898, 0.5],\n",
       " [0.4489795918367347, 0.43333333333333335],\n",
       " [0.5510204081632653, 0.36666666666666664],\n",
       " [0.6938775510204082, 0.45],\n",
       " [0.40816326530612246, 0.4166666666666667],\n",
       " [0.4489795918367347, 0.36666666666666664],\n",
       " [0.6326530612244898, 0.4],\n",
       " [0.46938775510204084, 0.3333333333333333],\n",
       " [0.32653061224489793, 0.4166666666666667],\n",
       " [0.5918367346938775, 0.4166666666666667],\n",
       " [0.7551020408163265, 0.43333333333333335],\n",
       " [0.673469387755102, 0.65],\n",
       " [0.7346938775510204, 0.6333333333333333],\n",
       " [0.6122448979591837, 0.4666666666666667],\n",
       " [0.3877551020408163, 0.5],\n",
       " [0.4897959183673469, 0.43333333333333335],\n",
       " [0.6530612244897959, 0.4166666666666667],\n",
       " [0.5102040816326531, 0.43333333333333335],\n",
       " [0.3469387755102041, 0.3333333333333333],\n",
       " [0.7346938775510204, 0.6],\n",
       " [0.6938775510204082, 0.7166666666666667],\n",
       " [0.5714285714285714, 0.6166666666666667],\n",
       " [0.6530612244897959, 0.5666666666666667],\n",
       " [0.5102040816326531, 0.55],\n",
       " [0.7959183673469388, 0.6666666666666666],\n",
       " [0.5102040816326531, 0.4666666666666667],\n",
       " [0.5714285714285714, 0.5333333333333333],\n",
       " [0.5918367346938775, 0.36666666666666664],\n",
       " [0.5306122448979592, 0.6166666666666667],\n",
       " [0.5510204081632653, 0.5166666666666667],\n",
       " [0.5102040816326531, 0.45],\n",
       " [0.2857142857142857, 0.3],\n",
       " [0.6938775510204082, 0.5666666666666667],\n",
       " [0.2857142857142857, 0.2833333333333333],\n",
       " [0.40816326530612246, 0.3333333333333333],\n",
       " [0.4897959183673469, 0.4166666666666667],\n",
       " [0.3877551020408163, 0.3333333333333333],\n",
       " [0.4489795918367347, 0.3],\n",
       " [0.7551020408163265, 0.6166666666666667],\n",
       " [0.3877551020408163, 0.4166666666666667],\n",
       " [0.4897959183673469, 0.45],\n",
       " [0.7142857142857143, 0.6],\n",
       " [0.5918367346938775, 0.4666666666666667],\n",
       " [0.30612244897959184, 0.45],\n",
       " [0.46938775510204084, 0.35],\n",
       " [0.3673469387755102, 0.31666666666666665],\n",
       " [0.6326530612244898, 0.5333333333333333],\n",
       " [0.4897959183673469, 0.48333333333333334],\n",
       " [0.3877551020408163, 0.45],\n",
       " [0.4897959183673469, 0.4666666666666667],\n",
       " [0.7346938775510204, 0.5833333333333334],\n",
       " [0.7346938775510204, 0.5666666666666667],\n",
       " [0.5918367346938775, 0.5833333333333334],\n",
       " [0.5510204081632653, 0.5],\n",
       " [0.6530612244897959, 0.55],\n",
       " [0.3877551020408163, 0.4166666666666667],\n",
       " [0.5102040816326531, 0.5166666666666667],\n",
       " [0.5714285714285714, 0.5333333333333333],\n",
       " [0.46938775510204084, 0.5],\n",
       " [0.32653061224489793, 0.38333333333333336],\n",
       " [0.46938775510204084, 0.25],\n",
       " [0.4897959183673469, 0.38333333333333336],\n",
       " [0.3877551020408163, 0.36666666666666664],\n",
       " [0.5306122448979592, 0.36666666666666664],\n",
       " [0.5306122448979592, 0.4],\n",
       " [0.42857142857142855, 0.4],\n",
       " [0.42857142857142855, 0.45],\n",
       " [0.5102040816326531, 0.43333333333333335],\n",
       " [0.7551020408163265, 0.6166666666666667],\n",
       " [0.5510204081632653, 0.5],\n",
       " [0.7346938775510204, 0.4],\n",
       " [0.5510204081632653, 0.5333333333333333],\n",
       " [0.5714285714285714, 0.5166666666666667],\n",
       " [0.5918367346938775, 0.38333333333333336],\n",
       " [0.6122448979591837, 0.4666666666666667],\n",
       " [0.3877551020408163, 0.38333333333333336],\n",
       " [0.46938775510204084, 0.45],\n",
       " [0.46938775510204084, 0.38333333333333336],\n",
       " [0.5714285714285714, 0.5333333333333333],\n",
       " [0.7142857142857143, 0.5833333333333334],\n",
       " [0.7959183673469388, 0.75],\n",
       " [0.5510204081632653, 0.48333333333333334],\n",
       " [0.4897959183673469, 0.4666666666666667],\n",
       " [0.5918367346938775, 0.5166666666666667],\n",
       " [0.4897959183673469, 0.5833333333333334],\n",
       " [0.5510204081632653, 0.6666666666666666],\n",
       " [0.5714285714285714, 0.5],\n",
       " [0.6122448979591837, 0.43333333333333335],\n",
       " [0.6938775510204082, 0.5166666666666667],\n",
       " [0.6530612244897959, 0.5333333333333333],\n",
       " [0.7755102040816326, 0.7],\n",
       " [0.5714285714285714, 0.38333333333333336],\n",
       " [0.3877551020408163, 0.31666666666666665],\n",
       " [0.6326530612244898, 0.48333333333333334],\n",
       " [0.5918367346938775, 0.38333333333333336],\n",
       " [0.6530612244897959, 0.5166666666666667],\n",
       " [0.6122448979591837, 0.5666666666666667],\n",
       " [0.8163265306122449, 0.6833333333333333],\n",
       " [0.6122448979591837, 0.36666666666666664],\n",
       " [0.5510204081632653, 0.4166666666666667],\n",
       " [0.46938775510204084, 0.36666666666666664],\n",
       " [0.5714285714285714, 0.36666666666666664],\n",
       " [0.42857142857142855, 0.4],\n",
       " [0.5510204081632653, 0.4666666666666667],\n",
       " [0.4897959183673469, 0.5],\n",
       " [0.46938775510204084, 0.4],\n",
       " [0.6530612244897959, 0.5],\n",
       " [0.7551020408163265, 0.6],\n",
       " [0.6938775510204082, 0.5],\n",
       " [0.5714285714285714, 0.6],\n",
       " [0.32653061224489793, 0.4666666666666667],\n",
       " [0.5510204081632653, 0.5333333333333333],\n",
       " [0.5306122448979592, 0.5],\n",
       " [0.7755102040816326, 0.65],\n",
       " [0.3877551020408163, 0.2833333333333333],\n",
       " [0.4897959183673469, 0.43333333333333335],\n",
       " [0.4489795918367347, 0.5333333333333333],\n",
       " [0.5102040816326531, 0.4666666666666667],\n",
       " [0.46938775510204084, 0.45],\n",
       " [0.6938775510204082, 0.5833333333333334],\n",
       " [0.5918367346938775, 0.5333333333333333],\n",
       " [0.30612244897959184, 0.2],\n",
       " [0.5306122448979592, 0.43333333333333335],\n",
       " [0.30612244897959184, 0.25],\n",
       " [0.4897959183673469, 0.45],\n",
       " [0.3469387755102041, 0.31666666666666665],\n",
       " [0.4489795918367347, 0.38333333333333336],\n",
       " [0.6122448979591837, 0.5666666666666667],\n",
       " [0.5714285714285714, 0.5],\n",
       " [0.2857142857142857, 0.31666666666666665],\n",
       " [0.6122448979591837, 0.5833333333333334],\n",
       " [0.4897959183673469, 0.5333333333333333],\n",
       " [0.4489795918367347, 0.45],\n",
       " [0.3877551020408163, 0.36666666666666664],\n",
       " [0.46938775510204084, 0.4166666666666667],\n",
       " [0.6530612244897959, 0.5833333333333334],\n",
       " [0.5510204081632653, 0.4666666666666667],\n",
       " [0.6326530612244898, 0.5833333333333334],\n",
       " [0.6530612244897959, 0.5],\n",
       " [0.6530612244897959, 0.4666666666666667],\n",
       " [0.46938775510204084, 0.45],\n",
       " [0.5510204081632653, 0.4166666666666667],\n",
       " [0.5102040816326531, 0.4666666666666667],\n",
       " [0.5102040816326531, 0.5],\n",
       " [0.6938775510204082, 0.4666666666666667],\n",
       " [0.7346938775510204, 0.55],\n",
       " [0.6530612244897959, 0.5833333333333334],\n",
       " [0.8163265306122449, 0.6],\n",
       " [0.5918367346938775, 0.4],\n",
       " [0.5918367346938775, 0.43333333333333335],\n",
       " [0.5510204081632653, 0.3333333333333333],\n",
       " [0.22448979591836735, 0.25],\n",
       " [0.3673469387755102, 0.5],\n",
       " [0.40816326530612246, 0.36666666666666664],\n",
       " [0.5918367346938775, 0.65],\n",
       " [0.7346938775510204, 0.6],\n",
       " [0.5306122448979592, 0.2833333333333333],\n",
       " [0.5714285714285714, 0.5166666666666667],\n",
       " [0.40816326530612246, 0.31666666666666665],\n",
       " [0.30612244897959184, 0.38333333333333336],\n",
       " [0.6326530612244898, 0.48333333333333334],\n",
       " [0.6326530612244898, 0.6833333333333333],\n",
       " [0.6938775510204082, 0.6],\n",
       " [0.5918367346938775, 0.4166666666666667],\n",
       " [0.24489795918367346, 0.25],\n",
       " [0.3673469387755102, 0.35],\n",
       " [0.40816326530612246, 0.4166666666666667],\n",
       " [0.6326530612244898, 0.5833333333333334],\n",
       " [0.40816326530612246, 0.3333333333333333],\n",
       " [0.24489795918367346, 0.25],\n",
       " [0.42857142857142855, 0.4166666666666667],\n",
       " [0.3673469387755102, 0.35],\n",
       " [0.5918367346938775, 0.55],\n",
       " [0.7346938775510204, 0.55],\n",
       " [0.40816326530612246, 0.3333333333333333],\n",
       " [0.42857142857142855, 0.26666666666666666],\n",
       " [0.7142857142857143, 0.6],\n",
       " [0.5510204081632653, 0.4666666666666667],\n",
       " [0.5510204081632653, 0.2],\n",
       " [0.24489795918367346, 0.26666666666666666],\n",
       " [0.6326530612244898, 0.43333333333333335],\n",
       " [0.6326530612244898, 0.5],\n",
       " [0.40816326530612246, 0.3333333333333333],\n",
       " [0.3877551020408163, 0.3],\n",
       " [0.5510204081632653, 0.36666666666666664],\n",
       " [0.5306122448979592, 0.5],\n",
       " [0.5918367346938775, 0.4],\n",
       " [0.46938775510204084, 0.36666666666666664],\n",
       " [0.4897959183673469, 0.26666666666666666],\n",
       " [0.5306122448979592, 0.4666666666666667],\n",
       " [0.4489795918367347, 0.3333333333333333],\n",
       " [0.4489795918367347, 0.48333333333333334],\n",
       " [0.4489795918367347, 0.3],\n",
       " [0.3469387755102041, 0.3],\n",
       " ...]"
      ]
     },
     "execution_count": 16,
     "metadata": {},
     "output_type": "execute_result"
    }
   ],
   "source": [
    "data_train = []\n",
    "for item in newData.values:\n",
    "    data_train.append([item[3], item[4]])\n",
    "data_train"
   ]
  },
  {
   "cell_type": "code",
   "execution_count": 17,
   "metadata": {},
   "outputs": [],
   "source": [
    "data_train = np.array(data_train)"
   ]
  },
  {
   "cell_type": "markdown",
   "metadata": {},
   "source": [
    "#### Get Dependen Data"
   ]
  },
  {
   "cell_type": "code",
   "execution_count": 18,
   "metadata": {},
   "outputs": [],
   "source": [
    "label = np.array(newData['body_type'])"
   ]
  },
  {
   "cell_type": "markdown",
   "metadata": {},
   "source": [
    "### Split the Dataset"
   ]
  },
  {
   "cell_type": "code",
   "execution_count": 19,
   "metadata": {},
   "outputs": [],
   "source": [
    "#split dataset 80% for train and 20% test it randomize every to keep the sequential every 700 random data is same as before\n",
    "x_train, x_test, y_train, y_test = train_test_split(data_train, label, test_size = 0.2, random_state = 700)"
   ]
  },
  {
   "cell_type": "markdown",
   "metadata": {},
   "source": [
    "## Naive Bayes"
   ]
  },
  {
   "cell_type": "markdown",
   "metadata": {},
   "source": [
    "#### Make Naive Bayes Classifier"
   ]
  },
  {
   "cell_type": "code",
   "execution_count": 20,
   "metadata": {},
   "outputs": [],
   "source": [
    "classifierNB = ComplementNB()"
   ]
  },
  {
   "cell_type": "markdown",
   "metadata": {},
   "source": [
    "#### Predict datatest using the NB Model"
   ]
  },
  {
   "cell_type": "code",
   "execution_count": 21,
   "metadata": {},
   "outputs": [
    {
     "data": {
      "text/plain": [
       "ComplementNB(alpha=1.0, class_prior=None, fit_prior=True, norm=False)"
      ]
     },
     "execution_count": 21,
     "metadata": {},
     "output_type": "execute_result"
    }
   ],
   "source": [
    "classifierNB.fit(x_train, y_train)"
   ]
  },
  {
   "cell_type": "code",
   "execution_count": 22,
   "metadata": {},
   "outputs": [],
   "source": [
    "hasilNB = classifierNB.predict(x_test)"
   ]
  },
  {
   "cell_type": "markdown",
   "metadata": {},
   "source": [
    "#### Evaluate Model"
   ]
  },
  {
   "cell_type": "code",
   "execution_count": 23,
   "metadata": {},
   "outputs": [
    {
     "name": "stdout",
     "output_type": "stream",
     "text": [
      "              precision    recall  f1-score   support\n",
      "\n",
      "        Lean       0.52      0.64      0.57      1311\n",
      "      Normal       0.67      0.64      0.66      2108\n",
      "      Stocky       0.00      0.00      0.00       206\n",
      "\n",
      "    accuracy                           0.60      3625\n",
      "   macro avg       0.40      0.43      0.41      3625\n",
      "weighted avg       0.58      0.60      0.59      3625\n",
      "\n"
     ]
    },
    {
     "name": "stderr",
     "output_type": "stream",
     "text": [
      "C:\\Users\\ASUS\\Anaconda3\\lib\\site-packages\\sklearn\\metrics\\_classification.py:1272: UndefinedMetricWarning: Precision and F-score are ill-defined and being set to 0.0 in labels with no predicted samples. Use `zero_division` parameter to control this behavior.\n",
      "  _warn_prf(average, modifier, msg_start, len(result))\n"
     ]
    }
   ],
   "source": [
    "print(classification_report(y_test, hasilNB))"
   ]
  },
  {
   "cell_type": "code",
   "execution_count": 24,
   "metadata": {},
   "outputs": [],
   "source": [
    "classes = ['Normal', 'Lean', 'Stocky']"
   ]
  },
  {
   "cell_type": "code",
   "execution_count": 25,
   "metadata": {},
   "outputs": [
    {
     "data": {
      "image/png": "[encoded data removed]",
      "text/plain": [
       "<Figure size 1200x600 with 2 Axes>"
      ]
     },
     "metadata": {
      "needs_background": "light"
     },
     "output_type": "display_data"
    }
   ],
   "source": [
    "conf_matrix = confusion_matrix(y_test, hasilNB)\n",
    "plt.figure(figsize=(12,6))\n",
    "sns.heatmap(conf_matrix, \n",
    "            annot=True,\n",
    "            xticklabels=classes, \n",
    "            yticklabels=classes,\n",
    "            cmap=\"Blues\",\n",
    "            fmt='d')\n",
    "plt.ylabel('Predicted')\n",
    "plt.xlabel('Actual')\n",
    "plt.title('Confusion matrix')\n",
    "plt.show()"
   ]
  },
  {
   "cell_type": "markdown",
   "metadata": {},
   "source": [
    "#### Saving Naive Bayes Model"
   ]
  },
  {
   "cell_type": "code",
   "execution_count": 26,
   "metadata": {},
   "outputs": [
    {
     "data": {
      "text/plain": [
       "['classification-NB.h5']"
      ]
     },
     "execution_count": 26,
     "metadata": {},
     "output_type": "execute_result"
    }
   ],
   "source": [
    "joblib.dump(classifierNB, \"classification-NB.h5\")"
   ]
  },
  {
   "cell_type": "markdown",
   "metadata": {},
   "source": [
    "## SVM"
   ]
  },
  {
   "cell_type": "markdown",
   "metadata": {},
   "source": [
    "#### Make SVM Classifier"
   ]
  },
  {
   "cell_type": "code",
   "execution_count": 27,
   "metadata": {},
   "outputs": [
    {
     "data": {
      "text/plain": [
       "SVC(C=1.0, break_ties=False, cache_size=200, class_weight=None, coef0=0.0,\n",
       "    decision_function_shape='ovo', degree=3, gamma='scale', kernel='rbf',\n",
       "    max_iter=-1, probability=False, random_state=None, shrinking=True,\n",
       "    tol=0.001, verbose=False)"
      ]
     },
     "execution_count": 27,
     "metadata": {},
     "output_type": "execute_result"
    }
   ],
   "source": [
    "classifierSVM = svm.SVC(decision_function_shape='ovo')\n",
    "classifierSVM.fit(x_train, y_train)"
   ]
  },
  {
   "cell_type": "markdown",
   "metadata": {},
   "source": [
    "#### Predict datatest using the SVM Model"
   ]
  },
  {
   "cell_type": "code",
   "execution_count": 28,
   "metadata": {},
   "outputs": [],
   "source": [
    "hasilSVM = classifierSVM.predict(x_test)"
   ]
  },
  {
   "cell_type": "markdown",
   "metadata": {},
   "source": [
    "#### Evaluate Model"
   ]
  },
  {
   "cell_type": "code",
   "execution_count": 29,
   "metadata": {},
   "outputs": [
    {
     "name": "stdout",
     "output_type": "stream",
     "text": [
      "              precision    recall  f1-score   support\n",
      "\n",
      "        Lean       0.62      0.30      0.41      1311\n",
      "      Normal       0.63      0.89      0.74      2108\n",
      "      Stocky       0.00      0.00      0.00       206\n",
      "\n",
      "    accuracy                           0.63      3625\n",
      "   macro avg       0.42      0.40      0.38      3625\n",
      "weighted avg       0.59      0.63      0.58      3625\n",
      "\n"
     ]
    },
    {
     "name": "stderr",
     "output_type": "stream",
     "text": [
      "C:\\Users\\ASUS\\Anaconda3\\lib\\site-packages\\sklearn\\metrics\\_classification.py:1272: UndefinedMetricWarning: Precision and F-score are ill-defined and being set to 0.0 in labels with no predicted samples. Use `zero_division` parameter to control this behavior.\n",
      "  _warn_prf(average, modifier, msg_start, len(result))\n"
     ]
    }
   ],
   "source": [
    "print(classification_report(y_test, hasilSVM))"
   ]
  },
  {
   "cell_type": "code",
   "execution_count": 30,
   "metadata": {},
   "outputs": [
    {
     "data": {
      "image/png": "[encoded data removed]",
      "text/plain": [
       "<Figure size 1200x600 with 2 Axes>"
      ]
     },
     "metadata": {
      "needs_background": "light"
     },
     "output_type": "display_data"
    }
   ],
   "source": [
    "conf_matrix = confusion_matrix(y_test, hasilSVM)\n",
    "plt.figure(figsize=(12,6))\n",
    "sns.heatmap(conf_matrix, \n",
    "            annot=True,\n",
    "            xticklabels=classes, \n",
    "            yticklabels=classes,\n",
    "            cmap=\"Blues\",\n",
    "            fmt='d')\n",
    "plt.ylabel('Predicted')\n",
    "plt.xlabel('Actual')\n",
    "plt.title('Confusion matrix')\n",
    "plt.show()"
   ]
  },
  {
   "cell_type": "markdown",
   "metadata": {},
   "source": [
    "#### Saving SVM Model"
   ]
  },
  {
   "cell_type": "code",
   "execution_count": 31,
   "metadata": {},
   "outputs": [
    {
     "data": {
      "text/plain": [
       "['classification-SVM.h5']"
      ]
     },
     "execution_count": 31,
     "metadata": {},
     "output_type": "execute_result"
    }
   ],
   "source": [
    "joblib.dump(classifierSVM, \"classification-SVM.h5\")"
   ]
  },
  {
   "cell_type": "markdown",
   "metadata": {},
   "source": [
    "## SGD"
   ]
  },
  {
   "cell_type": "markdown",
   "metadata": {},
   "source": [
    "#### Make SVM Classifier"
   ]
  },
  {
   "cell_type": "code",
   "execution_count": 32,
   "metadata": {},
   "outputs": [],
   "source": [
    "classifierSGD = SGDClassifier()"
   ]
  },
  {
   "cell_type": "code",
   "execution_count": 33,
   "metadata": {},
   "outputs": [
    {
     "data": {
      "text/plain": [
       "SGDClassifier(alpha=0.0001, average=False, class_weight=None,\n",
       "              early_stopping=False, epsilon=0.1, eta0=0.0, fit_intercept=True,\n",
       "              l1_ratio=0.15, learning_rate='optimal', loss='hinge',\n",
       "              max_iter=1000, n_iter_no_change=5, n_jobs=None, penalty='l2',\n",
       "              power_t=0.5, random_state=None, shuffle=True, tol=0.001,\n",
       "              validation_fraction=0.1, verbose=0, warm_start=False)"
      ]
     },
     "execution_count": 33,
     "metadata": {},
     "output_type": "execute_result"
    }
   ],
   "source": [
    "classifierSGD.fit(x_train, y_train)"
   ]
  },
  {
   "cell_type": "markdown",
   "metadata": {},
   "source": [
    "#### Predict datatest using the SGD Model"
   ]
  },
  {
   "cell_type": "code",
   "execution_count": 34,
   "metadata": {},
   "outputs": [],
   "source": [
    "hasilSGD = classifierSGD.predict(x_test)"
   ]
  },
  {
   "cell_type": "markdown",
   "metadata": {},
   "source": [
    "#### Evaluate Model"
   ]
  },
  {
   "cell_type": "code",
   "execution_count": 35,
   "metadata": {},
   "outputs": [
    {
     "name": "stdout",
     "output_type": "stream",
     "text": [
      "              precision    recall  f1-score   support\n",
      "\n",
      "        Lean       0.65      0.19      0.30      1311\n",
      "      Normal       0.61      0.94      0.74      2108\n",
      "      Stocky       0.00      0.00      0.00       206\n",
      "\n",
      "    accuracy                           0.61      3625\n",
      "   macro avg       0.42      0.38      0.34      3625\n",
      "weighted avg       0.59      0.61      0.54      3625\n",
      "\n"
     ]
    },
    {
     "name": "stderr",
     "output_type": "stream",
     "text": [
      "C:\\Users\\ASUS\\Anaconda3\\lib\\site-packages\\sklearn\\metrics\\_classification.py:1272: UndefinedMetricWarning: Precision and F-score are ill-defined and being set to 0.0 in labels with no predicted samples. Use `zero_division` parameter to control this behavior.\n",
      "  _warn_prf(average, modifier, msg_start, len(result))\n"
     ]
    }
   ],
   "source": [
    "print(classification_report(y_test, hasilSGD))"
   ]
  },
  {
   "cell_type": "code",
   "execution_count": 36,
   "metadata": {},
   "outputs": [
    {
     "data": {
      "image/png": "[encoded data removed]",
      "text/plain": [
       "<Figure size 1200x600 with 2 Axes>"
      ]
     },
     "metadata": {
      "needs_background": "light"
     },
     "output_type": "display_data"
    }
   ],
   "source": [
    "conf_matrix = confusion_matrix(y_test, hasilSGD)\n",
    "plt.figure(figsize=(12,6))\n",
    "sns.heatmap(conf_matrix, \n",
    "            annot=True,\n",
    "            xticklabels=classes, \n",
    "            yticklabels=classes,\n",
    "            cmap=\"Blues\",\n",
    "            fmt='d')\n",
    "plt.ylabel('Predicted')\n",
    "plt.xlabel('Actual')\n",
    "plt.title('Confusion matrix')\n",
    "plt.show()"
   ]
  },
  {
   "cell_type": "markdown",
   "metadata": {},
   "source": [
    "#### Saving SGD Model"
   ]
  },
  {
   "cell_type": "code",
   "execution_count": 37,
   "metadata": {},
   "outputs": [
    {
     "data": {
      "text/plain": [
       "['classification-SGD.h5']"
      ]
     },
     "execution_count": 37,
     "metadata": {},
     "output_type": "execute_result"
    }
   ],
   "source": [
    "joblib.dump(classifierSGD, \"classification-SGD.h5\")"
   ]
  },
  {
   "cell_type": "markdown",
   "metadata": {},
   "source": [
    "## Neural Network ( Multi Layer Percepton)"
   ]
  },
  {
   "cell_type": "markdown",
   "metadata": {},
   "source": [
    "#### Make SVM Classifier"
   ]
  },
  {
   "cell_type": "code",
   "execution_count": 38,
   "metadata": {},
   "outputs": [],
   "source": [
    "# Make neural network layer with 10 hidden layer\n",
    "classifierNN = MLPClassifier(hidden_layer_sizes=(10,))"
   ]
  },
  {
   "cell_type": "code",
   "execution_count": 39,
   "metadata": {},
   "outputs": [
    {
     "data": {
      "text/plain": [
       "MLPClassifier(activation='relu', alpha=0.0001, batch_size='auto', beta_1=0.9,\n",
       "              beta_2=0.999, early_stopping=False, epsilon=1e-08,\n",
       "              hidden_layer_sizes=(10,), learning_rate='constant',\n",
       "              learning_rate_init=0.001, max_fun=15000, max_iter=200,\n",
       "              momentum=0.9, n_iter_no_change=10, nesterovs_momentum=True,\n",
       "              power_t=0.5, random_state=None, shuffle=True, solver='adam',\n",
       "              tol=0.0001, validation_fraction=0.1, verbose=False,\n",
       "              warm_start=False)"
      ]
     },
     "execution_count": 39,
     "metadata": {},
     "output_type": "execute_result"
    }
   ],
   "source": [
    "classifierNN.fit(x_train, y_train)"
   ]
  },
  {
   "cell_type": "markdown",
   "metadata": {},
   "source": [
    "#### Predict datatest using the Neural Network Model"
   ]
  },
  {
   "cell_type": "code",
   "execution_count": 40,
   "metadata": {},
   "outputs": [],
   "source": [
    "hasilNN = classifierNN.predict(x_test)"
   ]
  },
  {
   "cell_type": "markdown",
   "metadata": {},
   "source": [
    "#### Evaluate Model"
   ]
  },
  {
   "cell_type": "code",
   "execution_count": 41,
   "metadata": {},
   "outputs": [
    {
     "name": "stdout",
     "output_type": "stream",
     "text": [
      "              precision    recall  f1-score   support\n",
      "\n",
      "        Lean       0.60      0.41      0.49      1311\n",
      "      Normal       0.64      0.84      0.73      2108\n",
      "      Stocky       0.67      0.01      0.02       206\n",
      "\n",
      "    accuracy                           0.63      3625\n",
      "   macro avg       0.64      0.42      0.41      3625\n",
      "weighted avg       0.63      0.63      0.60      3625\n",
      "\n"
     ]
    }
   ],
   "source": [
    "print(classification_report(y_test, hasilNN))"
   ]
  },
  {
   "cell_type": "code",
   "execution_count": 42,
   "metadata": {},
   "outputs": [
    {
     "data": {
      "image/png": "[encoded data removed]",
      "text/plain": [
       "<Figure size 1200x600 with 2 Axes>"
      ]
     },
     "metadata": {
      "needs_background": "light"
     },
     "output_type": "display_data"
    }
   ],
   "source": [
    "conf_matrix = confusion_matrix(y_test, hasilNN)\n",
    "plt.figure(figsize=(12,6))\n",
    "sns.heatmap(conf_matrix, \n",
    "            annot=True,\n",
    "            xticklabels=classes, \n",
    "            yticklabels=classes,\n",
    "            cmap=\"Blues\",\n",
    "            fmt='d')\n",
    "plt.ylabel('Predicted')\n",
    "plt.xlabel('Actual')\n",
    "plt.title('Confusion matrix')\n",
    "plt.show()"
   ]
  },
  {
   "cell_type": "markdown",
   "metadata": {},
   "source": [
    "#### Saving Neural Network Model"
   ]
  },
  {
   "cell_type": "code",
   "execution_count": 43,
   "metadata": {},
   "outputs": [
    {
     "data": {
      "text/plain": [
       "['classification-NN.h5']"
      ]
     },
     "execution_count": 43,
     "metadata": {},
     "output_type": "execute_result"
    }
   ],
   "source": [
    "joblib.dump(classifierNN, \"classification-NN.h5\")"
   ]
  },
  {
   "cell_type": "markdown",
   "metadata": {},
   "source": [
    "## Conclusion\n",
    "\n",
    "From all experiment that we did we got conclusion that using :\n",
    "1. SVM, and Neural Network model give us accuracy 63%\n",
    "2. Naive Bayes model give 60%\n",
    "3. SGD model give 61 %\n",
    "\n",
    "So we can conclude that SVM and Neural Network give the best model for this experiment"
   ]
  },
  {
   "cell_type": "markdown",
   "metadata": {},
   "source": [
    "<p>Copyright &copy; 2020 <a href=https://www.linkedin.com/in/pratamays/>Pratama Yoga Santosa</a> </p>"
   ]
  }
 ],
 "metadata": {
  "kernelspec": {
   "display_name": "Python 3",
   "language": "python",
   "name": "python3"
  },
  "language_info": {
   "codemirror_mode": {
    "name": "ipython",
    "version": 3
   },
   "file_extension": ".py",
   "mimetype": "text/x-python",
   "name": "python",
   "nbconvert_exporter": "python",
   "pygments_lexer": "ipython3",
   "version": "3.7.1"
  }
 },
 "nbformat": 4,
 "nbformat_minor": 4
}
